{
 "cells": [
  {
   "metadata": {},
   "cell_type": "markdown",
   "source": "# <div style=\"text-align: center; color: cyan\">Train 2</div>",
   "id": "e69c52e7fb77f7e9"
  },
  {
   "metadata": {},
   "cell_type": "markdown",
   "source": "## <div style=\"text-align: center; color: lime\">Setup</div>",
   "id": "20064c5becad95da"
  },
  {
   "metadata": {
    "ExecuteTime": {
     "end_time": "2025-08-27T08:58:10.506654Z",
     "start_time": "2025-08-27T08:58:10.504600Z"
    }
   },
   "cell_type": "code",
   "source": [
    "import os\n",
    "\n",
    "if os.getenv(\"COLAB_RELEASE_TAG\"):\n",
    "    !git clone https://github.com/LiterallyTheOne/Pytorch_Tutorial.git\n",
    "\n",
    "    %cd src/6_train"
   ],
   "id": "fbe194627c1e3370",
   "outputs": [],
   "execution_count": 1
  },
  {
   "metadata": {},
   "cell_type": "markdown",
   "source": "## <div style=\"text-align: center; color: lime\">Imports</div>",
   "id": "48b90b344c828bcf"
  },
  {
   "metadata": {},
   "cell_type": "code",
   "outputs": [],
   "execution_count": null,
   "source": [
    "import torch\n",
    "from torch.utils.data import Dataset, random_split\n",
    "\n",
    "from sklearn.datasets import load_iris\n",
    "from sklearn.model_selection import train_test_split\n",
    "from sklearn.preprocessing import StandardScaler\n",
    "\n",
    "import numpy as np"
   ],
   "id": "ff5d789c3b6074ac"
  },
  {
   "metadata": {},
   "cell_type": "markdown",
   "source": "## <div style=\"text-align: center; color: lime\">Modular train step and validation step</div>",
   "id": "8a18cc6cced2b2ec"
  },
  {
   "metadata": {
    "ExecuteTime": {
     "end_time": "2025-08-24T05:10:35.951485Z",
     "start_time": "2025-08-24T05:10:35.294250Z"
    }
   },
   "cell_type": "code",
   "source": "%run train_v1.py",
   "id": "82742d940367cdc7",
   "outputs": [
    {
     "name": "stdout",
     "output_type": "stream",
     "text": [
      "mps\n",
      "--------------------\n",
      "epoch: 0\n",
      "training average_loss: 1.1738866567611694\n",
      "validation average_loss: 1.1526515483856201\n",
      "validation accuracy: 0.16666666666666666\n",
      "--------------------\n",
      "epoch: 1\n",
      "training average_loss: 1.0959971980615095\n",
      "validation average_loss: 1.076720118522644\n",
      "validation accuracy: 0.13333333333333333\n",
      "--------------------\n",
      "epoch: 2\n",
      "training average_loss: 1.0411990230733699\n",
      "validation average_loss: 1.0212507049242656\n",
      "validation accuracy: 0.5333333333333333\n",
      "--------------------\n",
      "epoch: 3\n",
      "training average_loss: 0.9927879897030917\n",
      "validation average_loss: 0.9612311323483785\n",
      "validation accuracy: 0.6\n",
      "--------------------\n",
      "epoch: 4\n",
      "training average_loss: 0.9457751187411222\n",
      "validation average_loss: 0.8915376663208008\n",
      "validation accuracy: 0.5333333333333333\n"
     ]
    }
   ],
   "execution_count": 2
  },
  {
   "metadata": {
    "ExecuteTime": {
     "end_time": "2025-08-24T05:10:36.094499Z",
     "start_time": "2025-08-24T05:10:35.958990Z"
    }
   },
   "cell_type": "code",
   "source": "%run train_v2.py",
   "id": "2b587f2f07d4edd4",
   "outputs": [
    {
     "name": "stdout",
     "output_type": "stream",
     "text": [
      "mps\n",
      "--------------------\n",
      "epoch: 0\n",
      "train: \n",
      "\tloss: 1.0087\n",
      "\taccuracy: 0.4762\n",
      "validation: \n",
      "\tloss: 0.8719\n",
      "\taccuracy: 0.8000\n",
      "--------------------\n",
      "epoch: 1\n",
      "train: \n",
      "\tloss: 0.9184\n",
      "\taccuracy: 0.6286\n",
      "validation: \n",
      "\tloss: 0.8224\n",
      "\taccuracy: 0.8000\n",
      "--------------------\n",
      "epoch: 2\n",
      "train: \n",
      "\tloss: 0.8568\n",
      "\taccuracy: 0.6286\n",
      "validation: \n",
      "\tloss: 0.7920\n",
      "\taccuracy: 0.8000\n",
      "--------------------\n",
      "epoch: 3\n",
      "train: \n",
      "\tloss: 0.8101\n",
      "\taccuracy: 0.6762\n",
      "validation: \n",
      "\tloss: 0.7389\n",
      "\taccuracy: 0.8000\n",
      "--------------------\n",
      "epoch: 4\n",
      "train: \n",
      "\tloss: 0.7575\n",
      "\taccuracy: 0.7429\n",
      "validation: \n",
      "\tloss: 0.6811\n",
      "\taccuracy: 0.8333\n",
      "--------------------\n",
      "test: \n",
      "\tloss: 0.7422\n",
      "\taccuracy: 0.8667\n"
     ]
    }
   ],
   "execution_count": 3
  },
  {
   "metadata": {},
   "cell_type": "markdown",
   "source": "## <div style=\"text-align: center; color: lime\">Better splitting</div>",
   "id": "7a55a459495afbc2"
  },
  {
   "metadata": {
    "ExecuteTime": {
     "end_time": "2025-08-24T05:10:36.105244Z",
     "start_time": "2025-08-24T05:10:36.102124Z"
    }
   },
   "cell_type": "code",
   "source": [
    "class IRISDataset(Dataset):\n",
    "    def __init__(self, data, target):\n",
    "        super().__init__()\n",
    "        self.data = data\n",
    "        self.target = target\n",
    "\n",
    "    def __len__(self):\n",
    "        return len(self.data)\n",
    "\n",
    "    def __getitem__(self, idx):\n",
    "        data = torch.tensor(self.data[idx]).to(torch.float)\n",
    "        target = torch.tensor(self.target[idx])\n",
    "        return data, target\n",
    "\n",
    "\n",
    "# -------------------[ Load the data ]-------------------\n",
    "iris = load_iris()\n",
    "\n",
    "iris_dataset = IRISDataset(iris.data, iris.target)\n",
    "\n",
    "# -------------------[ Split the data to train, validation, and test ]-------------------\n",
    "g1 = torch.Generator().manual_seed(20)\n",
    "train_data, val_data, test_data = random_split(iris_dataset, [0.7, 0.2, 0.1], g1)"
   ],
   "id": "cc5cebba5d9fa8c2",
   "outputs": [],
   "execution_count": 4
  },
  {
   "metadata": {
    "ExecuteTime": {
     "end_time": "2025-08-24T05:10:36.109939Z",
     "start_time": "2025-08-24T05:10:36.107568Z"
    }
   },
   "cell_type": "code",
   "source": [
    "label_count = {\n",
    "    0: 0,\n",
    "    1: 0,\n",
    "    2: 0,\n",
    "}\n",
    "\n",
    "for data, target in train_data:\n",
    "    label_count[target.item()] += 1\n",
    "\n",
    "print(f\"train label count: {label_count}\")"
   ],
   "id": "db2595a4795ce5cc",
   "outputs": [
    {
     "name": "stdout",
     "output_type": "stream",
     "text": [
      "train label count: {0: 33, 1: 39, 2: 33}\n"
     ]
    }
   ],
   "execution_count": 5
  },
  {
   "metadata": {
    "ExecuteTime": {
     "end_time": "2025-08-24T05:10:36.118951Z",
     "start_time": "2025-08-24T05:10:36.116738Z"
    }
   },
   "cell_type": "code",
   "source": [
    "label_count = {\n",
    "    0: 0,\n",
    "    1: 0,\n",
    "    2: 0,\n",
    "}\n",
    "\n",
    "for data, target in val_data:\n",
    "    label_count[target.item()] += 1\n",
    "\n",
    "print(f\"validation label count: {label_count}\")"
   ],
   "id": "3d0047bbd4fb99de",
   "outputs": [
    {
     "name": "stdout",
     "output_type": "stream",
     "text": [
      "validation label count: {0: 13, 1: 6, 2: 11}\n"
     ]
    }
   ],
   "execution_count": 6
  },
  {
   "metadata": {
    "ExecuteTime": {
     "end_time": "2025-08-24T05:10:36.128239Z",
     "start_time": "2025-08-24T05:10:36.126240Z"
    }
   },
   "cell_type": "code",
   "source": [
    "label_count = {\n",
    "    0: 0,\n",
    "    1: 0,\n",
    "    2: 0,\n",
    "}\n",
    "\n",
    "for data, target in test_data:\n",
    "    label_count[target.item()] += 1\n",
    "\n",
    "print(f\"test label count: {label_count}\")"
   ],
   "id": "ab51c6a3884393ef",
   "outputs": [
    {
     "name": "stdout",
     "output_type": "stream",
     "text": [
      "test label count: {0: 4, 1: 5, 2: 6}\n"
     ]
    }
   ],
   "execution_count": 7
  },
  {
   "metadata": {
    "ExecuteTime": {
     "end_time": "2025-08-24T05:10:36.139377Z",
     "start_time": "2025-08-24T05:10:36.135427Z"
    }
   },
   "cell_type": "code",
   "source": [
    "iris = load_iris()\n",
    "\n",
    "train_subset, val_subset, train_target, val_target = train_test_split(\n",
    "    iris.data,\n",
    "    iris.target,\n",
    "    test_size=0.3,\n",
    "    random_state=42,\n",
    "    stratify=iris.target,\n",
    ")\n",
    "val_subset, test_subset, val_target, test_target = train_test_split(\n",
    "    val_subset,\n",
    "    val_target,\n",
    "    test_size=0.33,\n",
    "    random_state=42,\n",
    "    stratify=val_target,\n",
    ")\n",
    "\n",
    "print(\"size of each subset: \")\n",
    "print(f\"\\ttrain: {train_subset.shape[0]}\")\n",
    "print(f\"\\tval: {val_subset.shape[0]}\")\n",
    "print(f\"\\ttest: {test_subset.shape[0]}\")\n",
    "\n",
    "print(\"target distribution:\")\n",
    "print(f\"\\ttrain: {np.unique(train_target, return_counts=True)}\")\n",
    "print(f\"\\tval: {np.unique(val_target, return_counts=True)}\")\n",
    "print(f\"\\ttest: {np.unique(test_target, return_counts=True)}\")"
   ],
   "id": "90f3958cd7300f06",
   "outputs": [
    {
     "name": "stdout",
     "output_type": "stream",
     "text": [
      "size of each subset: \n",
      "\ttrain: 105\n",
      "\tval: 30\n",
      "\ttest: 15\n",
      "target distribution:\n",
      "\ttrain: (array([0, 1, 2]), array([35, 35, 35]))\n",
      "\tval: (array([0, 1, 2]), array([10, 10, 10]))\n",
      "\ttest: (array([0, 1, 2]), array([5, 5, 5]))\n"
     ]
    }
   ],
   "execution_count": 8
  },
  {
   "metadata": {
    "ExecuteTime": {
     "end_time": "2025-08-24T05:10:36.147486Z",
     "start_time": "2025-08-24T05:10:36.145975Z"
    }
   },
   "cell_type": "code",
   "source": [
    "train_data = IRISDataset(train_subset, train_target)\n",
    "val_data = IRISDataset(val_subset, val_target)\n",
    "test_data = IRISDataset(test_subset, test_target)"
   ],
   "id": "735f3296bfdc0e20",
   "outputs": [],
   "execution_count": 9
  },
  {
   "metadata": {
    "ExecuteTime": {
     "end_time": "2025-08-24T05:10:36.284460Z",
     "start_time": "2025-08-24T05:10:36.149565Z"
    }
   },
   "cell_type": "code",
   "source": "%run train_v3.py",
   "id": "dddc5e8739372fa7",
   "outputs": [
    {
     "name": "stdout",
     "output_type": "stream",
     "text": [
      "mps\n",
      "--------------------\n",
      "epoch: 0\n",
      "train: \n",
      "\tloss: 1.3017\n",
      "\taccuracy: 0.3333\n",
      "validation: \n",
      "\tloss: 1.1956\n",
      "\taccuracy: 0.3333\n",
      "--------------------\n",
      "epoch: 1\n",
      "train: \n",
      "\tloss: 1.1484\n",
      "\taccuracy: 0.3333\n",
      "validation: \n",
      "\tloss: 1.1054\n",
      "\taccuracy: 0.3333\n",
      "--------------------\n",
      "epoch: 2\n",
      "train: \n",
      "\tloss: 1.0816\n",
      "\taccuracy: 0.3619\n",
      "validation: \n",
      "\tloss: 1.0478\n",
      "\taccuracy: 0.3333\n",
      "--------------------\n",
      "epoch: 3\n",
      "train: \n",
      "\tloss: 1.0252\n",
      "\taccuracy: 0.3524\n",
      "validation: \n",
      "\tloss: 0.9994\n",
      "\taccuracy: 0.5000\n",
      "--------------------\n",
      "epoch: 4\n",
      "train: \n",
      "\tloss: 0.9773\n",
      "\taccuracy: 0.6000\n",
      "validation: \n",
      "\tloss: 0.9490\n",
      "\taccuracy: 0.6667\n",
      "--------------------\n",
      "test: \n",
      "\tloss: 0.9289\n",
      "\taccuracy: 0.6667\n"
     ]
    }
   ],
   "execution_count": 10
  },
  {
   "metadata": {},
   "cell_type": "markdown",
   "source": "## <div style=\"text-align: center; color: lime\">Standard Scaler</div>",
   "id": "4f15c5d30278c123"
  },
  {
   "metadata": {
    "ExecuteTime": {
     "end_time": "2025-08-24T05:10:36.288970Z",
     "start_time": "2025-08-24T05:10:36.287100Z"
    }
   },
   "cell_type": "code",
   "source": [
    "print(f\"Mean of the features:\\n\\t {train_subset.mean(axis=0)}\")\n",
    "print(f\"Standard deviation of the features:\\n\\t {train_subset.std(axis=0)}\")"
   ],
   "id": "fc348b92863cabc4",
   "outputs": [
    {
     "name": "stdout",
     "output_type": "stream",
     "text": [
      "Mean of the features:\n",
      "\t [5.87333333 3.0552381  3.7847619  1.20571429]\n",
      "Standard deviation of the features:\n",
      "\t [0.85882164 0.45502087 1.77553646 0.77383751]\n"
     ]
    }
   ],
   "execution_count": 11
  },
  {
   "metadata": {
    "ExecuteTime": {
     "end_time": "2025-08-24T05:10:36.299177Z",
     "start_time": "2025-08-24T05:10:36.296186Z"
    }
   },
   "cell_type": "code",
   "source": [
    "scaler = StandardScaler()\n",
    "scaler.fit(train_subset)\n",
    "\n",
    "train_subset_normalized = scaler.transform(train_subset)\n",
    "val_subset_normalized = scaler.transform(val_subset)\n",
    "test_subset_normalized = scaler.transform(test_subset)\n",
    "\n",
    "print(f\"Mean of the features after scaling:\")\n",
    "print(f\"\\ttrain: {train_subset_normalized.mean(axis=0)}\")\n",
    "print(f\"\\tval: {val_subset_normalized.mean(axis=0)}\")\n",
    "print(f\"\\ttest: {test_subset_normalized.mean(axis=0)}\")\n",
    "print(f\"Standard deviation of the features after scaling:\")\n",
    "print(f\"\\ttrain: {train_subset_normalized.std(axis=0)}\")\n",
    "print(f\"\\tval: {val_subset_normalized.std(axis=0)}\")\n",
    "print(f\"\\ttest: {test_subset_normalized.std(axis=0)}\")"
   ],
   "id": "3859fdd16f0dbe3b",
   "outputs": [
    {
     "name": "stdout",
     "output_type": "stream",
     "text": [
      "Mean of the features after scaling:\n",
      "\ttrain: [ 2.38327876e-15 -1.12145742e-15 -1.37456184e-16 -6.97854473e-17]\n",
      "\tval: [-0.14360762  0.06174494 -0.04398402 -0.02030696]\n",
      "\ttest: [-0.06210059 -0.07744281 -0.06275769 -0.04184464]\n",
      "Standard deviation of the features after scaling:\n",
      "\ttrain: [1. 1. 1. 1.]\n",
      "\tval: [0.88306745 0.81063775 0.97257027 0.93027831]\n",
      "\ttest: [0.80131426 0.8871022  0.96009651 0.9513319 ]\n"
     ]
    }
   ],
   "execution_count": 12
  },
  {
   "metadata": {},
   "cell_type": "code",
   "outputs": [],
   "execution_count": null,
   "source": [
    "train_data = IRISDataset(train_subset_normalized, train_target)\n",
    "val_data = IRISDataset(val_subset_normalized, val_target)\n",
    "test_data = IRISDataset(test_subset_normalized, test_target)"
   ],
   "id": "81c98687a0acd1c9"
  },
  {
   "metadata": {
    "ExecuteTime": {
     "end_time": "2025-08-27T07:50:46.019190Z",
     "start_time": "2025-08-27T07:50:45.826990Z"
    }
   },
   "cell_type": "code",
   "source": "%run train_v4.py",
   "id": "212f87507520f2fe",
   "outputs": [
    {
     "name": "stdout",
     "output_type": "stream",
     "text": [
      "mps\n",
      "--------------------\n",
      "epoch: 0\n",
      "train: \n",
      "\tloss: 1.0162\n",
      "\taccuracy: 0.3810\n",
      "validation: \n",
      "\tloss: 0.9660\n",
      "\taccuracy: 0.5667\n",
      "--------------------\n",
      "epoch: 1\n",
      "train: \n",
      "\tloss: 0.8919\n",
      "\taccuracy: 0.6476\n",
      "validation: \n",
      "\tloss: 0.8754\n",
      "\taccuracy: 0.6667\n",
      "--------------------\n",
      "epoch: 2\n",
      "train: \n",
      "\tloss: 0.7995\n",
      "\taccuracy: 0.6857\n",
      "validation: \n",
      "\tloss: 0.7918\n",
      "\taccuracy: 0.7000\n",
      "--------------------\n",
      "epoch: 3\n",
      "train: \n",
      "\tloss: 0.7132\n",
      "\taccuracy: 0.7238\n",
      "validation: \n",
      "\tloss: 0.7197\n",
      "\taccuracy: 0.7333\n",
      "--------------------\n",
      "epoch: 4\n",
      "train: \n",
      "\tloss: 0.6421\n",
      "\taccuracy: 0.7524\n",
      "validation: \n",
      "\tloss: 0.6616\n",
      "\taccuracy: 0.7333\n",
      "--------------------\n",
      "test: \n",
      "\tloss: 0.6261\n",
      "\taccuracy: 0.7333\n"
     ]
    }
   ],
   "execution_count": 2
  },
  {
   "metadata": {},
   "cell_type": "markdown",
   "source": [
    "<div style=\"text-align: center\">\n",
    "\n",
    "<div>\n",
    "    @LiterallyTheOne — PhD Candidate in Artificial Intelligence\n",
    "</div>\n",
    "\n",
    "<a style=\"margin: 1em\" href=\"https://literallytheone.github.io\">\n",
    "https://literallytheone.github.io\n",
    "</a>\n",
    "\n",
    "</div>\n"
   ],
   "id": "7e5329a75d4f51e3"
  }
 ],
 "metadata": {
  "kernelspec": {
   "display_name": "Python 3",
   "language": "python",
   "name": "python3"
  },
  "language_info": {
   "codemirror_mode": {
    "name": "ipython",
    "version": 2
   },
   "file_extension": ".py",
   "mimetype": "text/x-python",
   "name": "python",
   "nbconvert_exporter": "python",
   "pygments_lexer": "ipython2",
   "version": "2.7.6"
  }
 },
 "nbformat": 4,
 "nbformat_minor": 5
}
