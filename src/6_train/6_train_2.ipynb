{
 "cells": [
  {
   "metadata": {
    "collapsed": true
   },
   "cell_type": "markdown",
   "source": "# <div style=\"text-align: center; color: cyan\">Train 2</div>",
   "id": "41f3c8f5071ef78c"
  },
  {
   "metadata": {},
   "cell_type": "markdown",
   "source": "## <div style=\"text-align: center; color: lime\">Imports</div>",
   "id": "1c492126ad507e8e"
  },
  {
   "metadata": {
    "ExecuteTime": {
     "end_time": "2025-08-21T09:48:01.926422Z",
     "start_time": "2025-08-21T09:48:00.694959Z"
    }
   },
   "cell_type": "code",
   "source": [
    "import torch\n",
    "from torch import nn\n",
    "from torch.optim import Adam\n",
    "from torch.utils.data import Dataset, DataLoader, random_split\n",
    "\n",
    "from sklearn.datasets import load_iris\n",
    "from sklearn.model_selection import train_test_split\n",
    "from sklearn.preprocessing import StandardScaler\n",
    "\n",
    "import numpy as np"
   ],
   "id": "d2afa60a64620442",
   "outputs": [],
   "execution_count": 1
  },
  {
   "metadata": {},
   "cell_type": "markdown",
   "source": "## <div style=\"text-align: center; color: lime\">Modular train step and validation step</div>",
   "id": "9e672158e7d1596"
  },
  {
   "metadata": {},
   "cell_type": "code",
   "source": "%run train_v1.py",
   "id": "683f46244a22672d",
   "outputs": [],
   "execution_count": null
  },
  {
   "metadata": {},
   "cell_type": "code",
   "source": "%run train_v2.py",
   "id": "241c79ec25e46484",
   "outputs": [],
   "execution_count": null
  },
  {
   "metadata": {},
   "cell_type": "markdown",
   "source": "## <div style=\"text-align: center; color: lime\">Better splitting</div>",
   "id": "fc560036d782b7fb"
  },
  {
   "metadata": {
    "ExecuteTime": {
     "end_time": "2025-08-21T09:48:06.677826Z",
     "start_time": "2025-08-21T09:48:06.670702Z"
    }
   },
   "cell_type": "code",
   "source": [
    "class IRISDataset(Dataset):\n",
    "    def __init__(self, data, target):\n",
    "        super().__init__()\n",
    "        self.data = data\n",
    "        self.target = target\n",
    "\n",
    "    def __len__(self):\n",
    "        return len(self.data)\n",
    "\n",
    "    def __getitem__(self, idx):\n",
    "        data = torch.tensor(self.data[idx]).to(torch.float)\n",
    "        target = torch.tensor(self.target[idx])\n",
    "        return data, target\n",
    "\n",
    "\n",
    "# -------------------[ Load the data ]-------------------\n",
    "iris = load_iris()\n",
    "\n",
    "iris_dataset = IRISDataset(iris.data, iris.target)\n",
    "\n",
    "# -------------------[ Split the data to train, validation, and test ]-------------------\n",
    "g1 = torch.Generator().manual_seed(20)\n",
    "train_data, val_data, test_data = random_split(iris_dataset, [0.7, 0.2, 0.1], g1)"
   ],
   "id": "6d182f2ebf9cab13",
   "outputs": [],
   "execution_count": 2
  },
  {
   "metadata": {
    "ExecuteTime": {
     "end_time": "2025-08-21T09:48:07.073921Z",
     "start_time": "2025-08-21T09:48:07.068404Z"
    }
   },
   "cell_type": "code",
   "source": [
    "label_count = {\n",
    "    0: 0,\n",
    "    1: 0,\n",
    "    2: 0,\n",
    "}\n",
    "\n",
    "for data, target in train_data:\n",
    "    label_count[target.item()] += 1\n",
    "\n",
    "print(f\"train label count: {label_count}\")"
   ],
   "id": "78a836e6adb8591a",
   "outputs": [
    {
     "name": "stdout",
     "output_type": "stream",
     "text": [
      "train label count: {0: 33, 1: 39, 2: 33}\n"
     ]
    }
   ],
   "execution_count": 3
  },
  {
   "metadata": {
    "ExecuteTime": {
     "end_time": "2025-08-21T09:48:08.051651Z",
     "start_time": "2025-08-21T09:48:08.046478Z"
    }
   },
   "cell_type": "code",
   "source": [
    "label_count = {\n",
    "    0: 0,\n",
    "    1: 0,\n",
    "    2: 0,\n",
    "}\n",
    "\n",
    "for data, target in val_data:\n",
    "    label_count[target.item()] += 1\n",
    "\n",
    "print(f\"validation label count: {label_count}\")"
   ],
   "id": "86ec484224060623",
   "outputs": [
    {
     "name": "stdout",
     "output_type": "stream",
     "text": [
      "validation label count: {0: 13, 1: 6, 2: 11}\n"
     ]
    }
   ],
   "execution_count": 4
  },
  {
   "metadata": {
    "ExecuteTime": {
     "end_time": "2025-08-21T09:48:08.604792Z",
     "start_time": "2025-08-21T09:48:08.600423Z"
    }
   },
   "cell_type": "code",
   "source": [
    "label_count = {\n",
    "    0: 0,\n",
    "    1: 0,\n",
    "    2: 0,\n",
    "}\n",
    "\n",
    "for data, target in test_data:\n",
    "    label_count[target.item()] += 1\n",
    "\n",
    "print(f\"test label count: {label_count}\")"
   ],
   "id": "c839201360fa8c21",
   "outputs": [
    {
     "name": "stdout",
     "output_type": "stream",
     "text": [
      "test label count: {0: 4, 1: 5, 2: 6}\n"
     ]
    }
   ],
   "execution_count": 5
  },
  {
   "metadata": {
    "ExecuteTime": {
     "end_time": "2025-08-21T09:48:09.138919Z",
     "start_time": "2025-08-21T09:48:09.130804Z"
    }
   },
   "cell_type": "code",
   "source": [
    "iris = load_iris()\n",
    "\n",
    "train_subset, val_subset, train_target, val_target = train_test_split(\n",
    "    iris.data,\n",
    "    iris.target,\n",
    "    test_size=0.3,\n",
    "    random_state=42,\n",
    "    stratify=iris.target,\n",
    ")\n",
    "val_subset, test_subset, val_target, test_target = train_test_split(\n",
    "    val_subset,\n",
    "    val_target,\n",
    "    test_size=0.33,\n",
    "    random_state=42,\n",
    "    stratify=val_target,\n",
    ")\n",
    "\n",
    "print(\"size of each subset: \")\n",
    "print(f\"\\ttrain: {train_subset.shape[0]}\")\n",
    "print(f\"\\tval: {val_subset.shape[0]}\")\n",
    "print(f\"\\ttest: {test_subset.shape[0]}\")\n",
    "\n",
    "print(\"target distribution:\")\n",
    "print(f\"\\ttrain: {np.unique(train_target, return_counts=True)}\")\n",
    "print(f\"\\tval: {np.unique(val_target, return_counts=True)}\")\n",
    "print(f\"\\ttest: {np.unique(test_target, return_counts=True)}\")"
   ],
   "id": "6b8c1311b3964c55",
   "outputs": [
    {
     "name": "stdout",
     "output_type": "stream",
     "text": [
      "size of each subset: \n",
      "\ttrain: 105\n",
      "\tval: 30\n",
      "\ttest: 15\n",
      "target distribution:\n",
      "\ttrain: (array([0, 1, 2]), array([35, 35, 35]))\n",
      "\tval: (array([0, 1, 2]), array([10, 10, 10]))\n",
      "\ttest: (array([0, 1, 2]), array([5, 5, 5]))\n"
     ]
    }
   ],
   "execution_count": 6
  },
  {
   "metadata": {
    "ExecuteTime": {
     "end_time": "2025-08-21T09:48:10.641666Z",
     "start_time": "2025-08-21T09:48:10.637974Z"
    }
   },
   "cell_type": "code",
   "source": [
    "train_data = IRISDataset(train_subset, train_target)\n",
    "val_data = IRISDataset(val_subset, val_target)\n",
    "test_data = IRISDataset(test_subset, test_target)"
   ],
   "id": "eddf053b55b9b371",
   "outputs": [],
   "execution_count": 7
  },
  {
   "metadata": {
    "ExecuteTime": {
     "end_time": "2025-08-21T09:48:28.260536Z",
     "start_time": "2025-08-21T09:48:27.513163Z"
    }
   },
   "cell_type": "code",
   "source": "%run train_v3.py",
   "id": "1d404672d5ed4fc8",
   "outputs": [
    {
     "name": "stdout",
     "output_type": "stream",
     "text": [
      "mps\n",
      "--------------------\n",
      "epoch: 0\n",
      "train: \n",
      "\tloss: 1.5452\n",
      "\taccuracy: 0.3333\n",
      "validation: \n",
      "\tloss: 1.3648\n",
      "\taccuracy: 0.3333\n",
      "--------------------\n",
      "epoch: 1\n",
      "train: \n",
      "\tloss: 1.2579\n",
      "\taccuracy: 0.3333\n",
      "validation: \n",
      "\tloss: 1.1434\n",
      "\taccuracy: 0.3333\n",
      "--------------------\n",
      "epoch: 2\n",
      "train: \n",
      "\tloss: 1.0770\n",
      "\taccuracy: 0.2952\n",
      "validation: \n",
      "\tloss: 1.0207\n",
      "\taccuracy: 0.5333\n",
      "--------------------\n",
      "epoch: 3\n",
      "train: \n",
      "\tloss: 0.9885\n",
      "\taccuracy: 0.6095\n",
      "validation: \n",
      "\tloss: 0.9602\n",
      "\taccuracy: 0.6333\n",
      "--------------------\n",
      "epoch: 4\n",
      "train: \n",
      "\tloss: 0.9380\n",
      "\taccuracy: 0.6286\n",
      "validation: \n",
      "\tloss: 0.9168\n",
      "\taccuracy: 0.6333\n",
      "--------------------\n",
      "test: \n",
      "\tloss: 0.8766\n",
      "\taccuracy: 0.6667\n"
     ]
    }
   ],
   "execution_count": 8
  },
  {
   "metadata": {},
   "cell_type": "markdown",
   "source": "## <div style=\"text-align: center; color: lime\">Standard Scaler</div>",
   "id": "11912e122ab62bb9"
  },
  {
   "metadata": {},
   "cell_type": "code",
   "source": [
    "print(f\"Mean of the features:\\n\\t {train_data.mean(axis=0)}\")\n",
    "print(f\"Standard deviation of the features:\\n\\t {train_data.std(axis=0)}\")"
   ],
   "id": "fd5108a92706c085",
   "outputs": [],
   "execution_count": null
  },
  {
   "metadata": {},
   "cell_type": "code",
   "source": [
    "scaler = StandardScaler()\n",
    "scaler.fit(train_data)\n",
    "\n",
    "train_data_normalized = scaler.transform(train_data)\n",
    "val_data_normalized = scaler.transform(val_data)\n",
    "test_data_normalized = scaler.transform(test_data)\n",
    "\n",
    "print(f\"Mean of the features after scaling:\")\n",
    "print(f\"\\ttrain: {train_data_normalized.mean(axis=0)}\")\n",
    "print(f\"\\tval: {val_data_normalized.mean(axis=0)}\")\n",
    "print(f\"\\ttest: {test_data_normalized.mean(axis=0)}\")\n",
    "print(f\"Standard deviation of the features after scaling:\")\n",
    "print(f\"\\ttrain: {train_data_normalized.std(axis=0)}\")\n",
    "print(f\"\\tval: {val_data_normalized.std(axis=0)}\")\n",
    "print(f\"\\ttest: {test_data_normalized.std(axis=0)}\")"
   ],
   "id": "21be944e0531b6d5",
   "outputs": [],
   "execution_count": null
  },
  {
   "metadata": {},
   "cell_type": "markdown",
   "source": [
    "<div style=\"text-align: center\">\n",
    "\n",
    "<div>\n",
    "    @LiterallyTheOne — PhD Candidate in Artificial Intelligence\n",
    "</div>\n",
    "\n",
    "<a style=\"margin: 1em\" href=\"https://literallytheone.github.io\">\n",
    "https://literallytheone.github.io\n",
    "</a>\n",
    "\n",
    "</div>\n"
   ],
   "id": "8cd403317132c31b"
  }
 ],
 "metadata": {
  "kernelspec": {
   "display_name": "Python 3",
   "language": "python",
   "name": "python3"
  },
  "language_info": {
   "codemirror_mode": {
    "name": "ipython",
    "version": 2
   },
   "file_extension": ".py",
   "mimetype": "text/x-python",
   "name": "python",
   "nbconvert_exporter": "python",
   "pygments_lexer": "ipython2",
   "version": "2.7.6"
  }
 },
 "nbformat": 4,
 "nbformat_minor": 5
}
