{
 "cells": [
  {
   "metadata": {},
   "cell_type": "markdown",
   "source": "# <div style=\"text-align: center; color: cyan\">Convolution and relu</div>",
   "id": "e69c52e7fb77f7e9"
  },
  {
   "metadata": {},
   "cell_type": "markdown",
   "source": "## <div style=\"text-align: center; color: lime\">Setup</div>",
   "id": "1ee6f513f55abace"
  },
  {
   "metadata": {
    "ExecuteTime": {
     "end_time": "2025-09-01T05:28:54.445391Z",
     "start_time": "2025-09-01T05:28:54.441612Z"
    }
   },
   "cell_type": "code",
   "source": [
    "import os\n",
    "\n",
    "if os.getenv(\"COLAB_RELEASE_TAG\"):\n",
    "    !git clone https://github.com/LiterallyTheOne/Pytorch_Tutorial.git\n",
    "\n",
    "    %cd src/9_convolution_relu\n"
   ],
   "id": "45c0f7d5601780a0",
   "outputs": [],
   "execution_count": 1
  },
  {
   "metadata": {},
   "cell_type": "markdown",
   "source": "## <div style=\"text-align: center; color: lime\">Imports</div>",
   "id": "525a2d9c3ca61999"
  },
  {
   "metadata": {
    "ExecuteTime": {
     "end_time": "2025-09-01T05:28:56.107218Z",
     "start_time": "2025-09-01T05:28:54.845553Z"
    }
   },
   "cell_type": "code",
   "source": [
    "import torch\n",
    "from torch import nn\n",
    "from torch.utils.data import Dataset, DataLoader, random_split\n",
    "\n",
    "from torchvision.datasets import MNIST, ImageFolder\n",
    "from torchvision import transforms\n",
    "\n",
    "import numpy as np\n",
    "\n",
    "from matplotlib import pyplot as plt\n"
   ],
   "id": "c912ad132034ee57",
   "outputs": [],
   "execution_count": 2
  },
  {
   "metadata": {},
   "cell_type": "markdown",
   "source": "## <div style=\"text-align: center; color: lime\">Convolution</div>",
   "id": "33ea65b5a1a483a4"
  },
  {
   "metadata": {
    "ExecuteTime": {
     "end_time": "2025-09-01T05:28:56.112715Z",
     "start_time": "2025-09-01T05:28:56.110621Z"
    }
   },
   "cell_type": "code",
   "source": [
    "image_size = (6, 6)\n",
    "kernel_size = (3, 3)\n",
    "\n",
    "image = np.arange(image_size[0] * image_size[1]).reshape(image_size)\n",
    "kernel = np.ones(kernel_size) / (kernel_size[0] * kernel_size[1])\n",
    "\n",
    "print(\"image:\")\n",
    "print(image)\n",
    "print(\"kernel:\")\n",
    "print(kernel)"
   ],
   "id": "4fba47ef5c2d0ec1",
   "outputs": [
    {
     "name": "stdout",
     "output_type": "stream",
     "text": [
      "image:\n",
      "[[ 0  1  2  3  4  5]\n",
      " [ 6  7  8  9 10 11]\n",
      " [12 13 14 15 16 17]\n",
      " [18 19 20 21 22 23]\n",
      " [24 25 26 27 28 29]\n",
      " [30 31 32 33 34 35]]\n",
      "kernel:\n",
      "[[0.11111111 0.11111111 0.11111111]\n",
      " [0.11111111 0.11111111 0.11111111]\n",
      " [0.11111111 0.11111111 0.11111111]]\n"
     ]
    }
   ],
   "execution_count": 3
  },
  {
   "metadata": {},
   "cell_type": "markdown",
   "source": "## <div style=\"text-align: center; color: lime\">Load MNIST</div>",
   "id": "ac5a6a44145411ae"
  },
  {
   "metadata": {
    "ExecuteTime": {
     "end_time": "2025-09-01T05:28:56.186023Z",
     "start_time": "2025-09-01T05:28:56.115647Z"
    }
   },
   "cell_type": "code",
   "source": [
    "train_data = MNIST(\"../data/\", train=True, download=True, transform=transforms.ToTensor())\n",
    "test_data = MNIST(\"../data/\", train=False, download=True, transform=transforms.ToTensor())\n",
    "\n",
    "for image, label in train_data:\n",
    "    plt.imshow(transforms.ToPILImage()(image), cmap=\"gray\")\n",
    "    print(f\"label : {label}\")\n",
    "    print(f\"image shape : {image.shape}\")\n",
    "    break"
   ],
   "id": "957b88422edc549f",
   "outputs": [
    {
     "name": "stdout",
     "output_type": "stream",
     "text": [
      "label : 5\n",
      "image shape : torch.Size([1, 28, 28])\n"
     ]
    },
    {
     "data": {
      "text/plain": [
       "<Figure size 640x480 with 1 Axes>"
      ],
      "image/png": "[encoded data removed]"
     },
     "metadata": {},
     "output_type": "display_data"
    }
   ],
   "execution_count": 4
  },
  {
   "metadata": {
    "ExecuteTime": {
     "end_time": "2025-09-01T05:28:56.195575Z",
     "start_time": "2025-09-01T05:28:56.189338Z"
    }
   },
   "cell_type": "code",
   "source": [
    "g1 = torch.Generator().manual_seed(20)\n",
    "val_data, test_data = random_split(test_data, [0.7, 0.3], g1)\n",
    "\n",
    "train_loader = DataLoader(train_data, batch_size=64, shuffle=True)\n",
    "val_loader = DataLoader(val_data, batch_size=64, shuffle=False)\n",
    "test_loader = DataLoader(test_data, batch_size=64, shuffle=False)\n",
    "\n",
    "images, labels = next(iter(train_loader))\n",
    "\n",
    "print(f\"images shape : {images.shape}\")\n",
    "print(f\"labels shape : {labels.shape}\")"
   ],
   "id": "1e6251fa9623319b",
   "outputs": [
    {
     "name": "stdout",
     "output_type": "stream",
     "text": [
      "images shape : torch.Size([64, 1, 28, 28])\n",
      "labels shape : torch.Size([64])\n"
     ]
    }
   ],
   "execution_count": 5
  },
  {
   "metadata": {},
   "cell_type": "markdown",
   "source": "## <div style=\"text-align: center; color: lime\">Convolution</div>",
   "id": "ea46de716347f3d5"
  },
  {
   "metadata": {
    "ExecuteTime": {
     "end_time": "2025-09-01T05:28:56.212406Z",
     "start_time": "2025-09-01T05:28:56.210279Z"
    }
   },
   "cell_type": "code",
   "source": [
    "conv_1 = nn.Conv2d(\n",
    "    in_channels=1,\n",
    "    out_channels=3,\n",
    "    kernel_size=3,\n",
    "    stride=1,\n",
    "    padding=1,\n",
    "    dilation=1,\n",
    ")"
   ],
   "id": "5948d899ae549a04",
   "outputs": [],
   "execution_count": 6
  },
  {
   "metadata": {
    "ExecuteTime": {
     "end_time": "2025-09-01T05:28:56.221586Z",
     "start_time": "2025-09-01T05:28:56.218989Z"
    }
   },
   "cell_type": "code",
   "source": [
    "result = conv_1(images)\n",
    "print(f\"input shape : {images.shape}\")\n",
    "print(f\"output shape : {result.shape}\")"
   ],
   "id": "e3d410f29b605172",
   "outputs": [
    {
     "name": "stdout",
     "output_type": "stream",
     "text": [
      "input shape : torch.Size([64, 1, 28, 28])\n",
      "output shape : torch.Size([64, 3, 28, 28])\n"
     ]
    }
   ],
   "execution_count": 7
  },
  {
   "metadata": {},
   "cell_type": "markdown",
   "source": "## <div style=\"text-align: center; color: lime\">ReLU</div>",
   "id": "2c7aac4da6ebff8b"
  },
  {
   "metadata": {
    "ExecuteTime": {
     "end_time": "2025-09-01T05:28:56.529729Z",
     "start_time": "2025-09-01T05:28:56.527830Z"
    }
   },
   "cell_type": "code",
   "source": "relu = nn.ReLU()",
   "id": "a1bd28fdec25a822",
   "outputs": [],
   "execution_count": 8
  },
  {
   "metadata": {
    "ExecuteTime": {
     "end_time": "2025-09-01T05:28:56.717236Z",
     "start_time": "2025-09-01T05:28:56.712385Z"
    }
   },
   "cell_type": "code",
   "source": [
    "a1 = torch.arange(-5, 6)\n",
    "result = relu(a1)\n",
    "\n",
    "print(f\"input: {a1}\")\n",
    "print(f\"output: {result}\")"
   ],
   "id": "2661146660263821",
   "outputs": [
    {
     "name": "stdout",
     "output_type": "stream",
     "text": [
      "input: tensor([-5, -4, -3, -2, -1,  0,  1,  2,  3,  4,  5])\n",
      "output: tensor([0, 0, 0, 0, 0, 0, 1, 2, 3, 4, 5])\n"
     ]
    }
   ],
   "execution_count": 9
  },
  {
   "metadata": {},
   "cell_type": "markdown",
   "source": "## <div style=\"text-align: center; color: lime\">Flatten</div>",
   "id": "8a72bb377f928458"
  },
  {
   "metadata": {
    "ExecuteTime": {
     "end_time": "2025-09-01T05:28:57.078998Z",
     "start_time": "2025-09-01T05:28:57.076598Z"
    }
   },
   "cell_type": "code",
   "source": "flatten = nn.Flatten()",
   "id": "b17131511355b259",
   "outputs": [],
   "execution_count": 10
  },
  {
   "metadata": {
    "ExecuteTime": {
     "end_time": "2025-09-01T05:28:57.263261Z",
     "start_time": "2025-09-01T05:28:57.259180Z"
    }
   },
   "cell_type": "code",
   "source": [
    "a2 = torch.arange(0, 16).reshape((2, 2, 4)).unsqueeze(0)\n",
    "result = flatten(a2)\n",
    "\n",
    "print(f\"input: {a2}\")\n",
    "print(f\"input shape: {a2.shape}\")\n",
    "print(f\"output: {result}\")\n",
    "print(f\"output shape: {result.shape}\")"
   ],
   "id": "b5ac5cdbd08c5a58",
   "outputs": [
    {
     "name": "stdout",
     "output_type": "stream",
     "text": [
      "input: tensor([[[[ 0,  1,  2,  3],\n",
      "          [ 4,  5,  6,  7]],\n",
      "\n",
      "         [[ 8,  9, 10, 11],\n",
      "          [12, 13, 14, 15]]]])\n",
      "input shape: torch.Size([1, 2, 2, 4])\n",
      "output: tensor([[ 0,  1,  2,  3,  4,  5,  6,  7,  8,  9, 10, 11, 12, 13, 14, 15]])\n",
      "output shape: torch.Size([1, 16])\n"
     ]
    }
   ],
   "execution_count": 11
  },
  {
   "metadata": {},
   "cell_type": "markdown",
   "source": "## <div style=\"text-align: center; color: lime\">Make a convolutional model</div>",
   "id": "f22d4b0caef0d3de"
  },
  {
   "metadata": {
    "ExecuteTime": {
     "end_time": "2025-09-01T05:28:57.730829Z",
     "start_time": "2025-09-01T05:28:57.725283Z"
    }
   },
   "cell_type": "code",
   "source": [
    "# -------------------[ Define Model ]-------------------\n",
    "class IRISClassifier(nn.Module):\n",
    "    def __init__(self):\n",
    "        super().__init__()\n",
    "\n",
    "        self.conv_layers = nn.Sequential(\n",
    "            nn.Conv2d(in_channels=1, out_channels=32, kernel_size=3, padding=1, stride=2),  # 32x14x14\n",
    "            nn.ReLU(),\n",
    "            nn.Conv2d(in_channels=32, out_channels=64, kernel_size=3, padding=1, stride=2),  # 64x7x7\n",
    "            nn.ReLU(),\n",
    "            nn.Conv2d(in_channels=64, out_channels=128, kernel_size=3, padding=1, stride=3),  # 128x3x3\n",
    "            nn.ReLU(),\n",
    "        )\n",
    "\n",
    "        self.classification_layers = nn.Sequential(\n",
    "            nn.Flatten(),\n",
    "            nn.Linear(128 * 3 * 3, 128),\n",
    "            nn.ReLU(),\n",
    "            nn.Linear(128, 10),\n",
    "        )\n",
    "\n",
    "    def forward(self, x):\n",
    "        x = self.conv_layers(x)\n",
    "        x = self.classification_layers(x)\n",
    "        return x"
   ],
   "id": "62e7058d61612c4c",
   "outputs": [],
   "execution_count": 12
  },
  {
   "metadata": {
    "ExecuteTime": {
     "end_time": "2025-09-01T05:28:58.101973Z",
     "start_time": "2025-09-01T05:28:58.071106Z"
    }
   },
   "cell_type": "code",
   "source": [
    "model = IRISClassifier()\n",
    "model(images)"
   ],
   "id": "17054d032a34cd5a",
   "outputs": [
    {
     "data": {
      "text/plain": [
       "tensor([[-0.0666,  0.0899,  0.0278,  0.0376,  0.0399, -0.0735, -0.0656,  0.0523,\n",
       "          0.0295, -0.0688],\n",
       "        [-0.0702,  0.0916,  0.0274,  0.0323,  0.0373, -0.0750, -0.0649,  0.0482,\n",
       "          0.0333, -0.0717],\n",
       "        [-0.0688,  0.0921,  0.0258,  0.0338,  0.0331, -0.0727, -0.0670,  0.0508,\n",
       "          0.0285, -0.0706],\n",
       "        [-0.0678,  0.0889,  0.0277,  0.0375,  0.0372, -0.0763, -0.0640,  0.0499,\n",
       "          0.0336, -0.0680],\n",
       "        [-0.0683,  0.0909,  0.0274,  0.0375,  0.0392, -0.0704, -0.0649,  0.0494,\n",
       "          0.0320, -0.0694],\n",
       "        [-0.0638,  0.0934,  0.0329,  0.0355,  0.0363, -0.0746, -0.0606,  0.0511,\n",
       "          0.0288, -0.0726],\n",
       "        [-0.0637,  0.0926,  0.0310,  0.0383,  0.0343, -0.0702, -0.0611,  0.0528,\n",
       "          0.0267, -0.0724],\n",
       "        [-0.0703,  0.0882,  0.0280,  0.0330,  0.0311, -0.0778, -0.0652,  0.0495,\n",
       "          0.0327, -0.0745],\n",
       "        [-0.0613,  0.0909,  0.0251,  0.0369,  0.0304, -0.0694, -0.0717,  0.0472,\n",
       "          0.0299, -0.0681],\n",
       "        [-0.0653,  0.0917,  0.0248,  0.0325,  0.0376, -0.0688, -0.0676,  0.0534,\n",
       "          0.0325, -0.0681],\n",
       "        [-0.0685,  0.0918,  0.0293,  0.0379,  0.0332, -0.0711, -0.0617,  0.0539,\n",
       "          0.0337, -0.0747],\n",
       "        [-0.0723,  0.0876,  0.0308,  0.0324,  0.0341, -0.0754, -0.0639,  0.0517,\n",
       "          0.0329, -0.0730],\n",
       "        [-0.0711,  0.0947,  0.0269,  0.0339,  0.0302, -0.0725, -0.0672,  0.0550,\n",
       "          0.0358, -0.0765],\n",
       "        [-0.0647,  0.0957,  0.0310,  0.0341,  0.0319, -0.0742, -0.0605,  0.0513,\n",
       "          0.0337, -0.0694],\n",
       "        [-0.0672,  0.0877,  0.0287,  0.0360,  0.0326, -0.0753, -0.0635,  0.0551,\n",
       "          0.0278, -0.0671],\n",
       "        [-0.0706,  0.0876,  0.0296,  0.0368,  0.0381, -0.0719, -0.0632,  0.0525,\n",
       "          0.0284, -0.0681],\n",
       "        [-0.0679,  0.0907,  0.0293,  0.0329,  0.0335, -0.0746, -0.0619,  0.0527,\n",
       "          0.0315, -0.0732],\n",
       "        [-0.0690,  0.0903,  0.0303,  0.0365,  0.0298, -0.0768, -0.0651,  0.0489,\n",
       "          0.0279, -0.0661],\n",
       "        [-0.0617,  0.0906,  0.0257,  0.0387,  0.0337, -0.0672, -0.0690,  0.0516,\n",
       "          0.0357, -0.0699],\n",
       "        [-0.0666,  0.0911,  0.0311,  0.0373,  0.0348, -0.0730, -0.0662,  0.0557,\n",
       "          0.0301, -0.0675],\n",
       "        [-0.0700,  0.0854,  0.0276,  0.0387,  0.0362, -0.0766, -0.0618,  0.0526,\n",
       "          0.0323, -0.0708],\n",
       "        [-0.0672,  0.0880,  0.0298,  0.0389,  0.0343, -0.0712, -0.0654,  0.0508,\n",
       "          0.0314, -0.0750],\n",
       "        [-0.0657,  0.0919,  0.0273,  0.0343,  0.0332, -0.0729, -0.0685,  0.0441,\n",
       "          0.0288, -0.0682],\n",
       "        [-0.0696,  0.0873,  0.0318,  0.0361,  0.0368, -0.0708, -0.0626,  0.0524,\n",
       "          0.0256, -0.0660],\n",
       "        [-0.0648,  0.0951,  0.0257,  0.0374,  0.0394, -0.0744, -0.0654,  0.0477,\n",
       "          0.0309, -0.0700],\n",
       "        [-0.0718,  0.0910,  0.0309,  0.0354,  0.0274, -0.0759, -0.0664,  0.0496,\n",
       "          0.0288, -0.0729],\n",
       "        [-0.0665,  0.0885,  0.0273,  0.0347,  0.0347, -0.0763, -0.0691,  0.0459,\n",
       "          0.0330, -0.0746],\n",
       "        [-0.0706,  0.0962,  0.0273,  0.0351,  0.0351, -0.0712, -0.0641,  0.0537,\n",
       "          0.0322, -0.0735],\n",
       "        [-0.0696,  0.0855,  0.0272,  0.0333,  0.0347, -0.0717, -0.0693,  0.0534,\n",
       "          0.0274, -0.0697],\n",
       "        [-0.0654,  0.0891,  0.0256,  0.0391,  0.0349, -0.0695, -0.0661,  0.0518,\n",
       "          0.0282, -0.0720],\n",
       "        [-0.0652,  0.0881,  0.0296,  0.0374,  0.0323, -0.0727, -0.0639,  0.0532,\n",
       "          0.0245, -0.0651],\n",
       "        [-0.0650,  0.0922,  0.0265,  0.0343,  0.0317, -0.0735, -0.0694,  0.0527,\n",
       "          0.0275, -0.0681],\n",
       "        [-0.0688,  0.0896,  0.0261,  0.0390,  0.0385, -0.0723, -0.0657,  0.0486,\n",
       "          0.0351, -0.0692],\n",
       "        [-0.0663,  0.0926,  0.0283,  0.0362,  0.0375, -0.0718, -0.0620,  0.0539,\n",
       "          0.0273, -0.0688],\n",
       "        [-0.0665,  0.0900,  0.0278,  0.0374,  0.0377, -0.0731, -0.0634,  0.0547,\n",
       "          0.0320, -0.0708],\n",
       "        [-0.0644,  0.0954,  0.0290,  0.0404,  0.0355, -0.0691, -0.0605,  0.0528,\n",
       "          0.0278, -0.0715],\n",
       "        [-0.0664,  0.0887,  0.0284,  0.0376,  0.0391, -0.0735, -0.0651,  0.0544,\n",
       "          0.0319, -0.0683],\n",
       "        [-0.0671,  0.0906,  0.0309,  0.0359,  0.0331, -0.0708, -0.0634,  0.0513,\n",
       "          0.0282, -0.0686],\n",
       "        [-0.0662,  0.0956,  0.0298,  0.0385,  0.0366, -0.0689, -0.0611,  0.0509,\n",
       "          0.0241, -0.0698],\n",
       "        [-0.0700,  0.0951,  0.0244,  0.0336,  0.0348, -0.0724, -0.0650,  0.0520,\n",
       "          0.0313, -0.0710],\n",
       "        [-0.0653,  0.0913,  0.0300,  0.0391,  0.0352, -0.0662, -0.0647,  0.0499,\n",
       "          0.0242, -0.0643],\n",
       "        [-0.0648,  0.0937,  0.0240,  0.0345,  0.0363, -0.0712, -0.0667,  0.0512,\n",
       "          0.0286, -0.0695],\n",
       "        [-0.0712,  0.0904,  0.0279,  0.0355,  0.0306, -0.0753, -0.0662,  0.0512,\n",
       "          0.0307, -0.0744],\n",
       "        [-0.0722,  0.0882,  0.0294,  0.0380,  0.0295, -0.0723, -0.0651,  0.0505,\n",
       "          0.0305, -0.0694],\n",
       "        [-0.0706,  0.0819,  0.0284,  0.0368,  0.0368, -0.0726, -0.0702,  0.0533,\n",
       "          0.0334, -0.0753],\n",
       "        [-0.0674,  0.0877,  0.0283,  0.0384,  0.0404, -0.0725, -0.0646,  0.0521,\n",
       "          0.0336, -0.0703],\n",
       "        [-0.0592,  0.0894,  0.0271,  0.0367,  0.0297, -0.0690, -0.0697,  0.0549,\n",
       "          0.0307, -0.0746],\n",
       "        [-0.0658,  0.0893,  0.0308,  0.0388,  0.0325, -0.0709, -0.0641,  0.0552,\n",
       "          0.0323, -0.0751],\n",
       "        [-0.0652,  0.0924,  0.0289,  0.0368,  0.0344, -0.0710, -0.0629,  0.0499,\n",
       "          0.0256, -0.0692],\n",
       "        [-0.0678,  0.0885,  0.0273,  0.0361,  0.0348, -0.0752, -0.0644,  0.0536,\n",
       "          0.0288, -0.0697],\n",
       "        [-0.0697,  0.0900,  0.0306,  0.0336,  0.0286, -0.0719, -0.0640,  0.0574,\n",
       "          0.0299, -0.0719],\n",
       "        [-0.0655,  0.0932,  0.0324,  0.0361,  0.0388, -0.0719, -0.0625,  0.0495,\n",
       "          0.0341, -0.0721],\n",
       "        [-0.0707,  0.0866,  0.0298,  0.0356,  0.0316, -0.0757, -0.0673,  0.0494,\n",
       "          0.0301, -0.0699],\n",
       "        [-0.0655,  0.0951,  0.0284,  0.0387,  0.0355, -0.0735, -0.0645,  0.0507,\n",
       "          0.0287, -0.0691],\n",
       "        [-0.0668,  0.0965,  0.0291,  0.0330,  0.0299, -0.0724, -0.0660,  0.0510,\n",
       "          0.0264, -0.0722],\n",
       "        [-0.0694,  0.0904,  0.0299,  0.0380,  0.0373, -0.0733, -0.0644,  0.0498,\n",
       "          0.0363, -0.0754],\n",
       "        [-0.0691,  0.0889,  0.0309,  0.0394,  0.0353, -0.0729, -0.0620,  0.0517,\n",
       "          0.0295, -0.0688],\n",
       "        [-0.0648,  0.0929,  0.0272,  0.0376,  0.0341, -0.0704, -0.0666,  0.0477,\n",
       "          0.0304, -0.0699],\n",
       "        [-0.0674,  0.0891,  0.0268,  0.0390,  0.0390, -0.0726, -0.0643,  0.0497,\n",
       "          0.0351, -0.0714],\n",
       "        [-0.0605,  0.1001,  0.0280,  0.0386,  0.0332, -0.0750, -0.0663,  0.0464,\n",
       "          0.0287, -0.0712],\n",
       "        [-0.0638,  0.0930,  0.0265,  0.0396,  0.0344, -0.0706, -0.0644,  0.0467,\n",
       "          0.0262, -0.0697],\n",
       "        [-0.0646,  0.0895,  0.0320,  0.0350,  0.0340, -0.0712, -0.0650,  0.0507,\n",
       "          0.0319, -0.0693],\n",
       "        [-0.0701,  0.0963,  0.0299,  0.0362,  0.0303, -0.0727, -0.0674,  0.0532,\n",
       "          0.0263, -0.0671],\n",
       "        [-0.0665,  0.0869,  0.0280,  0.0330,  0.0361, -0.0723, -0.0684,  0.0479,\n",
       "          0.0358, -0.0727]], grad_fn=<AddmmBackward0>)"
      ]
     },
     "execution_count": 13,
     "metadata": {},
     "output_type": "execute_result"
    }
   ],
   "execution_count": 13
  },
  {
   "metadata": {},
   "cell_type": "markdown",
   "source": "## <div style=\"text-align: center; color: lime\">Train the model</div>",
   "id": "b6d7e3a92129abde"
  },
  {
   "metadata": {
    "ExecuteTime": {
     "end_time": "2025-09-01T05:29:24.294846Z",
     "start_time": "2025-09-01T05:29:01.922656Z"
    }
   },
   "cell_type": "code",
   "source": "%run train_mnist_conv.py",
   "id": "5a5eb14148d049cd",
   "outputs": [
    {
     "name": "stdout",
     "output_type": "stream",
     "text": [
      "mps\n",
      "--------------------\n",
      "epoch: 0\n",
      "train: \n",
      "\tloss: 0.2567\n",
      "\taccuracy: 0.9219\n",
      "validation: \n",
      "\tloss: 0.0748\n",
      "\taccuracy: 0.9757\n",
      "--------------------\n",
      "epoch: 1\n",
      "train: \n",
      "\tloss: 0.0736\n",
      "\taccuracy: 0.9773\n",
      "validation: \n",
      "\tloss: 0.0575\n",
      "\taccuracy: 0.9816\n",
      "--------------------\n",
      "epoch: 2\n",
      "train: \n",
      "\tloss: 0.0501\n",
      "\taccuracy: 0.9843\n",
      "validation: \n",
      "\tloss: 0.0592\n",
      "\taccuracy: 0.9813\n",
      "--------------------\n",
      "epoch: 3\n",
      "train: \n",
      "\tloss: 0.0363\n",
      "\taccuracy: 0.9887\n",
      "validation: \n",
      "\tloss: 0.0389\n",
      "\taccuracy: 0.9859\n",
      "--------------------\n",
      "epoch: 4\n",
      "train: \n",
      "\tloss: 0.0289\n",
      "\taccuracy: 0.9912\n",
      "validation: \n",
      "\tloss: 0.0409\n",
      "\taccuracy: 0.9854\n",
      "--------------------\n",
      "test: \n",
      "\tloss: 0.0465\n",
      "\taccuracy: 0.9863\n"
     ]
    }
   ],
   "execution_count": 14
  },
  {
   "metadata": {},
   "cell_type": "markdown",
   "source": [
    "<div style=\"text-align: center\">\n",
    "\n",
    "<div>\n",
    "    @LiterallyTheOne — PhD Candidate in Artificial Intelligence\n",
    "</div>\n",
    "\n",
    "<a style=\"margin: 1em\" href=\"https://literallytheone.github.io\">\n",
    "https://literallytheone.github.io\n",
    "</a>\n",
    "\n",
    "</div>\n"
   ],
   "id": "7e5329a75d4f51e3"
  }
 ],
 "metadata": {
  "kernelspec": {
   "display_name": "Python 3",
   "language": "python",
   "name": "python3"
  },
  "language_info": {
   "codemirror_mode": {
    "name": "ipython",
    "version": 2
   },
   "file_extension": ".py",
   "mimetype": "text/x-python",
   "name": "python",
   "nbconvert_exporter": "python",
   "pygments_lexer": "ipython2",
   "version": "2.7.6"
  }
 },
 "nbformat": 4,
 "nbformat_minor": 5
}
