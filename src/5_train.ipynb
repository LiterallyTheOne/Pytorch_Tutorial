{
 "cells": [
  {
   "metadata": {
    "collapsed": true
   },
   "cell_type": "markdown",
   "source": "# <div style=\"text-align: center; color: cyan\">Train</div>",
   "id": "41f3c8f5071ef78c"
  },
  {
   "metadata": {},
   "cell_type": "markdown",
   "source": "## <div style=\"text-align: center; color: lime\">Imports</div>",
   "id": "1c492126ad507e8e"
  },
  {
   "metadata": {
    "ExecuteTime": {
     "end_time": "2025-08-20T12:20:25.681338Z",
     "start_time": "2025-08-20T12:20:23.772415Z"
    }
   },
   "cell_type": "code",
   "source": [
    "import torch\n",
    "from torch import nn\n",
    "from torch.optim import Adam\n",
    "from torch.utils.data import Dataset, DataLoader, random_split\n",
    "\n",
    "from sklearn.datasets import load_iris"
   ],
   "id": "d2afa60a64620442",
   "outputs": [],
   "execution_count": 2
  },
  {
   "metadata": {},
   "cell_type": "markdown",
   "source": "## <div style=\"text-align: center; color: lime\">Load the data and make the model </div>",
   "id": "9e672158e7d1596"
  },
  {
   "metadata": {
    "ExecuteTime": {
     "end_time": "2025-08-20T12:20:25.694658Z",
     "start_time": "2025-08-20T12:20:25.685678Z"
    }
   },
   "cell_type": "code",
   "source": [
    "iris = load_iris()\n",
    "\n",
    "data = torch.tensor(iris.data).to(torch.float)\n",
    "target = torch.tensor(iris.target)"
   ],
   "id": "241c79ec25e46484",
   "outputs": [],
   "execution_count": 3
  },
  {
   "metadata": {
    "ExecuteTime": {
     "end_time": "2025-08-20T12:20:25.700243Z",
     "start_time": "2025-08-20T12:20:25.698514Z"
    }
   },
   "cell_type": "code",
   "source": [
    "class IRISDataset(Dataset):\n",
    "    def __init__(self, data, target):\n",
    "        super().__init__()\n",
    "        self.data = data\n",
    "        self.target = target\n",
    "\n",
    "    def __len__(self):\n",
    "        return len(self.data)\n",
    "\n",
    "    def __getitem__(self, idx):\n",
    "        return self.data[idx], self.target[idx]\n",
    "\n",
    "\n",
    "iris_dataset = IRISDataset(data, target)"
   ],
   "id": "b97656666726376d",
   "outputs": [],
   "execution_count": 4
  },
  {
   "metadata": {
    "ExecuteTime": {
     "end_time": "2025-08-20T12:20:25.709843Z",
     "start_time": "2025-08-20T12:20:25.705566Z"
    }
   },
   "cell_type": "code",
   "source": [
    "g1 = torch.Generator().manual_seed(20)\n",
    "train_data, val_data, test_data = random_split(iris_dataset, [0.7, 0.2, 0.1], g1)\n",
    "\n",
    "train_loader = DataLoader(train_data, batch_size=10, shuffle=True)\n",
    "val_loader = DataLoader(val_data, batch_size=10, shuffle=False)\n",
    "test_loader = DataLoader(test_data, batch_size=10, shuffle=False)"
   ],
   "id": "931f73d058a98fd6",
   "outputs": [],
   "execution_count": 5
  },
  {
   "metadata": {
    "ExecuteTime": {
     "end_time": "2025-08-20T12:20:25.718081Z",
     "start_time": "2025-08-20T12:20:25.714369Z"
    }
   },
   "cell_type": "code",
   "source": [
    "class IRISClassifier(nn.Module):\n",
    "    def __init__(self):\n",
    "        super().__init__()\n",
    "\n",
    "        self.layers = nn.Sequential(\n",
    "            nn.Linear(4, 16),\n",
    "            nn.Linear(16, 8),\n",
    "            nn.Linear(8, 3),\n",
    "        )\n",
    "\n",
    "    def forward(self, x):\n",
    "        return self.layers(x)\n",
    "\n",
    "\n",
    "model = IRISClassifier()"
   ],
   "id": "3a521047b159a230",
   "outputs": [],
   "execution_count": 6
  },
  {
   "metadata": {},
   "cell_type": "markdown",
   "source": "## <div style=\"text-align: center; color: lime\">Train the model</div>",
   "id": "30c1ba725624f1e9"
  },
  {
   "metadata": {
    "ExecuteTime": {
     "end_time": "2025-08-20T12:20:26.348133Z",
     "start_time": "2025-08-20T12:20:25.885157Z"
    }
   },
   "cell_type": "code",
   "source": [
    "loss_fn = nn.CrossEntropyLoss()\n",
    "optimizer = Adam(model.parameters())"
   ],
   "id": "b67cd77427d3c749",
   "outputs": [],
   "execution_count": 7
  },
  {
   "metadata": {
    "ExecuteTime": {
     "end_time": "2025-08-20T12:20:26.392862Z",
     "start_time": "2025-08-20T12:20:26.356762Z"
    }
   },
   "cell_type": "code",
   "source": [
    "model.train()\n",
    "\n",
    "for batch_of_data, batch_of_target in train_loader:\n",
    "    optimizer.zero_grad()\n",
    "\n",
    "    logits = model(batch_of_data)\n",
    "\n",
    "    loss = loss_fn(logits, batch_of_target)\n",
    "    print(f\"loss: {loss.item()}\")\n",
    "\n",
    "    loss.backward()\n",
    "\n",
    "    optimizer.step()\n"
   ],
   "id": "fe68a7f2ede9a363",
   "outputs": [
    {
     "name": "stdout",
     "output_type": "stream",
     "text": [
      "loss: 0.7640460729598999\n",
      "loss: 0.7941502332687378\n",
      "loss: 0.8383936882019043\n",
      "loss: 0.5752513408660889\n",
      "loss: 0.7075636386871338\n",
      "loss: 0.8490365147590637\n",
      "loss: 0.8173547983169556\n",
      "loss: 0.9585196375846863\n",
      "loss: 0.7621733546257019\n",
      "loss: 0.730190634727478\n",
      "loss: 0.9111936688423157\n"
     ]
    }
   ],
   "execution_count": 8
  },
  {
   "metadata": {},
   "cell_type": "markdown",
   "source": "## <div style=\"text-align: center; color: lime\">Evaluate the model</div>",
   "id": "23a24b15ad6d8ba5"
  },
  {
   "metadata": {
    "ExecuteTime": {
     "end_time": "2025-08-20T12:20:27.541533Z",
     "start_time": "2025-08-20T12:20:27.537444Z"
    }
   },
   "cell_type": "code",
   "source": [
    "model.eval()\n",
    "\n",
    "with torch.inference_mode():\n",
    "    total_loss = 0\n",
    "\n",
    "    for batch_of_data, batch_of_target in val_loader:\n",
    "        logits = model(batch_of_data)\n",
    "\n",
    "        loss = loss_fn(logits, batch_of_target)\n",
    "        total_loss += loss.item()\n",
    "\n",
    "    print(f\"average_loss: {total_loss / len(val_loader)}\")"
   ],
   "id": "3579d350a064e54f",
   "outputs": [
    {
     "name": "stdout",
     "output_type": "stream",
     "text": [
      "average_loss: 0.704477588335673\n"
     ]
    }
   ],
   "execution_count": 9
  },
  {
   "metadata": {
    "ExecuteTime": {
     "end_time": "2025-08-20T12:20:27.957940Z",
     "start_time": "2025-08-20T12:20:27.950981Z"
    }
   },
   "cell_type": "code",
   "source": [
    "model.eval()\n",
    "\n",
    "with torch.inference_mode():\n",
    "    total_loss = 0\n",
    "    total_correct = 0\n",
    "\n",
    "    for batch_of_data, batch_of_target in val_loader:\n",
    "        logits = model(batch_of_data)\n",
    "\n",
    "        loss = loss_fn(logits, batch_of_target)\n",
    "        total_loss += loss.item()\n",
    "\n",
    "        predictions = logits.argmax(dim=1)\n",
    "        total_correct += predictions.eq(batch_of_target).sum().item()\n",
    "\n",
    "    print(f\"average_loss: {total_loss / len(val_loader)}\")\n",
    "    print(f\"accuracy: {total_correct / len(val_loader.dataset)}\")\n"
   ],
   "id": "53d90fd5d4124197",
   "outputs": [
    {
     "name": "stdout",
     "output_type": "stream",
     "text": [
      "average_loss: 0.704477588335673\n",
      "accuracy: 0.6333333333333333\n"
     ]
    }
   ],
   "execution_count": 10
  },
  {
   "metadata": {},
   "cell_type": "markdown",
   "source": "## <div style=\"text-align: center; color: lime\">make train_step and val_step</div>",
   "id": "7b1abe035887d2b6"
  },
  {
   "metadata": {
    "ExecuteTime": {
     "end_time": "2025-08-20T12:20:28.900226Z",
     "start_time": "2025-08-20T12:20:28.897292Z"
    }
   },
   "cell_type": "code",
   "source": [
    "def train_step():\n",
    "    model.train()\n",
    "\n",
    "    total_loss = 0\n",
    "\n",
    "    for batch_of_data, batch_of_target in train_loader:\n",
    "        optimizer.zero_grad()\n",
    "\n",
    "        logits = model(batch_of_data)\n",
    "\n",
    "        loss = loss_fn(logits, batch_of_target)\n",
    "        total_loss += loss.item()\n",
    "\n",
    "        loss.backward()\n",
    "\n",
    "        optimizer.step()\n",
    "\n",
    "    print(f\"training average_loss: {total_loss / len(train_loader)}\")\n"
   ],
   "id": "212434bbb5fa7de",
   "outputs": [],
   "execution_count": 11
  },
  {
   "metadata": {
    "ExecuteTime": {
     "end_time": "2025-08-20T12:20:29.632610Z",
     "start_time": "2025-08-20T12:20:29.628727Z"
    }
   },
   "cell_type": "code",
   "source": [
    "def val_step():\n",
    "    model.eval()\n",
    "\n",
    "    with torch.inference_mode():\n",
    "        total_loss = 0\n",
    "        total_correct = 0\n",
    "\n",
    "        for batch_of_data, batch_of_target in val_loader:\n",
    "            logits = model(batch_of_data)\n",
    "\n",
    "            loss = loss_fn(logits, batch_of_target)\n",
    "            total_loss += loss.item()\n",
    "\n",
    "            predictions = logits.argmax(dim=1)\n",
    "            total_correct += predictions.eq(batch_of_target).sum().item()\n",
    "\n",
    "        print(f\"validation average_loss: {total_loss / len(val_loader)}\")\n",
    "        print(f\"validation accuracy: {total_correct / len(val_loader.dataset)}\")\n"
   ],
   "id": "3688d7ec6d62d8d9",
   "outputs": [],
   "execution_count": 12
  },
  {
   "metadata": {
    "ExecuteTime": {
     "end_time": "2025-08-20T12:20:30.215751Z",
     "start_time": "2025-08-20T12:20:30.204632Z"
    }
   },
   "cell_type": "code",
   "source": "train_step()",
   "id": "4376d2b8b4faf3dc",
   "outputs": [
    {
     "name": "stdout",
     "output_type": "stream",
     "text": [
      "training average_loss: 0.7337634075771678\n"
     ]
    }
   ],
   "execution_count": 13
  },
  {
   "metadata": {
    "ExecuteTime": {
     "end_time": "2025-08-20T12:20:30.646041Z",
     "start_time": "2025-08-20T12:20:30.642613Z"
    }
   },
   "cell_type": "code",
   "source": "val_step()",
   "id": "cce3fc2c8860ac3c",
   "outputs": [
    {
     "name": "stdout",
     "output_type": "stream",
     "text": [
      "validation average_loss: 0.6558424830436707\n",
      "validation accuracy: 0.6333333333333333\n"
     ]
    }
   ],
   "execution_count": 14
  },
  {
   "metadata": {},
   "cell_type": "markdown",
   "source": "## <div style=\"text-align: center; color: lime\">Epoch</div>",
   "id": "45adf8f4ddff4e8b"
  },
  {
   "metadata": {
    "ExecuteTime": {
     "end_time": "2025-08-20T12:20:54.731305Z",
     "start_time": "2025-08-20T12:20:54.702782Z"
    }
   },
   "cell_type": "code",
   "source": [
    "model = IRISClassifier()\n",
    "\n",
    "loss_fn = nn.CrossEntropyLoss()\n",
    "optimizer = Adam(model.parameters())\n",
    "\n",
    "for epoch in range(5):\n",
    "    print(\"-\" * 20)\n",
    "    print(f\"epoch: {epoch}\")\n",
    "    train_step()\n",
    "    val_step()"
   ],
   "id": "3946e37fac589181",
   "outputs": [
    {
     "name": "stdout",
     "output_type": "stream",
     "text": [
      "--------------------\n",
      "epoch: 0\n",
      "training average_loss: 1.050121784210205\n",
      "validation average_loss: 1.0271871089935303\n",
      "validation accuracy: 0.4\n",
      "--------------------\n",
      "epoch: 1\n",
      "training average_loss: 1.014872670173645\n",
      "validation average_loss: 0.9773193200429281\n",
      "validation accuracy: 0.36666666666666664\n",
      "--------------------\n",
      "epoch: 2\n",
      "training average_loss: 0.977487173947421\n",
      "validation average_loss: 0.943575362364451\n",
      "validation accuracy: 0.5\n",
      "--------------------\n",
      "epoch: 3\n",
      "training average_loss: 0.9405033750967546\n",
      "validation average_loss: 0.901186982790629\n",
      "validation accuracy: 0.6\n",
      "--------------------\n",
      "epoch: 4\n",
      "training average_loss: 0.9058771566911177\n",
      "validation average_loss: 0.8475126425425211\n",
      "validation accuracy: 0.7666666666666667\n"
     ]
    }
   ],
   "execution_count": 18
  },
  {
   "metadata": {},
   "cell_type": "markdown",
   "source": "## <div style=\"text-align: center; color: lime\">Run on Accelerator</div>",
   "id": "3eb77314a1e69bf9"
  },
  {
   "metadata": {
    "ExecuteTime": {
     "end_time": "2025-08-20T12:21:01.505393Z",
     "start_time": "2025-08-20T12:21:01.501812Z"
    }
   },
   "cell_type": "code",
   "source": [
    "if torch.accelerator.is_available():\n",
    "    device = torch.accelerator.current_accelerator()\n",
    "else:\n",
    "    device = \"cpu\"\n",
    "\n",
    "print(device)"
   ],
   "id": "db8af5477b30c319",
   "outputs": [
    {
     "name": "stdout",
     "output_type": "stream",
     "text": [
      "mps\n"
     ]
    }
   ],
   "execution_count": 19
  },
  {
   "metadata": {
    "ExecuteTime": {
     "end_time": "2025-08-20T12:21:02.153513Z",
     "start_time": "2025-08-20T12:21:02.150116Z"
    }
   },
   "cell_type": "code",
   "source": [
    "def train_step():\n",
    "    model.train()\n",
    "\n",
    "    total_loss = 0\n",
    "\n",
    "    for batch_of_data, batch_of_target in train_loader:\n",
    "        batch_of_data = batch_of_data.to(device)\n",
    "        batch_of_target = batch_of_target.to(device)\n",
    "\n",
    "        optimizer.zero_grad()\n",
    "\n",
    "        logits = model(batch_of_data)\n",
    "\n",
    "        loss = loss_fn(logits, batch_of_target)\n",
    "        total_loss += loss.item()\n",
    "\n",
    "        loss.backward()\n",
    "\n",
    "        optimizer.step()\n",
    "\n",
    "    print(f\"training average_loss: {total_loss / len(train_loader)}\")\n"
   ],
   "id": "424027177235b79f",
   "outputs": [],
   "execution_count": 20
  },
  {
   "metadata": {
    "ExecuteTime": {
     "end_time": "2025-08-20T12:21:02.776479Z",
     "start_time": "2025-08-20T12:21:02.772759Z"
    }
   },
   "cell_type": "code",
   "source": [
    "def val_step():\n",
    "    model.eval()\n",
    "\n",
    "    with torch.inference_mode():\n",
    "        total_loss = 0\n",
    "        total_correct = 0\n",
    "\n",
    "        for batch_of_data, batch_of_target in val_loader:\n",
    "            batch_of_data = batch_of_data.to(device)\n",
    "            batch_of_target = batch_of_target.to(device)\n",
    "\n",
    "            logits = model(batch_of_data)\n",
    "\n",
    "            loss = loss_fn(logits, batch_of_target)\n",
    "            total_loss += loss.item()\n",
    "\n",
    "            predictions = logits.argmax(dim=1)\n",
    "            total_correct += predictions.eq(batch_of_target).sum().item()\n",
    "\n",
    "        print(f\"validation average_loss: {total_loss / len(val_loader)}\")\n",
    "        print(f\"validation accuracy: {total_correct / len(val_loader.dataset)}\")\n",
    "\n"
   ],
   "id": "1eb14f1f397c98f8",
   "outputs": [],
   "execution_count": 21
  },
  {
   "metadata": {
    "ExecuteTime": {
     "end_time": "2025-08-20T12:21:12.252686Z",
     "start_time": "2025-08-20T12:21:12.084746Z"
    }
   },
   "cell_type": "code",
   "source": [
    "model = IRISClassifier()\n",
    "model.to(device)\n",
    "\n",
    "loss_fn = nn.CrossEntropyLoss()\n",
    "optimizer = Adam(model.parameters())\n",
    "\n",
    "for epoch in range(5):\n",
    "    print(\"-\" * 20)\n",
    "    print(f\"epoch: {epoch}\")\n",
    "    train_step()\n",
    "    val_step()\n"
   ],
   "id": "81fb92bc1361a89f",
   "outputs": [
    {
     "name": "stdout",
     "output_type": "stream",
     "text": [
      "--------------------\n",
      "epoch: 0\n",
      "training average_loss: 1.0796789039265027\n",
      "validation average_loss: 1.094805916150411\n",
      "validation accuracy: 0.3\n",
      "--------------------\n",
      "epoch: 1\n",
      "training average_loss: 1.0360274802554736\n",
      "validation average_loss: 1.0365037123362224\n",
      "validation accuracy: 0.23333333333333334\n",
      "--------------------\n",
      "epoch: 2\n",
      "training average_loss: 0.9956214427947998\n",
      "validation average_loss: 0.9788729349772135\n",
      "validation accuracy: 0.7\n",
      "--------------------\n",
      "epoch: 3\n",
      "training average_loss: 0.9541016221046448\n",
      "validation average_loss: 0.9327105482419332\n",
      "validation accuracy: 0.6333333333333333\n",
      "--------------------\n",
      "epoch: 4\n",
      "training average_loss: 0.9093180786479603\n",
      "validation average_loss: 0.8656323750813802\n",
      "validation accuracy: 0.6666666666666666\n"
     ]
    }
   ],
   "execution_count": 23
  },
  {
   "metadata": {},
   "cell_type": "markdown",
   "source": "## <div style=\"text-align: center; color: lime\">Save and load our model</div>",
   "id": "559eaf447bee70a8"
  },
  {
   "metadata": {
    "ExecuteTime": {
     "end_time": "2025-08-20T12:21:25.167057Z",
     "start_time": "2025-08-20T12:21:25.155187Z"
    }
   },
   "cell_type": "code",
   "source": "torch.save(model.state_dict(), \"model.pth\")",
   "id": "8dccc7cf5dbac25b",
   "outputs": [],
   "execution_count": 24
  },
  {
   "metadata": {
    "ExecuteTime": {
     "end_time": "2025-08-20T12:36:24.612979Z",
     "start_time": "2025-08-20T12:36:24.597731Z"
    }
   },
   "cell_type": "code",
   "source": [
    "new_model = IRISClassifier()\n",
    "\n",
    "weights = torch.load(\"model.pth\")\n",
    "\n",
    "new_model.load_state_dict(weights)\n",
    "\n",
    "new_model = new_model.to(device)"
   ],
   "id": "478321b8e36cfe91",
   "outputs": [],
   "execution_count": 37
  },
  {
   "metadata": {
    "ExecuteTime": {
     "end_time": "2025-08-20T12:31:38.331736Z",
     "start_time": "2025-08-20T12:31:38.181199Z"
    }
   },
   "cell_type": "code",
   "source": [
    "for key in new_model.state_dict().keys():\n",
    "    if key not in model.state_dict().keys():\n",
    "        print(f\"Key {key} not in model.state_dict()\")\n",
    "        break\n",
    "\n",
    "    if not torch.allclose(new_model.state_dict()[key], model.state_dict()[key]):\n",
    "        print(\"Values are different\")\n",
    "        break\n"
   ],
   "id": "da6e5322faaaf513",
   "outputs": [],
   "execution_count": 34
  },
  {
   "metadata": {},
   "cell_type": "markdown",
   "source": [
    "<div style=\"text-align: center\">\n",
    "\n",
    "<div>\n",
    "    @LiterallyTheOne — PhD Candidate in Artificial Intelligence\n",
    "</div>\n",
    "\n",
    "<a style=\"margin: 1em\" href=\"https://literallytheone.github.io\">\n",
    "https://literallytheone.github.io\n",
    "</a>\n",
    "\n",
    "</div>\n"
   ],
   "id": "8cd403317132c31b"
  }
 ],
 "metadata": {
  "kernelspec": {
   "display_name": "Python 3",
   "language": "python",
   "name": "python3"
  },
  "language_info": {
   "codemirror_mode": {
    "name": "ipython",
    "version": 2
   },
   "file_extension": ".py",
   "mimetype": "text/x-python",
   "name": "python",
   "nbconvert_exporter": "python",
   "pygments_lexer": "ipython2",
   "version": "2.7.6"
  }
 },
 "nbformat": 4,
 "nbformat_minor": 5
}
