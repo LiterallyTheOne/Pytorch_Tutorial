{
 "cells": [
  {
   "metadata": {
    "collapsed": true
   },
   "cell_type": "markdown",
   "source": "# <div style=\"text-align: center; color: cyan\">Train</div>",
   "id": "41f3c8f5071ef78c"
  },
  {
   "metadata": {},
   "cell_type": "markdown",
   "source": "## <div style=\"text-align: center; color: lime\">Imports</div>",
   "id": "1c492126ad507e8e"
  },
  {
   "metadata": {
    "ExecuteTime": {
     "end_time": "2025-08-20T06:40:43.687749Z",
     "start_time": "2025-08-20T06:40:39.659522Z"
    }
   },
   "cell_type": "code",
   "source": [
    "import torch\n",
    "from torch import nn\n",
    "from torch.optim import Adam\n",
    "from torch.utils.data import Dataset, DataLoader, random_split\n",
    "\n",
    "from sklearn.datasets import load_iris"
   ],
   "id": "d2afa60a64620442",
   "outputs": [],
   "execution_count": 1
  },
  {
   "metadata": {},
   "cell_type": "markdown",
   "source": "## <div style=\"text-align: center; color: lime\">Load the data and make the model </div>",
   "id": "9e672158e7d1596"
  },
  {
   "metadata": {
    "ExecuteTime": {
     "end_time": "2025-08-20T06:40:43.695447Z",
     "start_time": "2025-08-20T06:40:43.691326Z"
    }
   },
   "cell_type": "code",
   "source": [
    "iris = load_iris()\n",
    "\n",
    "data = torch.tensor(iris.data).to(torch.float)\n",
    "target = torch.tensor(iris.target)"
   ],
   "id": "241c79ec25e46484",
   "outputs": [],
   "execution_count": 2
  },
  {
   "metadata": {
    "ExecuteTime": {
     "end_time": "2025-08-20T06:40:43.700217Z",
     "start_time": "2025-08-20T06:40:43.698180Z"
    }
   },
   "cell_type": "code",
   "source": [
    "class IRISDataset(Dataset):\n",
    "    def __init__(self, data, target):\n",
    "        super().__init__()\n",
    "        self.data = data\n",
    "        self.target = target\n",
    "\n",
    "    def __len__(self):\n",
    "        return len(self.data)\n",
    "\n",
    "    def __getitem__(self, idx):\n",
    "        return self.data[idx], self.target[idx]\n",
    "\n",
    "\n",
    "iris_dataset = IRISDataset(data, target)"
   ],
   "id": "b97656666726376d",
   "outputs": [],
   "execution_count": 3
  },
  {
   "metadata": {
    "ExecuteTime": {
     "end_time": "2025-08-20T06:40:43.704686Z",
     "start_time": "2025-08-20T06:40:43.702491Z"
    }
   },
   "cell_type": "code",
   "source": [
    "g1 = torch.Generator().manual_seed(20)\n",
    "train_data, val_data, test_data = random_split(iris_dataset, [0.7, 0.2, 0.1], g1)\n",
    "\n",
    "train_loader = DataLoader(train_data, batch_size=10, shuffle=True)\n",
    "val_loader = DataLoader(val_data, batch_size=10, shuffle=False)\n",
    "test_loader = DataLoader(test_data, batch_size=10, shuffle=False)"
   ],
   "id": "931f73d058a98fd6",
   "outputs": [],
   "execution_count": 4
  },
  {
   "metadata": {
    "ExecuteTime": {
     "end_time": "2025-08-20T06:40:43.708877Z",
     "start_time": "2025-08-20T06:40:43.706910Z"
    }
   },
   "cell_type": "code",
   "source": [
    "class IRISClassifier(nn.Module):\n",
    "    def __init__(self):\n",
    "        super().__init__()\n",
    "\n",
    "        self.layers = nn.Sequential(\n",
    "            nn.Linear(4, 16),\n",
    "            nn.Linear(16, 8),\n",
    "            nn.Linear(8, 3),\n",
    "        )\n",
    "\n",
    "    def forward(self, x):\n",
    "        return self.layers(x)\n",
    "\n",
    "\n",
    "model = IRISClassifier()"
   ],
   "id": "3a521047b159a230",
   "outputs": [],
   "execution_count": 5
  },
  {
   "metadata": {},
   "cell_type": "markdown",
   "source": "## <div style=\"text-align: center; color: lime\">Train the model</div>",
   "id": "30c1ba725624f1e9"
  },
  {
   "metadata": {
    "ExecuteTime": {
     "end_time": "2025-08-20T06:40:44.150160Z",
     "start_time": "2025-08-20T06:40:43.712318Z"
    }
   },
   "cell_type": "code",
   "source": [
    "loss_fn = nn.CrossEntropyLoss()\n",
    "optimizer = Adam(model.parameters())"
   ],
   "id": "b67cd77427d3c749",
   "outputs": [],
   "execution_count": 6
  },
  {
   "metadata": {
    "ExecuteTime": {
     "end_time": "2025-08-20T06:40:44.171651Z",
     "start_time": "2025-08-20T06:40:44.153089Z"
    }
   },
   "cell_type": "code",
   "source": [
    "model.train()\n",
    "\n",
    "for batch_of_data, batch_of_target in train_loader:\n",
    "    optimizer.zero_grad()\n",
    "\n",
    "    logits = model(batch_of_data)\n",
    "\n",
    "    loss = loss_fn(logits, batch_of_target)\n",
    "    print(f\"loss: {loss.item()}\")\n",
    "\n",
    "    loss.backward()\n",
    "\n",
    "    optimizer.step()\n"
   ],
   "id": "fe68a7f2ede9a363",
   "outputs": [
    {
     "name": "stdout",
     "output_type": "stream",
     "text": [
      "loss: 0.99995356798172\n",
      "loss: 0.9977426528930664\n",
      "loss: 0.9675296545028687\n",
      "loss: 0.966225266456604\n",
      "loss: 0.944222629070282\n",
      "loss: 0.9690997004508972\n",
      "loss: 1.0804362297058105\n",
      "loss: 0.9989019632339478\n",
      "loss: 0.9921015501022339\n",
      "loss: 0.9486616253852844\n",
      "loss: 1.0657466650009155\n"
     ]
    }
   ],
   "execution_count": 7
  },
  {
   "metadata": {},
   "cell_type": "markdown",
   "source": "## <div style=\"text-align: center; color: lime\">Evaluate the model</div>",
   "id": "23a24b15ad6d8ba5"
  },
  {
   "metadata": {
    "ExecuteTime": {
     "end_time": "2025-08-20T06:44:41.772539Z",
     "start_time": "2025-08-20T06:44:41.766803Z"
    }
   },
   "cell_type": "code",
   "source": [
    "model.eval()\n",
    "\n",
    "with torch.inference_mode():\n",
    "    total_loss = 0\n",
    "\n",
    "    for batch_of_data, batch_of_target in val_loader:\n",
    "        logits = model(batch_of_data)\n",
    "\n",
    "        loss = loss_fn(logits, batch_of_target)\n",
    "        total_loss += loss.item()\n",
    "\n",
    "    print(f\"average_loss: {total_loss / len(val_loader)}\")"
   ],
   "id": "3579d350a064e54f",
   "outputs": [
    {
     "name": "stdout",
     "output_type": "stream",
     "text": [
      "average_loss: 1.0044949253400166\n"
     ]
    }
   ],
   "execution_count": 11
  },
  {
   "metadata": {
    "ExecuteTime": {
     "end_time": "2025-08-20T06:46:36.311664Z",
     "start_time": "2025-08-20T06:46:36.305688Z"
    }
   },
   "cell_type": "code",
   "source": [
    "model.eval()\n",
    "\n",
    "with torch.inference_mode():\n",
    "    total_loss = 0\n",
    "    total_correct = 0\n",
    "\n",
    "    for batch_of_data, batch_of_target in val_loader:\n",
    "        logits = model(batch_of_data)\n",
    "\n",
    "        loss = loss_fn(logits, batch_of_target)\n",
    "        total_loss += loss.item()\n",
    "\n",
    "        predictions = logits.argmax(dim=1)\n",
    "        total_correct += predictions.eq(batch_of_target).sum().item()\n",
    "\n",
    "    print(f\"average_loss: {total_loss / len(val_loader)}\")\n",
    "    print(f\"accuracy: {total_correct / len(val_loader.dataset)}\")\n"
   ],
   "id": "53d90fd5d4124197",
   "outputs": [
    {
     "name": "stdout",
     "output_type": "stream",
     "text": [
      "average_loss: 1.0044949253400166\n",
      "accuracy: 0.6333333333333333\n"
     ]
    }
   ],
   "execution_count": 13
  },
  {
   "metadata": {},
   "cell_type": "markdown",
   "source": "## <div style=\"text-align: center; color: lime\">Run on Accelerator</div>",
   "id": "3eb77314a1e69bf9"
  },
  {
   "metadata": {},
   "cell_type": "markdown",
   "source": [
    "<div style=\"text-align: center\">\n",
    "\n",
    "<div>\n",
    "    @LiterallyTheOne — PhD Candidate in Artificial Intelligence\n",
    "</div>\n",
    "\n",
    "<a style=\"margin: 1em\" href=\"https://literallytheone.github.io\">\n",
    "https://literallytheone.github.io\n",
    "</a>\n",
    "\n",
    "</div>\n"
   ],
   "id": "8cd403317132c31b"
  }
 ],
 "metadata": {
  "kernelspec": {
   "display_name": "Python 3",
   "language": "python",
   "name": "python3"
  },
  "language_info": {
   "codemirror_mode": {
    "name": "ipython",
    "version": 2
   },
   "file_extension": ".py",
   "mimetype": "text/x-python",
   "name": "python",
   "nbconvert_exporter": "python",
   "pygments_lexer": "ipython2",
   "version": "2.7.6"
  }
 },
 "nbformat": 4,
 "nbformat_minor": 5
}
