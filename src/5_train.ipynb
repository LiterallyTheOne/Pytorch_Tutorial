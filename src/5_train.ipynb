{
 "cells": [
  {
   "metadata": {
    "collapsed": true
   },
   "cell_type": "markdown",
   "source": "# <div style=\"text-align: center; color: cyan\">Train</div>",
   "id": "41f3c8f5071ef78c"
  },
  {
   "metadata": {},
   "cell_type": "markdown",
   "source": "## <div style=\"text-align: center; color: lime\">Imports</div>",
   "id": "1c492126ad507e8e"
  },
  {
   "metadata": {
    "ExecuteTime": {
     "end_time": "2025-08-21T09:19:46.753154Z",
     "start_time": "2025-08-21T09:19:45.639124Z"
    }
   },
   "cell_type": "code",
   "source": [
    "import torch\n",
    "from torch import nn\n",
    "from torch.optim import Adam\n",
    "from torch.utils.data import Dataset, DataLoader, random_split\n",
    "\n",
    "from sklearn.datasets import load_iris"
   ],
   "id": "d2afa60a64620442",
   "outputs": [],
   "execution_count": 1
  },
  {
   "metadata": {},
   "cell_type": "markdown",
   "source": "## <div style=\"text-align: center; color: lime\">Load the data and make the model </div>",
   "id": "9e672158e7d1596"
  },
  {
   "metadata": {
    "ExecuteTime": {
     "end_time": "2025-08-21T09:19:46.759698Z",
     "start_time": "2025-08-21T09:19:46.756053Z"
    }
   },
   "cell_type": "code",
   "source": "iris = load_iris()",
   "id": "241c79ec25e46484",
   "outputs": [],
   "execution_count": 2
  },
  {
   "metadata": {
    "ExecuteTime": {
     "end_time": "2025-08-21T09:19:46.765244Z",
     "start_time": "2025-08-21T09:19:46.763356Z"
    }
   },
   "cell_type": "code",
   "source": [
    "class IRISDataset(Dataset):\n",
    "    def __init__(self, data, target):\n",
    "        super().__init__()\n",
    "        self.data = data\n",
    "        self.target = target\n",
    "\n",
    "    def __len__(self):\n",
    "        return len(self.data)\n",
    "\n",
    "    def __getitem__(self, idx):\n",
    "        data = torch.tensor(self.data[idx]).to(torch.float)\n",
    "        target = torch.tensor(self.target[idx])\n",
    "        return data, target\n",
    "\n",
    "iris_dataset = IRISDataset(iris.data, iris.target)"
   ],
   "id": "b97656666726376d",
   "outputs": [],
   "execution_count": 3
  },
  {
   "metadata": {
    "ExecuteTime": {
     "end_time": "2025-08-21T09:19:46.770041Z",
     "start_time": "2025-08-21T09:19:46.768060Z"
    }
   },
   "cell_type": "code",
   "source": [
    "g1 = torch.Generator().manual_seed(20)\n",
    "train_data, val_data, test_data = random_split(iris_dataset, [0.7, 0.2, 0.1], g1)\n",
    "\n",
    "train_loader = DataLoader(train_data, batch_size=10, shuffle=True)\n",
    "val_loader = DataLoader(val_data, batch_size=10, shuffle=False)\n",
    "test_loader = DataLoader(test_data, batch_size=10, shuffle=False)"
   ],
   "id": "931f73d058a98fd6",
   "outputs": [],
   "execution_count": 4
  },
  {
   "metadata": {
    "ExecuteTime": {
     "end_time": "2025-08-21T09:19:47.454905Z",
     "start_time": "2025-08-21T09:19:47.450314Z"
    }
   },
   "cell_type": "code",
   "source": [
    "class IRISClassifier(nn.Module):\n",
    "    def __init__(self):\n",
    "        super().__init__()\n",
    "\n",
    "        self.layers = nn.Sequential(\n",
    "            nn.Linear(4, 16),\n",
    "            nn.Linear(16, 8),\n",
    "            nn.Linear(8, 3),\n",
    "        )\n",
    "\n",
    "    def forward(self, x):\n",
    "        return self.layers(x)\n",
    "\n",
    "\n",
    "model = IRISClassifier()"
   ],
   "id": "3a521047b159a230",
   "outputs": [],
   "execution_count": 5
  },
  {
   "metadata": {},
   "cell_type": "markdown",
   "source": "## <div style=\"text-align: center; color: lime\">Train the model</div>",
   "id": "30c1ba725624f1e9"
  },
  {
   "metadata": {
    "ExecuteTime": {
     "end_time": "2025-08-21T09:19:48.533551Z",
     "start_time": "2025-08-21T09:19:48.065351Z"
    }
   },
   "cell_type": "code",
   "source": [
    "loss_fn = nn.CrossEntropyLoss()\n",
    "optimizer = Adam(model.parameters())"
   ],
   "id": "b67cd77427d3c749",
   "outputs": [],
   "execution_count": 6
  },
  {
   "metadata": {
    "ExecuteTime": {
     "end_time": "2025-08-21T09:19:48.558359Z",
     "start_time": "2025-08-21T09:19:48.537681Z"
    }
   },
   "cell_type": "code",
   "source": [
    "model.train()\n",
    "\n",
    "for batch_of_data, batch_of_target in train_loader:\n",
    "    optimizer.zero_grad()\n",
    "\n",
    "    logits = model(batch_of_data)\n",
    "\n",
    "    loss = loss_fn(logits, batch_of_target)\n",
    "    print(f\"loss: {loss.item()}\")\n",
    "\n",
    "    loss.backward()\n",
    "\n",
    "    optimizer.step()\n"
   ],
   "id": "fe68a7f2ede9a363",
   "outputs": [
    {
     "name": "stdout",
     "output_type": "stream",
     "text": [
      "loss: 1.1131248474121094\n",
      "loss: 1.2602981328964233\n",
      "loss: 1.1842542886734009\n",
      "loss: 1.1304521560668945\n",
      "loss: 1.1646679639816284\n",
      "loss: 1.1598676443099976\n",
      "loss: 1.036192536354065\n",
      "loss: 1.1502324342727661\n",
      "loss: 0.9869096875190735\n",
      "loss: 1.1336429119110107\n",
      "loss: 1.0729477405548096\n"
     ]
    }
   ],
   "execution_count": 7
  },
  {
   "metadata": {},
   "cell_type": "markdown",
   "source": "## <div style=\"text-align: center; color: lime\">Evaluate the model</div>",
   "id": "23a24b15ad6d8ba5"
  },
  {
   "metadata": {
    "ExecuteTime": {
     "end_time": "2025-08-21T09:19:49.015066Z",
     "start_time": "2025-08-21T09:19:49.009460Z"
    }
   },
   "cell_type": "code",
   "source": [
    "model.eval()\n",
    "\n",
    "with torch.inference_mode():\n",
    "    total_loss = 0\n",
    "\n",
    "    for batch_of_data, batch_of_target in val_loader:\n",
    "        logits = model(batch_of_data)\n",
    "\n",
    "        loss = loss_fn(logits, batch_of_target)\n",
    "        total_loss += loss.item()\n",
    "\n",
    "    print(f\"average_loss: {total_loss / len(val_loader)}\")"
   ],
   "id": "3579d350a064e54f",
   "outputs": [
    {
     "name": "stdout",
     "output_type": "stream",
     "text": [
      "average_loss: 1.1142856280008953\n"
     ]
    }
   ],
   "execution_count": 8
  },
  {
   "metadata": {
    "ExecuteTime": {
     "end_time": "2025-08-21T09:19:49.241767Z",
     "start_time": "2025-08-21T09:19:49.237701Z"
    }
   },
   "cell_type": "code",
   "source": [
    "model.eval()\n",
    "\n",
    "with torch.inference_mode():\n",
    "    total_loss = 0\n",
    "    total_correct = 0\n",
    "\n",
    "    for batch_of_data, batch_of_target in val_loader:\n",
    "        logits = model(batch_of_data)\n",
    "\n",
    "        loss = loss_fn(logits, batch_of_target)\n",
    "        total_loss += loss.item()\n",
    "\n",
    "        predictions = logits.argmax(dim=1)\n",
    "        total_correct += predictions.eq(batch_of_target).sum().item()\n",
    "\n",
    "    print(f\"average_loss: {total_loss / len(val_loader)}\")\n",
    "    print(f\"accuracy: {total_correct / len(val_loader.dataset)}\")\n"
   ],
   "id": "53d90fd5d4124197",
   "outputs": [
    {
     "name": "stdout",
     "output_type": "stream",
     "text": [
      "average_loss: 1.1142856280008953\n",
      "accuracy: 0.23333333333333334\n"
     ]
    }
   ],
   "execution_count": 9
  },
  {
   "metadata": {},
   "cell_type": "markdown",
   "source": "## <div style=\"text-align: center; color: lime\">make train_step and val_step</div>",
   "id": "7b1abe035887d2b6"
  },
  {
   "metadata": {
    "ExecuteTime": {
     "end_time": "2025-08-21T09:19:49.850127Z",
     "start_time": "2025-08-21T09:19:49.846256Z"
    }
   },
   "cell_type": "code",
   "source": [
    "def train_step():\n",
    "    model.train()\n",
    "\n",
    "    total_loss = 0\n",
    "\n",
    "    for batch_of_data, batch_of_target in train_loader:\n",
    "        optimizer.zero_grad()\n",
    "\n",
    "        logits = model(batch_of_data)\n",
    "\n",
    "        loss = loss_fn(logits, batch_of_target)\n",
    "        total_loss += loss.item()\n",
    "\n",
    "        loss.backward()\n",
    "\n",
    "        optimizer.step()\n",
    "\n",
    "    print(f\"training average_loss: {total_loss / len(train_loader)}\")\n"
   ],
   "id": "212434bbb5fa7de",
   "outputs": [],
   "execution_count": 10
  },
  {
   "metadata": {
    "ExecuteTime": {
     "end_time": "2025-08-21T09:19:50.227355Z",
     "start_time": "2025-08-21T09:19:50.222669Z"
    }
   },
   "cell_type": "code",
   "source": [
    "def val_step():\n",
    "    model.eval()\n",
    "\n",
    "    with torch.inference_mode():\n",
    "        total_loss = 0\n",
    "        total_correct = 0\n",
    "\n",
    "        for batch_of_data, batch_of_target in val_loader:\n",
    "            logits = model(batch_of_data)\n",
    "\n",
    "            loss = loss_fn(logits, batch_of_target)\n",
    "            total_loss += loss.item()\n",
    "\n",
    "            predictions = logits.argmax(dim=1)\n",
    "            total_correct += predictions.eq(batch_of_target).sum().item()\n",
    "\n",
    "        print(f\"validation average_loss: {total_loss / len(val_loader)}\")\n",
    "        print(f\"validation accuracy: {total_correct / len(val_loader.dataset)}\")\n"
   ],
   "id": "3688d7ec6d62d8d9",
   "outputs": [],
   "execution_count": 11
  },
  {
   "metadata": {
    "ExecuteTime": {
     "end_time": "2025-08-21T09:19:50.585491Z",
     "start_time": "2025-08-21T09:19:50.577264Z"
    }
   },
   "cell_type": "code",
   "source": "train_step()",
   "id": "4376d2b8b4faf3dc",
   "outputs": [
    {
     "name": "stdout",
     "output_type": "stream",
     "text": [
      "training average_loss: 1.0586650588295676\n"
     ]
    }
   ],
   "execution_count": 12
  },
  {
   "metadata": {
    "ExecuteTime": {
     "end_time": "2025-08-21T09:19:51.008048Z",
     "start_time": "2025-08-21T09:19:51.003260Z"
    }
   },
   "cell_type": "code",
   "source": "val_step()",
   "id": "cce3fc2c8860ac3c",
   "outputs": [
    {
     "name": "stdout",
     "output_type": "stream",
     "text": [
      "validation average_loss: 1.1128065983454387\n",
      "validation accuracy: 0.13333333333333333\n"
     ]
    }
   ],
   "execution_count": 13
  },
  {
   "metadata": {},
   "cell_type": "markdown",
   "source": "## <div style=\"text-align: center; color: lime\">Epoch</div>",
   "id": "45adf8f4ddff4e8b"
  },
  {
   "metadata": {
    "ExecuteTime": {
     "end_time": "2025-08-21T09:19:51.756917Z",
     "start_time": "2025-08-21T09:19:51.727908Z"
    }
   },
   "cell_type": "code",
   "source": [
    "model = IRISClassifier()\n",
    "\n",
    "loss_fn = nn.CrossEntropyLoss()\n",
    "optimizer = Adam(model.parameters())\n",
    "\n",
    "for epoch in range(5):\n",
    "    print(\"-\" * 20)\n",
    "    print(f\"epoch: {epoch}\")\n",
    "    train_step()\n",
    "    val_step()"
   ],
   "id": "3946e37fac589181",
   "outputs": [
    {
     "name": "stdout",
     "output_type": "stream",
     "text": [
      "--------------------\n",
      "epoch: 0\n",
      "training average_loss: 1.0262293327938428\n",
      "validation average_loss: 1.0352061986923218\n",
      "validation accuracy: 0.26666666666666666\n",
      "--------------------\n",
      "epoch: 1\n",
      "training average_loss: 0.9824423031373457\n",
      "validation average_loss: 1.0101556380589802\n",
      "validation accuracy: 0.3\n",
      "--------------------\n",
      "epoch: 2\n",
      "training average_loss: 0.9455421566963196\n",
      "validation average_loss: 0.9778478145599365\n",
      "validation accuracy: 0.26666666666666666\n",
      "--------------------\n",
      "epoch: 3\n",
      "training average_loss: 0.9181961200454019\n",
      "validation average_loss: 0.9337190985679626\n",
      "validation accuracy: 0.5666666666666667\n",
      "--------------------\n",
      "epoch: 4\n",
      "training average_loss: 0.8796669190580194\n",
      "validation average_loss: 0.8617650866508484\n",
      "validation accuracy: 0.8\n"
     ]
    }
   ],
   "execution_count": 14
  },
  {
   "metadata": {},
   "cell_type": "markdown",
   "source": "## <div style=\"text-align: center; color: lime\">Run on Accelerator</div>",
   "id": "3eb77314a1e69bf9"
  },
  {
   "metadata": {
    "ExecuteTime": {
     "end_time": "2025-08-21T09:19:52.683976Z",
     "start_time": "2025-08-21T09:19:52.681325Z"
    }
   },
   "cell_type": "code",
   "source": [
    "if torch.accelerator.is_available():\n",
    "    device = torch.accelerator.current_accelerator()\n",
    "else:\n",
    "    device = \"cpu\"\n",
    "\n",
    "print(device)"
   ],
   "id": "db8af5477b30c319",
   "outputs": [
    {
     "name": "stdout",
     "output_type": "stream",
     "text": [
      "mps\n"
     ]
    }
   ],
   "execution_count": 15
  },
  {
   "metadata": {
    "ExecuteTime": {
     "end_time": "2025-08-21T09:19:53.045976Z",
     "start_time": "2025-08-21T09:19:53.042896Z"
    }
   },
   "cell_type": "code",
   "source": [
    "def train_step():\n",
    "    model.train()\n",
    "\n",
    "    total_loss = 0\n",
    "\n",
    "    for batch_of_data, batch_of_target in train_loader:\n",
    "        batch_of_data = batch_of_data.to(device)\n",
    "        batch_of_target = batch_of_target.to(device)\n",
    "\n",
    "        optimizer.zero_grad()\n",
    "\n",
    "        logits = model(batch_of_data)\n",
    "\n",
    "        loss = loss_fn(logits, batch_of_target)\n",
    "        total_loss += loss.item()\n",
    "\n",
    "        loss.backward()\n",
    "\n",
    "        optimizer.step()\n",
    "\n",
    "    print(f\"training average_loss: {total_loss / len(train_loader)}\")\n"
   ],
   "id": "424027177235b79f",
   "outputs": [],
   "execution_count": 16
  },
  {
   "metadata": {
    "ExecuteTime": {
     "end_time": "2025-08-21T09:19:53.420636Z",
     "start_time": "2025-08-21T09:19:53.415227Z"
    }
   },
   "cell_type": "code",
   "source": [
    "def val_step():\n",
    "    model.eval()\n",
    "\n",
    "    with torch.inference_mode():\n",
    "        total_loss = 0\n",
    "        total_correct = 0\n",
    "\n",
    "        for batch_of_data, batch_of_target in val_loader:\n",
    "            batch_of_data = batch_of_data.to(device)\n",
    "            batch_of_target = batch_of_target.to(device)\n",
    "\n",
    "            logits = model(batch_of_data)\n",
    "\n",
    "            loss = loss_fn(logits, batch_of_target)\n",
    "            total_loss += loss.item()\n",
    "\n",
    "            predictions = logits.argmax(dim=1)\n",
    "            total_correct += predictions.eq(batch_of_target).sum().item()\n",
    "\n",
    "        print(f\"validation average_loss: {total_loss / len(val_loader)}\")\n",
    "        print(f\"validation accuracy: {total_correct / len(val_loader.dataset)}\")\n",
    "\n"
   ],
   "id": "1eb14f1f397c98f8",
   "outputs": [],
   "execution_count": 17
  },
  {
   "metadata": {
    "ExecuteTime": {
     "end_time": "2025-08-21T09:19:54.001611Z",
     "start_time": "2025-08-21T09:19:53.720721Z"
    }
   },
   "cell_type": "code",
   "source": [
    "model = IRISClassifier()\n",
    "model.to(device)\n",
    "\n",
    "loss_fn = nn.CrossEntropyLoss()\n",
    "optimizer = Adam(model.parameters())\n",
    "\n",
    "for epoch in range(5):\n",
    "    print(\"-\" * 20)\n",
    "    print(f\"epoch: {epoch}\")\n",
    "    train_step()\n",
    "    val_step()\n"
   ],
   "id": "81fb92bc1361a89f",
   "outputs": [
    {
     "name": "stdout",
     "output_type": "stream",
     "text": [
      "--------------------\n",
      "epoch: 0\n",
      "training average_loss: 1.1079630093141035\n",
      "validation average_loss: 1.1306960185368855\n",
      "validation accuracy: 0.36666666666666664\n",
      "--------------------\n",
      "epoch: 1\n",
      "training average_loss: 1.0650406967509876\n",
      "validation average_loss: 1.0661596457163494\n",
      "validation accuracy: 0.36666666666666664\n",
      "--------------------\n",
      "epoch: 2\n",
      "training average_loss: 1.0330196131359448\n",
      "validation average_loss: 1.0052913228670757\n",
      "validation accuracy: 0.36666666666666664\n",
      "--------------------\n",
      "epoch: 3\n",
      "training average_loss: 0.9949019930579446\n",
      "validation average_loss: 0.9664387504259745\n",
      "validation accuracy: 0.43333333333333335\n",
      "--------------------\n",
      "epoch: 4\n",
      "training average_loss: 0.9623267108743842\n",
      "validation average_loss: 0.905125896135966\n",
      "validation accuracy: 0.36666666666666664\n"
     ]
    }
   ],
   "execution_count": 18
  },
  {
   "metadata": {},
   "cell_type": "markdown",
   "source": "## <div style=\"text-align: center; color: lime\">Save and load our model</div>",
   "id": "559eaf447bee70a8"
  },
  {
   "metadata": {
    "ExecuteTime": {
     "end_time": "2025-08-21T09:19:54.664253Z",
     "start_time": "2025-08-21T09:19:54.655655Z"
    }
   },
   "cell_type": "code",
   "source": "torch.save(model.state_dict(), \"model.pth\")",
   "id": "8dccc7cf5dbac25b",
   "outputs": [],
   "execution_count": 19
  },
  {
   "metadata": {
    "ExecuteTime": {
     "end_time": "2025-08-21T09:19:55.100379Z",
     "start_time": "2025-08-21T09:19:55.090641Z"
    }
   },
   "cell_type": "code",
   "source": [
    "new_model = IRISClassifier()\n",
    "\n",
    "weights = torch.load(\"model.pth\")\n",
    "\n",
    "new_model.load_state_dict(weights)\n",
    "\n",
    "new_model = new_model.to(device)"
   ],
   "id": "478321b8e36cfe91",
   "outputs": [],
   "execution_count": 20
  },
  {
   "metadata": {
    "ExecuteTime": {
     "end_time": "2025-08-21T09:19:55.563111Z",
     "start_time": "2025-08-21T09:19:55.490250Z"
    }
   },
   "cell_type": "code",
   "source": [
    "for key in new_model.state_dict().keys():\n",
    "    if key not in model.state_dict().keys():\n",
    "        print(f\"Key {key} not in model.state_dict()\")\n",
    "        break\n",
    "\n",
    "    if not torch.allclose(new_model.state_dict()[key], model.state_dict()[key]):\n",
    "        print(\"Values are different\")\n",
    "        break\n"
   ],
   "id": "da6e5322faaaf513",
   "outputs": [],
   "execution_count": 21
  },
  {
   "metadata": {},
   "cell_type": "markdown",
   "source": [
    "<div style=\"text-align: center\">\n",
    "\n",
    "<div>\n",
    "    @LiterallyTheOne — PhD Candidate in Artificial Intelligence\n",
    "</div>\n",
    "\n",
    "<a style=\"margin: 1em\" href=\"https://literallytheone.github.io\">\n",
    "https://literallytheone.github.io\n",
    "</a>\n",
    "\n",
    "</div>\n"
   ],
   "id": "8cd403317132c31b"
  }
 ],
 "metadata": {
  "kernelspec": {
   "display_name": "Python 3",
   "language": "python",
   "name": "python3"
  },
  "language_info": {
   "codemirror_mode": {
    "name": "ipython",
    "version": 2
   },
   "file_extension": ".py",
   "mimetype": "text/x-python",
   "name": "python",
   "nbconvert_exporter": "python",
   "pygments_lexer": "ipython2",
   "version": "2.7.6"
  }
 },
 "nbformat": 4,
 "nbformat_minor": 5
}
