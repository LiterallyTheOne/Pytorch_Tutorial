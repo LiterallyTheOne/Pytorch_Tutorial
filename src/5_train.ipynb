{
 "cells": [
  {
   "metadata": {
    "collapsed": true
   },
   "cell_type": "markdown",
   "source": "# <div style=\"text-align: center; color: cyan\">Train</div>",
   "id": "41f3c8f5071ef78c"
  },
  {
   "metadata": {},
   "cell_type": "markdown",
   "source": "## <div style=\"text-align: center; color: lime\">Imports</div>",
   "id": "1c492126ad507e8e"
  },
  {
   "metadata": {
    "ExecuteTime": {
     "end_time": "2025-08-21T09:16:27.573783Z",
     "start_time": "2025-08-21T09:16:26.445355Z"
    }
   },
   "cell_type": "code",
   "source": [
    "import torch\n",
    "from torch import nn\n",
    "from torch.optim import Adam\n",
    "from torch.utils.data import Dataset, DataLoader, random_split\n",
    "\n",
    "from sklearn.datasets import load_iris"
   ],
   "id": "d2afa60a64620442",
   "outputs": [],
   "execution_count": 2
  },
  {
   "metadata": {},
   "cell_type": "markdown",
   "source": "## <div style=\"text-align: center; color: lime\">Load the data and make the model </div>",
   "id": "9e672158e7d1596"
  },
  {
   "metadata": {
    "ExecuteTime": {
     "end_time": "2025-08-21T09:16:27.580357Z",
     "start_time": "2025-08-21T09:16:27.576539Z"
    }
   },
   "cell_type": "code",
   "source": "iris = load_iris()",
   "id": "241c79ec25e46484",
   "outputs": [],
   "execution_count": 3
  },
  {
   "metadata": {
    "ExecuteTime": {
     "end_time": "2025-08-21T09:16:28.202103Z",
     "start_time": "2025-08-21T09:16:28.198554Z"
    }
   },
   "cell_type": "code",
   "source": [
    "class IRISDataset(Dataset):\n",
    "    def __init__(self, data, target):\n",
    "        super().__init__()\n",
    "        self.data = data\n",
    "        self.target = target\n",
    "\n",
    "    def __len__(self):\n",
    "        return len(self.data)\n",
    "\n",
    "    def __getitem__(self, idx):\n",
    "        data = torch.tensor(self.data[idx]).to(torch.float)\n",
    "        target = torch.tensor(self.target[idx])\n",
    "        return data, target\n",
    "\n",
    "iris_dataset = IRISDataset(iris.data, iris.target)"
   ],
   "id": "b97656666726376d",
   "outputs": [],
   "execution_count": 4
  },
  {
   "metadata": {
    "ExecuteTime": {
     "end_time": "2025-08-21T09:16:29.980944Z",
     "start_time": "2025-08-21T09:16:29.977156Z"
    }
   },
   "cell_type": "code",
   "source": [
    "g1 = torch.Generator().manual_seed(20)\n",
    "train_data, val_data, test_data = random_split(iris_dataset, [0.7, 0.2, 0.1], g1)\n",
    "\n",
    "train_loader = DataLoader(train_data, batch_size=10, shuffle=True)\n",
    "val_loader = DataLoader(val_data, batch_size=10, shuffle=False)\n",
    "test_loader = DataLoader(test_data, batch_size=10, shuffle=False)"
   ],
   "id": "931f73d058a98fd6",
   "outputs": [],
   "execution_count": 5
  },
  {
   "metadata": {
    "ExecuteTime": {
     "end_time": "2025-08-21T09:16:32.046634Z",
     "start_time": "2025-08-21T09:16:32.043735Z"
    }
   },
   "cell_type": "code",
   "source": [
    "class IRISClassifier(nn.Module):\n",
    "    def __init__(self):\n",
    "        super().__init__()\n",
    "\n",
    "        self.layers = nn.Sequential(\n",
    "            nn.Linear(4, 16),\n",
    "            nn.Linear(16, 8),\n",
    "            nn.Linear(8, 3),\n",
    "        )\n",
    "\n",
    "    def forward(self, x):\n",
    "        return self.layers(x)\n",
    "\n",
    "\n",
    "model = IRISClassifier()"
   ],
   "id": "3a521047b159a230",
   "outputs": [],
   "execution_count": 6
  },
  {
   "metadata": {},
   "cell_type": "markdown",
   "source": "## <div style=\"text-align: center; color: lime\">Train the model</div>",
   "id": "30c1ba725624f1e9"
  },
  {
   "metadata": {
    "ExecuteTime": {
     "end_time": "2025-08-21T09:16:35.403688Z",
     "start_time": "2025-08-21T09:16:34.915019Z"
    }
   },
   "cell_type": "code",
   "source": [
    "loss_fn = nn.CrossEntropyLoss()\n",
    "optimizer = Adam(model.parameters())"
   ],
   "id": "b67cd77427d3c749",
   "outputs": [],
   "execution_count": 7
  },
  {
   "metadata": {
    "ExecuteTime": {
     "end_time": "2025-08-21T09:16:35.432809Z",
     "start_time": "2025-08-21T09:16:35.409089Z"
    }
   },
   "cell_type": "code",
   "source": [
    "model.train()\n",
    "\n",
    "for batch_of_data, batch_of_target in train_loader:\n",
    "    optimizer.zero_grad()\n",
    "\n",
    "    logits = model(batch_of_data)\n",
    "\n",
    "    loss = loss_fn(logits, batch_of_target)\n",
    "    print(f\"loss: {loss.item()}\")\n",
    "\n",
    "    loss.backward()\n",
    "\n",
    "    optimizer.step()\n"
   ],
   "id": "fe68a7f2ede9a363",
   "outputs": [
    {
     "name": "stdout",
     "output_type": "stream",
     "text": [
      "loss: 1.0928857326507568\n",
      "loss: 1.250089168548584\n",
      "loss: 1.3968603610992432\n",
      "loss: 1.048239827156067\n",
      "loss: 1.3411037921905518\n",
      "loss: 0.9701024889945984\n",
      "loss: 1.0000779628753662\n",
      "loss: 0.9390740394592285\n",
      "loss: 0.9554198384284973\n",
      "loss: 0.9382257461547852\n",
      "loss: 1.0476295948028564\n"
     ]
    }
   ],
   "execution_count": 8
  },
  {
   "metadata": {},
   "cell_type": "markdown",
   "source": "## <div style=\"text-align: center; color: lime\">Evaluate the model</div>",
   "id": "23a24b15ad6d8ba5"
  },
  {
   "metadata": {
    "ExecuteTime": {
     "end_time": "2025-08-21T09:16:36.471651Z",
     "start_time": "2025-08-21T09:16:36.467276Z"
    }
   },
   "cell_type": "code",
   "source": [
    "model.eval()\n",
    "\n",
    "with torch.inference_mode():\n",
    "    total_loss = 0\n",
    "\n",
    "    for batch_of_data, batch_of_target in val_loader:\n",
    "        logits = model(batch_of_data)\n",
    "\n",
    "        loss = loss_fn(logits, batch_of_target)\n",
    "        total_loss += loss.item()\n",
    "\n",
    "    print(f\"average_loss: {total_loss / len(val_loader)}\")"
   ],
   "id": "3579d350a064e54f",
   "outputs": [
    {
     "name": "stdout",
     "output_type": "stream",
     "text": [
      "average_loss: 0.9457583427429199\n"
     ]
    }
   ],
   "execution_count": 9
  },
  {
   "metadata": {
    "ExecuteTime": {
     "end_time": "2025-08-21T09:16:36.949283Z",
     "start_time": "2025-08-21T09:16:36.942241Z"
    }
   },
   "cell_type": "code",
   "source": [
    "model.eval()\n",
    "\n",
    "with torch.inference_mode():\n",
    "    total_loss = 0\n",
    "    total_correct = 0\n",
    "\n",
    "    for batch_of_data, batch_of_target in val_loader:\n",
    "        logits = model(batch_of_data)\n",
    "\n",
    "        loss = loss_fn(logits, batch_of_target)\n",
    "        total_loss += loss.item()\n",
    "\n",
    "        predictions = logits.argmax(dim=1)\n",
    "        total_correct += predictions.eq(batch_of_target).sum().item()\n",
    "\n",
    "    print(f\"average_loss: {total_loss / len(val_loader)}\")\n",
    "    print(f\"accuracy: {total_correct / len(val_loader.dataset)}\")\n"
   ],
   "id": "53d90fd5d4124197",
   "outputs": [
    {
     "name": "stdout",
     "output_type": "stream",
     "text": [
      "average_loss: 0.9457583427429199\n",
      "accuracy: 0.5333333333333333\n"
     ]
    }
   ],
   "execution_count": 10
  },
  {
   "metadata": {},
   "cell_type": "markdown",
   "source": "## <div style=\"text-align: center; color: lime\">make train_step and val_step</div>",
   "id": "7b1abe035887d2b6"
  },
  {
   "metadata": {
    "ExecuteTime": {
     "end_time": "2025-08-21T09:16:38.168438Z",
     "start_time": "2025-08-21T09:16:38.165387Z"
    }
   },
   "cell_type": "code",
   "source": [
    "def train_step():\n",
    "    model.train()\n",
    "\n",
    "    total_loss = 0\n",
    "\n",
    "    for batch_of_data, batch_of_target in train_loader:\n",
    "        optimizer.zero_grad()\n",
    "\n",
    "        logits = model(batch_of_data)\n",
    "\n",
    "        loss = loss_fn(logits, batch_of_target)\n",
    "        total_loss += loss.item()\n",
    "\n",
    "        loss.backward()\n",
    "\n",
    "        optimizer.step()\n",
    "\n",
    "    print(f\"training average_loss: {total_loss / len(train_loader)}\")\n"
   ],
   "id": "212434bbb5fa7de",
   "outputs": [],
   "execution_count": 11
  },
  {
   "metadata": {
    "ExecuteTime": {
     "end_time": "2025-08-21T09:16:38.783779Z",
     "start_time": "2025-08-21T09:16:38.778824Z"
    }
   },
   "cell_type": "code",
   "source": [
    "def val_step():\n",
    "    model.eval()\n",
    "\n",
    "    with torch.inference_mode():\n",
    "        total_loss = 0\n",
    "        total_correct = 0\n",
    "\n",
    "        for batch_of_data, batch_of_target in val_loader:\n",
    "            logits = model(batch_of_data)\n",
    "\n",
    "            loss = loss_fn(logits, batch_of_target)\n",
    "            total_loss += loss.item()\n",
    "\n",
    "            predictions = logits.argmax(dim=1)\n",
    "            total_correct += predictions.eq(batch_of_target).sum().item()\n",
    "\n",
    "        print(f\"validation average_loss: {total_loss / len(val_loader)}\")\n",
    "        print(f\"validation accuracy: {total_correct / len(val_loader.dataset)}\")\n"
   ],
   "id": "3688d7ec6d62d8d9",
   "outputs": [],
   "execution_count": 12
  },
  {
   "metadata": {
    "ExecuteTime": {
     "end_time": "2025-08-21T09:16:39.336457Z",
     "start_time": "2025-08-21T09:16:39.326103Z"
    }
   },
   "cell_type": "code",
   "source": "train_step()",
   "id": "4376d2b8b4faf3dc",
   "outputs": [
    {
     "name": "stdout",
     "output_type": "stream",
     "text": [
      "training average_loss: 0.9776997186920859\n"
     ]
    }
   ],
   "execution_count": 13
  },
  {
   "metadata": {
    "ExecuteTime": {
     "end_time": "2025-08-21T09:16:39.954108Z",
     "start_time": "2025-08-21T09:16:39.949431Z"
    }
   },
   "cell_type": "code",
   "source": "val_step()",
   "id": "cce3fc2c8860ac3c",
   "outputs": [
    {
     "name": "stdout",
     "output_type": "stream",
     "text": [
      "validation average_loss: 0.9329464634259542\n",
      "validation accuracy: 0.7666666666666667\n"
     ]
    }
   ],
   "execution_count": 14
  },
  {
   "metadata": {},
   "cell_type": "markdown",
   "source": "## <div style=\"text-align: center; color: lime\">Epoch</div>",
   "id": "45adf8f4ddff4e8b"
  },
  {
   "metadata": {
    "ExecuteTime": {
     "end_time": "2025-08-21T09:16:40.950416Z",
     "start_time": "2025-08-21T09:16:40.919806Z"
    }
   },
   "cell_type": "code",
   "source": [
    "model = IRISClassifier()\n",
    "\n",
    "loss_fn = nn.CrossEntropyLoss()\n",
    "optimizer = Adam(model.parameters())\n",
    "\n",
    "for epoch in range(5):\n",
    "    print(\"-\" * 20)\n",
    "    print(f\"epoch: {epoch}\")\n",
    "    train_step()\n",
    "    val_step()"
   ],
   "id": "3946e37fac589181",
   "outputs": [
    {
     "name": "stdout",
     "output_type": "stream",
     "text": [
      "--------------------\n",
      "epoch: 0\n",
      "training average_loss: 1.015959923917597\n",
      "validation average_loss: 0.9808167219161987\n",
      "validation accuracy: 0.6333333333333333\n",
      "--------------------\n",
      "epoch: 1\n",
      "training average_loss: 0.972325016151775\n",
      "validation average_loss: 0.9715630809466044\n",
      "validation accuracy: 0.6333333333333333\n",
      "--------------------\n",
      "epoch: 2\n",
      "training average_loss: 0.9439240585673939\n",
      "validation average_loss: 0.9235706726710001\n",
      "validation accuracy: 0.6333333333333333\n",
      "--------------------\n",
      "epoch: 3\n",
      "training average_loss: 0.9132903164083307\n",
      "validation average_loss: 0.8667411605517069\n",
      "validation accuracy: 0.5333333333333333\n",
      "--------------------\n",
      "epoch: 4\n",
      "training average_loss: 0.8846907778219744\n",
      "validation average_loss: 0.816445509592692\n",
      "validation accuracy: 0.4666666666666667\n"
     ]
    }
   ],
   "execution_count": 15
  },
  {
   "metadata": {},
   "cell_type": "markdown",
   "source": "## <div style=\"text-align: center; color: lime\">Run on Accelerator</div>",
   "id": "3eb77314a1e69bf9"
  },
  {
   "metadata": {
    "ExecuteTime": {
     "end_time": "2025-08-21T09:16:46.816208Z",
     "start_time": "2025-08-21T09:16:46.814020Z"
    }
   },
   "cell_type": "code",
   "source": [
    "if torch.accelerator.is_available():\n",
    "    device = torch.accelerator.current_accelerator()\n",
    "else:\n",
    "    device = \"cpu\"\n",
    "\n",
    "print(device)"
   ],
   "id": "db8af5477b30c319",
   "outputs": [
    {
     "name": "stdout",
     "output_type": "stream",
     "text": [
      "mps\n"
     ]
    }
   ],
   "execution_count": 16
  },
  {
   "metadata": {
    "ExecuteTime": {
     "end_time": "2025-08-21T09:16:47.154806Z",
     "start_time": "2025-08-21T09:16:47.151768Z"
    }
   },
   "cell_type": "code",
   "source": [
    "def train_step():\n",
    "    model.train()\n",
    "\n",
    "    total_loss = 0\n",
    "\n",
    "    for batch_of_data, batch_of_target in train_loader:\n",
    "        batch_of_data = batch_of_data.to(device)\n",
    "        batch_of_target = batch_of_target.to(device)\n",
    "\n",
    "        optimizer.zero_grad()\n",
    "\n",
    "        logits = model(batch_of_data)\n",
    "\n",
    "        loss = loss_fn(logits, batch_of_target)\n",
    "        total_loss += loss.item()\n",
    "\n",
    "        loss.backward()\n",
    "\n",
    "        optimizer.step()\n",
    "\n",
    "    print(f\"training average_loss: {total_loss / len(train_loader)}\")\n"
   ],
   "id": "424027177235b79f",
   "outputs": [],
   "execution_count": 17
  },
  {
   "metadata": {
    "ExecuteTime": {
     "end_time": "2025-08-21T09:16:47.489475Z",
     "start_time": "2025-08-21T09:16:47.485153Z"
    }
   },
   "cell_type": "code",
   "source": [
    "def val_step():\n",
    "    model.eval()\n",
    "\n",
    "    with torch.inference_mode():\n",
    "        total_loss = 0\n",
    "        total_correct = 0\n",
    "\n",
    "        for batch_of_data, batch_of_target in val_loader:\n",
    "            batch_of_data = batch_of_data.to(device)\n",
    "            batch_of_target = batch_of_target.to(device)\n",
    "\n",
    "            logits = model(batch_of_data)\n",
    "\n",
    "            loss = loss_fn(logits, batch_of_target)\n",
    "            total_loss += loss.item()\n",
    "\n",
    "            predictions = logits.argmax(dim=1)\n",
    "            total_correct += predictions.eq(batch_of_target).sum().item()\n",
    "\n",
    "        print(f\"validation average_loss: {total_loss / len(val_loader)}\")\n",
    "        print(f\"validation accuracy: {total_correct / len(val_loader.dataset)}\")\n",
    "\n"
   ],
   "id": "1eb14f1f397c98f8",
   "outputs": [],
   "execution_count": 18
  },
  {
   "metadata": {
    "ExecuteTime": {
     "end_time": "2025-08-21T09:16:48.992977Z",
     "start_time": "2025-08-21T09:16:47.845330Z"
    }
   },
   "cell_type": "code",
   "source": [
    "model = IRISClassifier()\n",
    "model.to(device)\n",
    "\n",
    "loss_fn = nn.CrossEntropyLoss()\n",
    "optimizer = Adam(model.parameters())\n",
    "\n",
    "for epoch in range(5):\n",
    "    print(\"-\" * 20)\n",
    "    print(f\"epoch: {epoch}\")\n",
    "    train_step()\n",
    "    val_step()\n"
   ],
   "id": "81fb92bc1361a89f",
   "outputs": [
    {
     "name": "stdout",
     "output_type": "stream",
     "text": [
      "--------------------\n",
      "epoch: 0\n",
      "training average_loss: 1.2106390487064014\n",
      "validation average_loss: 1.2599918444951375\n",
      "validation accuracy: 0.2\n",
      "--------------------\n",
      "epoch: 1\n",
      "training average_loss: 1.1163438666950574\n",
      "validation average_loss: 1.135883132616679\n",
      "validation accuracy: 0.5\n",
      "--------------------\n",
      "epoch: 2\n",
      "training average_loss: 1.0798369212584062\n",
      "validation average_loss: 1.0811514457066853\n",
      "validation accuracy: 0.36666666666666664\n",
      "--------------------\n",
      "epoch: 3\n",
      "training average_loss: 1.0335172794081948\n",
      "validation average_loss: 1.0472945372263591\n",
      "validation accuracy: 0.3333333333333333\n",
      "--------------------\n",
      "epoch: 4\n",
      "training average_loss: 1.0019696192307905\n",
      "validation average_loss: 0.9941175182660421\n",
      "validation accuracy: 0.36666666666666664\n"
     ]
    }
   ],
   "execution_count": 19
  },
  {
   "metadata": {},
   "cell_type": "markdown",
   "source": "## <div style=\"text-align: center; color: lime\">Save and load our model</div>",
   "id": "559eaf447bee70a8"
  },
  {
   "metadata": {
    "ExecuteTime": {
     "end_time": "2025-08-21T09:16:49.073860Z",
     "start_time": "2025-08-21T09:16:49.067317Z"
    }
   },
   "cell_type": "code",
   "source": "torch.save(model.state_dict(), \"model.pth\")",
   "id": "8dccc7cf5dbac25b",
   "outputs": [],
   "execution_count": 20
  },
  {
   "metadata": {
    "ExecuteTime": {
     "end_time": "2025-08-21T09:16:49.723997Z",
     "start_time": "2025-08-21T09:16:49.713342Z"
    }
   },
   "cell_type": "code",
   "source": [
    "new_model = IRISClassifier()\n",
    "\n",
    "weights = torch.load(\"model.pth\")\n",
    "\n",
    "new_model.load_state_dict(weights)\n",
    "\n",
    "new_model = new_model.to(device)"
   ],
   "id": "478321b8e36cfe91",
   "outputs": [],
   "execution_count": 21
  },
  {
   "metadata": {
    "ExecuteTime": {
     "end_time": "2025-08-21T09:16:50.439073Z",
     "start_time": "2025-08-21T09:16:50.186573Z"
    }
   },
   "cell_type": "code",
   "source": [
    "for key in new_model.state_dict().keys():\n",
    "    if key not in model.state_dict().keys():\n",
    "        print(f\"Key {key} not in model.state_dict()\")\n",
    "        break\n",
    "\n",
    "    if not torch.allclose(new_model.state_dict()[key], model.state_dict()[key]):\n",
    "        print(\"Values are different\")\n",
    "        break\n"
   ],
   "id": "da6e5322faaaf513",
   "outputs": [],
   "execution_count": 22
  },
  {
   "metadata": {},
   "cell_type": "markdown",
   "source": [
    "<div style=\"text-align: center\">\n",
    "\n",
    "<div>\n",
    "    @LiterallyTheOne — PhD Candidate in Artificial Intelligence\n",
    "</div>\n",
    "\n",
    "<a style=\"margin: 1em\" href=\"https://literallytheone.github.io\">\n",
    "https://literallytheone.github.io\n",
    "</a>\n",
    "\n",
    "</div>\n"
   ],
   "id": "8cd403317132c31b"
  }
 ],
 "metadata": {
  "kernelspec": {
   "display_name": "Python 3",
   "language": "python",
   "name": "python3"
  },
  "language_info": {
   "codemirror_mode": {
    "name": "ipython",
    "version": 2
   },
   "file_extension": ".py",
   "mimetype": "text/x-python",
   "name": "python",
   "nbconvert_exporter": "python",
   "pygments_lexer": "ipython2",
   "version": "2.7.6"
  }
 },
 "nbformat": 4,
 "nbformat_minor": 5
}
