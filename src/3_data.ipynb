{
 "cells": [
  {
   "metadata": {},
   "cell_type": "markdown",
   "source": [
    "<div style=\"text-align: center\">\n",
    "    <a\n",
    "     href=\"https://colab.research.google.com/github/LiterallyTheOne/Pytorch_Tutorial/blob/main/src/3_data.ipynb\"\n",
    "     target=\"_parent\">\n",
    "        <img src=\"https://colab.research.google.com/assets/colab-badge.svg\" alt=\"Open In Colab\"/>\n",
    "    </a>\n",
    "</div>\n"
   ],
   "id": "67e60c574640265b"
  },
  {
   "metadata": {
    "collapsed": true
   },
   "cell_type": "markdown",
   "source": "# <div style=\"text-align: center; color: cyan\">Data</div>",
   "id": "41f3c8f5071ef78c"
  },
  {
   "metadata": {},
   "cell_type": "markdown",
   "source": "## <div style=\"text-align: center; color: lime\">Imports</div>",
   "id": "1c492126ad507e8e"
  },
  {
   "metadata": {
    "ExecuteTime": {
     "end_time": "2025-08-21T09:09:20.896845Z",
     "start_time": "2025-08-21T09:09:19.804343Z"
    }
   },
   "cell_type": "code",
   "source": [
    "import torch\n",
    "from torch import nn\n",
    "from torch.utils.data import Dataset, DataLoader, random_split\n",
    "\n",
    "import numpy as np\n",
    "\n",
    "from sklearn.datasets import load_iris"
   ],
   "id": "d2afa60a64620442",
   "outputs": [],
   "execution_count": 1
  },
  {
   "metadata": {},
   "cell_type": "markdown",
   "source": "## <div style=\"text-align: center; color: lime\">Load iris</div>",
   "id": "9e672158e7d1596"
  },
  {
   "metadata": {
    "ExecuteTime": {
     "end_time": "2025-08-21T09:09:24.584381Z",
     "start_time": "2025-08-21T09:09:24.576408Z"
    }
   },
   "cell_type": "code",
   "source": "iris = load_iris()",
   "id": "241c79ec25e46484",
   "outputs": [],
   "execution_count": 2
  },
  {
   "metadata": {
    "ExecuteTime": {
     "end_time": "2025-08-21T09:09:24.951441Z",
     "start_time": "2025-08-21T09:09:24.948214Z"
    }
   },
   "cell_type": "code",
   "source": [
    "print(\"feature names:\")\n",
    "print(iris.feature_names)"
   ],
   "id": "f0784d8a13692538",
   "outputs": [
    {
     "name": "stdout",
     "output_type": "stream",
     "text": [
      "feature names:\n",
      "['sepal length (cm)', 'sepal width (cm)', 'petal length (cm)', 'petal width (cm)']\n"
     ]
    }
   ],
   "execution_count": 3
  },
  {
   "metadata": {
    "ExecuteTime": {
     "end_time": "2025-08-21T09:09:25.362329Z",
     "start_time": "2025-08-21T09:09:25.359272Z"
    }
   },
   "cell_type": "code",
   "source": [
    "print(\"target names:\")\n",
    "print(iris.target_names)"
   ],
   "id": "6c466c3b00b5239",
   "outputs": [
    {
     "name": "stdout",
     "output_type": "stream",
     "text": [
      "target names:\n",
      "['setosa' 'versicolor' 'virginica']\n"
     ]
    }
   ],
   "execution_count": 4
  },
  {
   "metadata": {
    "ExecuteTime": {
     "end_time": "2025-08-21T09:09:25.774462Z",
     "start_time": "2025-08-21T09:09:25.771199Z"
    }
   },
   "cell_type": "code",
   "source": "print(\"Number of samples:\", len(iris.data))",
   "id": "4a9abaef257fb2c8",
   "outputs": [
    {
     "name": "stdout",
     "output_type": "stream",
     "text": [
      "Number of samples: 150\n"
     ]
    }
   ],
   "execution_count": 5
  },
  {
   "metadata": {
    "ExecuteTime": {
     "end_time": "2025-08-21T09:09:26.269059Z",
     "start_time": "2025-08-21T09:09:26.265551Z"
    }
   },
   "cell_type": "code",
   "source": [
    "chosen_indexes = np.linspace(0, len(iris.data), 10, dtype=int, endpoint=False)\n",
    "print(\"Chosen indices:\")\n",
    "print(chosen_indexes)\n",
    "print()\n",
    "\n",
    "print(\"10 samples of data:\")\n",
    "print(iris.data[chosen_indexes])\n",
    "print()\n",
    "\n",
    "print(\"10 samples of target:\")\n",
    "print(iris.target[chosen_indexes])\n",
    "print()"
   ],
   "id": "38de89b2968b301c",
   "outputs": [
    {
     "name": "stdout",
     "output_type": "stream",
     "text": [
      "Chosen indices:\n",
      "[  0  15  30  45  60  75  90 105 120 135]\n",
      "\n",
      "10 samples of data:\n",
      "[[5.1 3.5 1.4 0.2]\n",
      " [5.7 4.4 1.5 0.4]\n",
      " [4.8 3.1 1.6 0.2]\n",
      " [4.8 3.  1.4 0.3]\n",
      " [5.  2.  3.5 1. ]\n",
      " [6.6 3.  4.4 1.4]\n",
      " [5.5 2.6 4.4 1.2]\n",
      " [7.6 3.  6.6 2.1]\n",
      " [6.9 3.2 5.7 2.3]\n",
      " [7.7 3.  6.1 2.3]]\n",
      "\n",
      "10 samples of target:\n",
      "[0 0 0 0 1 1 1 2 2 2]\n",
      "\n"
     ]
    }
   ],
   "execution_count": 6
  },
  {
   "metadata": {},
   "cell_type": "markdown",
   "source": "## <div style=\"text-align: center; color: lime\">Make the data Ready for the model</div>",
   "id": "c9a85bc3c199146a"
  },
  {
   "metadata": {
    "ExecuteTime": {
     "end_time": "2025-08-21T09:09:27.841699Z",
     "start_time": "2025-08-21T09:09:27.838201Z"
    }
   },
   "cell_type": "code",
   "source": [
    "data = torch.tensor(iris.data).to(torch.float)\n",
    "target = torch.tensor(iris.target)"
   ],
   "id": "69b5379dcede19eb",
   "outputs": [],
   "execution_count": 7
  },
  {
   "metadata": {
    "ExecuteTime": {
     "end_time": "2025-08-21T09:09:29.035594Z",
     "start_time": "2025-08-21T09:09:29.032830Z"
    }
   },
   "cell_type": "code",
   "source": [
    "class IRISClassifier(nn.Module):\n",
    "    def __init__(self):\n",
    "        super().__init__()\n",
    "\n",
    "        self.layers = nn.Sequential(\n",
    "            nn.Linear(4, 16),\n",
    "            nn.Linear(16, 8),\n",
    "            nn.Linear(8, 3),\n",
    "        )\n",
    "\n",
    "    def forward(self, x):\n",
    "        return self.layers(x)"
   ],
   "id": "ebd83675d6a63c60",
   "outputs": [],
   "execution_count": 8
  },
  {
   "metadata": {
    "ExecuteTime": {
     "end_time": "2025-08-21T09:09:30.142170Z",
     "start_time": "2025-08-21T09:09:30.139167Z"
    }
   },
   "cell_type": "code",
   "source": [
    "iris_classifier = IRISClassifier()\n",
    "print(iris_classifier)"
   ],
   "id": "f07e1e5c3a3ac900",
   "outputs": [
    {
     "name": "stdout",
     "output_type": "stream",
     "text": [
      "IRISClassifier(\n",
      "  (layers): Sequential(\n",
      "    (0): Linear(in_features=4, out_features=16, bias=True)\n",
      "    (1): Linear(in_features=16, out_features=8, bias=True)\n",
      "    (2): Linear(in_features=8, out_features=3, bias=True)\n",
      "  )\n",
      ")\n"
     ]
    }
   ],
   "execution_count": 9
  },
  {
   "metadata": {
    "ExecuteTime": {
     "end_time": "2025-08-21T09:09:30.831266Z",
     "start_time": "2025-08-21T09:09:30.822454Z"
    }
   },
   "cell_type": "code",
   "source": [
    "logits = iris_classifier(data[chosen_indexes])\n",
    "print(logits)"
   ],
   "id": "785dd9beed5c29f2",
   "outputs": [
    {
     "name": "stdout",
     "output_type": "stream",
     "text": [
      "tensor([[-0.2037,  0.2888, -0.8635],\n",
      "        [-0.2014,  0.3559, -1.0159],\n",
      "        [-0.2132,  0.2667, -0.8344],\n",
      "        [-0.2306,  0.2433, -0.8410],\n",
      "        [-0.4830,  0.1544, -1.2539],\n",
      "        [-0.6414,  0.1873, -1.7033],\n",
      "        [-0.5178,  0.2197, -1.4673],\n",
      "        [-0.8885,  0.1719, -2.2540],\n",
      "        [-0.7698,  0.2043, -2.0934],\n",
      "        [-0.9115,  0.1397, -2.2729]], grad_fn=<AddmmBackward0>)\n"
     ]
    }
   ],
   "execution_count": 10
  },
  {
   "metadata": {
    "ExecuteTime": {
     "end_time": "2025-08-21T09:09:31.923508Z",
     "start_time": "2025-08-21T09:09:31.918736Z"
    }
   },
   "cell_type": "code",
   "source": [
    "predictions = logits.argmax(dim=1)\n",
    "for prediction, true_label in zip(predictions, target[chosen_indexes]):\n",
    "    print(prediction.item(), true_label.item())"
   ],
   "id": "b31015adbd80fde8",
   "outputs": [
    {
     "name": "stdout",
     "output_type": "stream",
     "text": [
      "1 0\n",
      "1 0\n",
      "1 0\n",
      "1 0\n",
      "1 1\n",
      "1 1\n",
      "1 1\n",
      "1 2\n",
      "1 2\n",
      "1 2\n"
     ]
    }
   ],
   "execution_count": 11
  },
  {
   "metadata": {},
   "cell_type": "markdown",
   "source": "## <div style=\"text-align: center; color: lime\">Dataset</div>",
   "id": "e87b8accfe57cdd"
  },
  {
   "metadata": {
    "ExecuteTime": {
     "end_time": "2025-08-21T09:10:28.823039Z",
     "start_time": "2025-08-21T09:10:28.819470Z"
    }
   },
   "cell_type": "code",
   "source": [
    "class IRISDataset(Dataset):\n",
    "    def __init__(self, data, target):\n",
    "        super().__init__()\n",
    "        self.data = data\n",
    "        self.target = target\n",
    "\n",
    "    def __len__(self):\n",
    "        return len(self.data)\n",
    "\n",
    "    def __getitem__(self, idx):\n",
    "        data = torch.tensor(self.data[idx]).to(torch.float)\n",
    "        target = torch.tensor(self.target[idx])\n",
    "        return data, target"
   ],
   "id": "1f537b58398d9ba9",
   "outputs": [],
   "execution_count": 12
  },
  {
   "metadata": {
    "ExecuteTime": {
     "end_time": "2025-08-21T09:10:32.563491Z",
     "start_time": "2025-08-21T09:10:32.557512Z"
    }
   },
   "cell_type": "code",
   "source": [
    "iris = load_iris()\n",
    "\n",
    "iris_dataset = IRISDataset(iris.data, iris.target)"
   ],
   "id": "489e6a43119e2a38",
   "outputs": [],
   "execution_count": 13
  },
  {
   "metadata": {
    "ExecuteTime": {
     "end_time": "2025-08-21T09:10:33.739789Z",
     "start_time": "2025-08-21T09:10:33.736019Z"
    }
   },
   "cell_type": "code",
   "source": [
    "for one_data, one_target in iris_dataset:\n",
    "    print(one_data)\n",
    "    print(one_target)\n",
    "    break"
   ],
   "id": "73322674250d1ae5",
   "outputs": [
    {
     "name": "stdout",
     "output_type": "stream",
     "text": [
      "tensor([5.1000, 3.5000, 1.4000, 0.2000])\n",
      "tensor(0)\n"
     ]
    }
   ],
   "execution_count": 14
  },
  {
   "metadata": {},
   "cell_type": "markdown",
   "source": "## <div style=\"text-align: center; color: lime\">DataLoader</div>",
   "id": "f73cd930064c0dcc"
  },
  {
   "metadata": {
    "ExecuteTime": {
     "end_time": "2025-08-21T09:10:36.691892Z",
     "start_time": "2025-08-21T09:10:36.689811Z"
    }
   },
   "cell_type": "code",
   "source": "iris_loader = DataLoader(iris_dataset, batch_size=10, shuffle=True)",
   "id": "f3c086b19c00e685",
   "outputs": [],
   "execution_count": 15
  },
  {
   "metadata": {
    "ExecuteTime": {
     "end_time": "2025-08-21T09:10:37.223035Z",
     "start_time": "2025-08-21T09:10:37.217109Z"
    }
   },
   "cell_type": "code",
   "source": [
    "for batch_of_data, batch_of_target in iris_loader:\n",
    "    print(batch_of_data)\n",
    "    print(batch_of_target)\n",
    "    break"
   ],
   "id": "7ff2608d6cbd9ba0",
   "outputs": [
    {
     "name": "stdout",
     "output_type": "stream",
     "text": [
      "tensor([[6.3000, 2.5000, 4.9000, 1.5000],\n",
      "        [6.7000, 3.0000, 5.2000, 2.3000],\n",
      "        [6.7000, 3.3000, 5.7000, 2.5000],\n",
      "        [6.1000, 3.0000, 4.6000, 1.4000],\n",
      "        [4.5000, 2.3000, 1.3000, 0.3000],\n",
      "        [5.8000, 2.7000, 5.1000, 1.9000],\n",
      "        [6.7000, 3.1000, 5.6000, 2.4000],\n",
      "        [6.0000, 2.7000, 5.1000, 1.6000],\n",
      "        [7.7000, 3.0000, 6.1000, 2.3000],\n",
      "        [5.0000, 3.5000, 1.3000, 0.3000]])\n",
      "tensor([1, 2, 2, 1, 0, 2, 2, 1, 2, 0])\n"
     ]
    }
   ],
   "execution_count": 16
  },
  {
   "metadata": {},
   "cell_type": "markdown",
   "source": "## <div style=\"text-align: center; color: lime\">Train, Validation, Test data</div>",
   "id": "8422728755df318d"
  },
  {
   "metadata": {
    "ExecuteTime": {
     "end_time": "2025-08-21T09:10:39.446146Z",
     "start_time": "2025-08-21T09:10:39.442226Z"
    }
   },
   "cell_type": "code",
   "source": [
    "g1 = torch.Generator().manual_seed(20)\n",
    "train_data, val_data, test_data = random_split(iris_dataset, [0.7, 0.2, 0.1], g1)"
   ],
   "id": "22dafaf63e2236f3",
   "outputs": [],
   "execution_count": 17
  },
  {
   "metadata": {
    "ExecuteTime": {
     "end_time": "2025-08-21T09:10:39.870109Z",
     "start_time": "2025-08-21T09:10:39.866989Z"
    }
   },
   "cell_type": "code",
   "source": [
    "print(\"train_data length:\", len(train_data))\n",
    "print(\"val_data length:\", len(val_data))\n",
    "print(\"test_data length:\", len(test_data))"
   ],
   "id": "59e9e7cd77ba2ec2",
   "outputs": [
    {
     "name": "stdout",
     "output_type": "stream",
     "text": [
      "train_data length: 105\n",
      "val_data length: 30\n",
      "test_data length: 15\n"
     ]
    }
   ],
   "execution_count": 18
  },
  {
   "metadata": {
    "ExecuteTime": {
     "end_time": "2025-08-21T09:10:40.496518Z",
     "start_time": "2025-08-21T09:10:40.493522Z"
    }
   },
   "cell_type": "code",
   "source": [
    "train_loader = DataLoader(train_data, batch_size=10, shuffle=True)\n",
    "val_loader = DataLoader(val_data, batch_size=10, shuffle=False)\n",
    "test_loader = DataLoader(test_data, batch_size=10, shuffle=False)"
   ],
   "id": "ff3e5a061c5c6158",
   "outputs": [],
   "execution_count": 19
  },
  {
   "metadata": {
    "ExecuteTime": {
     "end_time": "2025-08-21T09:10:45.321368Z",
     "start_time": "2025-08-21T09:10:45.315832Z"
    }
   },
   "cell_type": "code",
   "source": [
    "for batch_of_data, batch_of_target in train_loader:\n",
    "    logits = iris_classifier(batch_of_data)\n",
    "\n",
    "    predictions = logits.argmax(dim=1)\n",
    "    for prediction, true_label in zip(predictions, batch_of_target):\n",
    "        print(prediction.item(), true_label.item())\n",
    "    break"
   ],
   "id": "ae353cd4f646cd55",
   "outputs": [
    {
     "name": "stdout",
     "output_type": "stream",
     "text": [
      "1 1\n",
      "1 0\n",
      "1 0\n",
      "1 1\n",
      "1 1\n",
      "1 1\n",
      "1 0\n",
      "1 2\n",
      "1 1\n",
      "1 0\n"
     ]
    }
   ],
   "execution_count": 20
  },
  {
   "metadata": {},
   "cell_type": "markdown",
   "source": [
    "<div style=\"text-align: center\">\n",
    "\n",
    "<div>\n",
    "    @LiterallyTheOne — PhD Candidate in Artificial Intelligence\n",
    "</div>\n",
    "\n",
    "<a style=\"margin: 1em\" href=\"https://literallytheone.github.io\">\n",
    "https://literallytheone.github.io\n",
    "</a>\n",
    "\n",
    "</div>\n"
   ],
   "id": "8cd403317132c31b"
  }
 ],
 "metadata": {
  "kernelspec": {
   "display_name": "Python 3",
   "language": "python",
   "name": "python3"
  },
  "language_info": {
   "codemirror_mode": {
    "name": "ipython",
    "version": 2
   },
   "file_extension": ".py",
   "mimetype": "text/x-python",
   "name": "python",
   "nbconvert_exporter": "python",
   "pygments_lexer": "ipython2",
   "version": "2.7.6"
  }
 },
 "nbformat": 4,
 "nbformat_minor": 5
}
