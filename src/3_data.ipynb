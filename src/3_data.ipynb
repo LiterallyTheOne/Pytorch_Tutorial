{
 "cells": [
  {
   "metadata": {
    "collapsed": true
   },
   "cell_type": "markdown",
   "source": "# <div style=\"text-align: center; color: cyan\">Data</div>",
   "id": "41f3c8f5071ef78c"
  },
  {
   "metadata": {},
   "cell_type": "markdown",
   "source": "## <div style=\"text-align: center; color: lime\">Imports</div>",
   "id": "1c492126ad507e8e"
  },
  {
   "metadata": {
    "ExecuteTime": {
     "end_time": "2025-08-18T05:15:28.803024Z",
     "start_time": "2025-08-18T05:15:28.799239Z"
    }
   },
   "cell_type": "code",
   "source": [
    "import torch\n",
    "from torch import nn\n",
    "from torch.utils.data import Dataset, DataLoader, random_split\n",
    "\n",
    "import numpy as np\n",
    "\n",
    "from sklearn.datasets import load_iris"
   ],
   "id": "d2afa60a64620442",
   "outputs": [],
   "execution_count": 18
  },
  {
   "metadata": {},
   "cell_type": "markdown",
   "source": "## <div style=\"text-align: center; color: lime\">Load iris</div>",
   "id": "9e672158e7d1596"
  },
  {
   "metadata": {
    "ExecuteTime": {
     "end_time": "2025-08-18T04:59:43.487813Z",
     "start_time": "2025-08-18T04:59:43.484502Z"
    }
   },
   "cell_type": "code",
   "source": "iris = load_iris()",
   "id": "241c79ec25e46484",
   "outputs": [],
   "execution_count": 2
  },
  {
   "metadata": {
    "ExecuteTime": {
     "end_time": "2025-08-18T04:59:43.494886Z",
     "start_time": "2025-08-18T04:59:43.493229Z"
    }
   },
   "cell_type": "code",
   "source": [
    "print(\"feature names:\")\n",
    "print(iris.feature_names)"
   ],
   "id": "f0784d8a13692538",
   "outputs": [
    {
     "name": "stdout",
     "output_type": "stream",
     "text": [
      "feature names:\n",
      "['sepal length (cm)', 'sepal width (cm)', 'petal length (cm)', 'petal width (cm)']\n"
     ]
    }
   ],
   "execution_count": 3
  },
  {
   "metadata": {
    "ExecuteTime": {
     "end_time": "2025-08-18T04:59:43.506502Z",
     "start_time": "2025-08-18T04:59:43.504847Z"
    }
   },
   "cell_type": "code",
   "source": [
    "print(\"target names:\")\n",
    "print(iris.target_names)"
   ],
   "id": "6c466c3b00b5239",
   "outputs": [
    {
     "name": "stdout",
     "output_type": "stream",
     "text": [
      "target names:\n",
      "['setosa' 'versicolor' 'virginica']\n"
     ]
    }
   ],
   "execution_count": 4
  },
  {
   "metadata": {
    "ExecuteTime": {
     "end_time": "2025-08-18T04:59:43.516699Z",
     "start_time": "2025-08-18T04:59:43.514894Z"
    }
   },
   "cell_type": "code",
   "source": "print(\"Number of samples:\", len(iris.data))",
   "id": "4a9abaef257fb2c8",
   "outputs": [
    {
     "name": "stdout",
     "output_type": "stream",
     "text": [
      "Number of samples: 150\n"
     ]
    }
   ],
   "execution_count": 5
  },
  {
   "metadata": {
    "ExecuteTime": {
     "end_time": "2025-08-18T04:59:43.535732Z",
     "start_time": "2025-08-18T04:59:43.533187Z"
    }
   },
   "cell_type": "code",
   "source": [
    "chosen_indexes = np.linspace(0, len(iris.data), 10, dtype=int, endpoint=False)\n",
    "print(\"Chosen indices:\")\n",
    "print(chosen_indexes)\n",
    "print()\n",
    "\n",
    "print(\"10 samples of data:\")\n",
    "print(iris.data[chosen_indexes])\n",
    "print()\n",
    "\n",
    "print(\"10 samples of target:\")\n",
    "print(iris.target[chosen_indexes])\n",
    "print()"
   ],
   "id": "38de89b2968b301c",
   "outputs": [
    {
     "name": "stdout",
     "output_type": "stream",
     "text": [
      "Chosen indices:\n",
      "[  0  15  30  45  60  75  90 105 120 135]\n",
      "\n",
      "10 samples of data:\n",
      "[[5.1 3.5 1.4 0.2]\n",
      " [5.7 4.4 1.5 0.4]\n",
      " [4.8 3.1 1.6 0.2]\n",
      " [4.8 3.  1.4 0.3]\n",
      " [5.  2.  3.5 1. ]\n",
      " [6.6 3.  4.4 1.4]\n",
      " [5.5 2.6 4.4 1.2]\n",
      " [7.6 3.  6.6 2.1]\n",
      " [6.9 3.2 5.7 2.3]\n",
      " [7.7 3.  6.1 2.3]]\n",
      "\n",
      "10 samples of target:\n",
      "[0 0 0 0 1 1 1 2 2 2]\n",
      "\n"
     ]
    }
   ],
   "execution_count": 6
  },
  {
   "metadata": {},
   "cell_type": "markdown",
   "source": "## <div style=\"text-align: center; color: lime\">Make the data Ready for the model</div>",
   "id": "c9a85bc3c199146a"
  },
  {
   "metadata": {
    "ExecuteTime": {
     "end_time": "2025-08-18T04:59:43.561365Z",
     "start_time": "2025-08-18T04:59:43.553856Z"
    }
   },
   "cell_type": "code",
   "source": [
    "data = torch.tensor(iris.data).to(torch.float)\n",
    "target = torch.tensor(iris.target).to(torch.float)"
   ],
   "id": "69b5379dcede19eb",
   "outputs": [],
   "execution_count": 7
  },
  {
   "metadata": {
    "ExecuteTime": {
     "end_time": "2025-08-18T04:59:43.738937Z",
     "start_time": "2025-08-18T04:59:43.736133Z"
    }
   },
   "cell_type": "code",
   "source": [
    "class IRISClassifier(nn.Module):\n",
    "    def __init__(self):\n",
    "        super().__init__()\n",
    "\n",
    "        self.layers = nn.Sequential(\n",
    "            nn.Linear(4, 16),\n",
    "            nn.Linear(16, 8),\n",
    "            nn.Linear(8, 3),\n",
    "        )\n",
    "\n",
    "    def forward(self, x):\n",
    "        return self.layers(x)"
   ],
   "id": "ebd83675d6a63c60",
   "outputs": [],
   "execution_count": 8
  },
  {
   "metadata": {
    "ExecuteTime": {
     "end_time": "2025-08-18T04:59:44.275428Z",
     "start_time": "2025-08-18T04:59:44.267486Z"
    }
   },
   "cell_type": "code",
   "source": [
    "iris_classifier = IRISClassifier()\n",
    "print(iris_classifier)"
   ],
   "id": "f07e1e5c3a3ac900",
   "outputs": [
    {
     "name": "stdout",
     "output_type": "stream",
     "text": [
      "IRISClassifier(\n",
      "  (layers): Sequential(\n",
      "    (0): Linear(in_features=4, out_features=16, bias=True)\n",
      "    (1): Linear(in_features=16, out_features=8, bias=True)\n",
      "    (2): Linear(in_features=8, out_features=3, bias=True)\n",
      "  )\n",
      ")\n"
     ]
    }
   ],
   "execution_count": 9
  },
  {
   "metadata": {
    "ExecuteTime": {
     "end_time": "2025-08-18T04:59:45.096991Z",
     "start_time": "2025-08-18T04:59:45.075707Z"
    }
   },
   "cell_type": "code",
   "source": [
    "logits = iris_classifier(data[chosen_indexes])\n",
    "print(logits)"
   ],
   "id": "785dd9beed5c29f2",
   "outputs": [
    {
     "name": "stdout",
     "output_type": "stream",
     "text": [
      "tensor([[1.2440, 0.8722, 0.5158],\n",
      "        [1.5019, 0.9612, 0.5241],\n",
      "        [1.1093, 0.8960, 0.5363],\n",
      "        [1.0947, 0.8504, 0.5192],\n",
      "        [0.8081, 1.3979, 0.7693],\n",
      "        [1.2004, 1.7546, 0.8913],\n",
      "        [0.9556, 1.6719, 0.8633],\n",
      "        [1.2313, 2.3932, 1.1527],\n",
      "        [1.1910, 2.1471, 1.0338],\n",
      "        [1.2615, 2.2873, 1.1066]], grad_fn=<AddmmBackward0>)\n"
     ]
    }
   ],
   "execution_count": 10
  },
  {
   "metadata": {
    "ExecuteTime": {
     "end_time": "2025-08-18T04:59:45.658749Z",
     "start_time": "2025-08-18T04:59:45.653909Z"
    }
   },
   "cell_type": "code",
   "source": [
    "predictions = logits.argmax(dim=1)\n",
    "for prediction, true_label in zip(predictions, target[chosen_indexes]):\n",
    "    print(prediction.item(), true_label.item())"
   ],
   "id": "b31015adbd80fde8",
   "outputs": [
    {
     "name": "stdout",
     "output_type": "stream",
     "text": [
      "0 0.0\n",
      "0 0.0\n",
      "0 0.0\n",
      "0 0.0\n",
      "1 1.0\n",
      "1 1.0\n",
      "1 1.0\n",
      "1 2.0\n",
      "1 2.0\n",
      "1 2.0\n"
     ]
    }
   ],
   "execution_count": 11
  },
  {
   "metadata": {},
   "cell_type": "markdown",
   "source": "## <div style=\"text-align: center; color: lime\">Dataset</div>",
   "id": "e87b8accfe57cdd"
  },
  {
   "metadata": {
    "ExecuteTime": {
     "end_time": "2025-08-18T04:59:47.607676Z",
     "start_time": "2025-08-18T04:59:47.603773Z"
    }
   },
   "cell_type": "code",
   "source": [
    "class IRISDataset(Dataset):\n",
    "    def __init__(self, data, target):\n",
    "        super().__init__()\n",
    "        self.data = data\n",
    "        self.target = target\n",
    "\n",
    "    def __len__(self):\n",
    "        return len(self.data)\n",
    "\n",
    "    def __getitem__(self, idx):\n",
    "        return self.data[idx], self.target[idx]"
   ],
   "id": "1f537b58398d9ba9",
   "outputs": [],
   "execution_count": 12
  },
  {
   "metadata": {
    "ExecuteTime": {
     "end_time": "2025-08-18T04:59:48.746598Z",
     "start_time": "2025-08-18T04:59:48.742520Z"
    }
   },
   "cell_type": "code",
   "source": "iris_dataset = IRISDataset(data, target)",
   "id": "489e6a43119e2a38",
   "outputs": [],
   "execution_count": 13
  },
  {
   "metadata": {
    "ExecuteTime": {
     "end_time": "2025-08-18T04:59:51.930830Z",
     "start_time": "2025-08-18T04:59:51.925728Z"
    }
   },
   "cell_type": "code",
   "source": [
    "for one_data, one_target in iris_dataset:\n",
    "    print(one_data)\n",
    "    print(one_target)\n",
    "    break"
   ],
   "id": "73322674250d1ae5",
   "outputs": [
    {
     "name": "stdout",
     "output_type": "stream",
     "text": [
      "tensor([5.1000, 3.5000, 1.4000, 0.2000])\n",
      "tensor(0.)\n"
     ]
    }
   ],
   "execution_count": 14
  },
  {
   "metadata": {},
   "cell_type": "markdown",
   "source": "## <div style=\"text-align: center; color: lime\">DataLoader</div>",
   "id": "f73cd930064c0dcc"
  },
  {
   "metadata": {
    "ExecuteTime": {
     "end_time": "2025-08-18T04:59:57.230562Z",
     "start_time": "2025-08-18T04:59:57.227353Z"
    }
   },
   "cell_type": "code",
   "source": "iris_loader = DataLoader(iris_dataset, batch_size=10, shuffle=True)",
   "id": "f3c086b19c00e685",
   "outputs": [],
   "execution_count": 15
  },
  {
   "metadata": {
    "ExecuteTime": {
     "end_time": "2025-08-18T05:04:13.431974Z",
     "start_time": "2025-08-18T05:04:13.426209Z"
    }
   },
   "cell_type": "code",
   "source": [
    "for batch_of_data, batch_of_target in iris_loader:\n",
    "    print(batch_of_data)\n",
    "    print(batch_of_target)\n",
    "    break"
   ],
   "id": "7ff2608d6cbd9ba0",
   "outputs": [
    {
     "name": "stdout",
     "output_type": "stream",
     "text": [
      "tensor([[6.4000, 2.9000, 4.3000, 1.3000],\n",
      "        [6.4000, 3.1000, 5.5000, 1.8000],\n",
      "        [7.7000, 2.6000, 6.9000, 2.3000],\n",
      "        [4.8000, 3.4000, 1.9000, 0.2000],\n",
      "        [4.6000, 3.2000, 1.4000, 0.2000],\n",
      "        [6.7000, 3.1000, 4.4000, 1.4000],\n",
      "        [6.2000, 2.8000, 4.8000, 1.8000],\n",
      "        [6.1000, 3.0000, 4.6000, 1.4000],\n",
      "        [5.7000, 2.8000, 4.1000, 1.3000],\n",
      "        [5.4000, 3.9000, 1.3000, 0.4000]])\n",
      "tensor([1., 2., 2., 0., 0., 1., 2., 1., 1., 0.])\n"
     ]
    }
   ],
   "execution_count": 17
  },
  {
   "metadata": {},
   "cell_type": "markdown",
   "source": "## <div style=\"text-align: center; color: lime\">Train, Validation, Test data</div>",
   "id": "8422728755df318d"
  },
  {
   "metadata": {
    "ExecuteTime": {
     "end_time": "2025-08-18T05:27:56.112634Z",
     "start_time": "2025-08-18T05:27:56.109599Z"
    }
   },
   "cell_type": "code",
   "source": [
    "g1 = torch.Generator().manual_seed(20)\n",
    "train_data, val_data, test_data = random_split(iris_dataset, [0.7, 0.2, 0.1], g1)"
   ],
   "id": "22dafaf63e2236f3",
   "outputs": [],
   "execution_count": 22
  },
  {
   "metadata": {
    "ExecuteTime": {
     "end_time": "2025-08-18T05:28:23.992003Z",
     "start_time": "2025-08-18T05:28:23.988968Z"
    }
   },
   "cell_type": "code",
   "source": [
    "print(\"train_data length:\", len(train_data))\n",
    "print(\"val_data length:\", len(val_data))\n",
    "print(\"test_data length:\", len(test_data))"
   ],
   "id": "59e9e7cd77ba2ec2",
   "outputs": [
    {
     "name": "stdout",
     "output_type": "stream",
     "text": [
      "train_data length: 105\n",
      "val_data length: 30\n",
      "test_data length: 15\n"
     ]
    }
   ],
   "execution_count": 23
  },
  {
   "metadata": {
    "ExecuteTime": {
     "end_time": "2025-08-18T05:16:55.752369Z",
     "start_time": "2025-08-18T05:16:55.748467Z"
    }
   },
   "cell_type": "code",
   "source": [
    "train_loader = DataLoader(train_data, batch_size=10, shuffle=True)\n",
    "val_loader = DataLoader(val_data, batch_size=10, shuffle=False)\n",
    "test_loader = DataLoader(test_data, batch_size=10, shuffle=False)"
   ],
   "id": "ff3e5a061c5c6158",
   "outputs": [],
   "execution_count": 20
  },
  {
   "metadata": {
    "ExecuteTime": {
     "end_time": "2025-08-18T05:19:07.137722Z",
     "start_time": "2025-08-18T05:19:07.131349Z"
    }
   },
   "cell_type": "code",
   "source": [
    "for batch_of_data, batch_of_target in train_loader:\n",
    "    logits = iris_classifier(batch_of_data)\n",
    "\n",
    "    predictions = logits.argmax(dim=1)\n",
    "    for prediction, true_label in zip(predictions, batch_of_target):\n",
    "        print(prediction.item(), true_label.item())\n",
    "    break"
   ],
   "id": "ae353cd4f646cd55",
   "outputs": [
    {
     "name": "stdout",
     "output_type": "stream",
     "text": [
      "1 1.0\n",
      "1 2.0\n",
      "0 0.0\n",
      "1 1.0\n",
      "0 0.0\n",
      "1 1.0\n",
      "1 1.0\n",
      "0 0.0\n",
      "1 2.0\n",
      "1 2.0\n"
     ]
    }
   ],
   "execution_count": 21
  },
  {
   "metadata": {},
   "cell_type": "markdown",
   "source": [
    "<div style=\"text-align: center\">\n",
    "\n",
    "<div>\n",
    "    @LiterallyTheOne — PhD Candidate in Artificial Intelligence\n",
    "</div>\n",
    "\n",
    "<a style=\"margin: 1em\" href=\"https://literallytheone.github.io\">\n",
    "https://literallytheone.github.io\n",
    "</a>\n",
    "\n",
    "</div>\n"
   ],
   "id": "8cd403317132c31b"
  }
 ],
 "metadata": {
  "kernelspec": {
   "display_name": "Python 3",
   "language": "python",
   "name": "python3"
  },
  "language_info": {
   "codemirror_mode": {
    "name": "ipython",
    "version": 2
   },
   "file_extension": ".py",
   "mimetype": "text/x-python",
   "name": "python",
   "nbconvert_exporter": "python",
   "pygments_lexer": "ipython2",
   "version": "2.7.6"
  }
 },
 "nbformat": 4,
 "nbformat_minor": 5
}
