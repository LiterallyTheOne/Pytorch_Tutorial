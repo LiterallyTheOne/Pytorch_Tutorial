{
 "cells": [
  {
   "metadata": {
    "collapsed": true
   },
   "cell_type": "markdown",
   "source": "# <div style=\"text-align: center; color: cyan\">Data</div>",
   "id": "41f3c8f5071ef78c"
  },
  {
   "metadata": {},
   "cell_type": "markdown",
   "source": "## <div style=\"text-align: center; color: lime\">Imports</div>",
   "id": "1c492126ad507e8e"
  },
  {
   "metadata": {
    "ExecuteTime": {
     "end_time": "2025-08-17T08:20:14.064720Z",
     "start_time": "2025-08-17T08:20:14.061307Z"
    }
   },
   "cell_type": "code",
   "source": [
    "import torch\n",
    "from torch import nn\n",
    "\n",
    "import numpy as np\n",
    "\n",
    "from sklearn.datasets import load_iris"
   ],
   "id": "d2afa60a64620442",
   "outputs": [],
   "execution_count": 24
  },
  {
   "metadata": {},
   "cell_type": "markdown",
   "source": "## <div style=\"text-align: center; color: lime\">Load iris</div>",
   "id": "9e672158e7d1596"
  },
  {
   "metadata": {},
   "cell_type": "code",
   "source": "iris = load_iris()",
   "id": "241c79ec25e46484",
   "execution_count": null,
   "outputs": []
  },
  {
   "metadata": {
    "ExecuteTime": {
     "end_time": "2025-08-17T08:51:45.032844Z",
     "start_time": "2025-08-17T08:51:45.030911Z"
    }
   },
   "cell_type": "code",
   "source": [
    "print(\"feature names:\")\n",
    "print(iris.feature_names)"
   ],
   "id": "f0784d8a13692538",
   "outputs": [
    {
     "name": "stdout",
     "output_type": "stream",
     "text": [
      "feature names:\n",
      "['sepal length (cm)', 'sepal width (cm)', 'petal length (cm)', 'petal width (cm)']\n"
     ]
    }
   ],
   "execution_count": 58
  },
  {
   "metadata": {
    "ExecuteTime": {
     "end_time": "2025-08-17T08:53:18.967823Z",
     "start_time": "2025-08-17T08:53:18.964726Z"
    }
   },
   "cell_type": "code",
   "source": [
    "print(\"target names:\")\n",
    "print(iris.target_names)"
   ],
   "id": "6c466c3b00b5239",
   "outputs": [
    {
     "name": "stdout",
     "output_type": "stream",
     "text": [
      "target names:\n",
      "['setosa' 'versicolor' 'virginica']\n"
     ]
    }
   ],
   "execution_count": 59
  },
  {
   "metadata": {
    "ExecuteTime": {
     "end_time": "2025-08-17T08:56:03.642093Z",
     "start_time": "2025-08-17T08:56:03.639522Z"
    }
   },
   "cell_type": "code",
   "source": "print(\"Number of samples:\", len(iris.data))",
   "id": "4a9abaef257fb2c8",
   "outputs": [
    {
     "name": "stdout",
     "output_type": "stream",
     "text": [
      "Number of samples: 150\n"
     ]
    }
   ],
   "execution_count": 60
  },
  {
   "metadata": {
    "ExecuteTime": {
     "end_time": "2025-08-17T08:58:57.286275Z",
     "start_time": "2025-08-17T08:58:57.281601Z"
    }
   },
   "cell_type": "code",
   "source": [
    "chosen_indexes = np.linspace(0, len(iris.data), 10, dtype=int, endpoint=False)\n",
    "print(\"Chosen indices:\")\n",
    "print(chosen_indexes)\n",
    "print()\n",
    "\n",
    "print(\"10 samples of data:\")\n",
    "print(iris.data[chosen_indexes])\n",
    "print()\n",
    "\n",
    "print(\"10 samples of target:\")\n",
    "print(iris.target[chosen_indexes])\n",
    "print()"
   ],
   "id": "38de89b2968b301c",
   "outputs": [
    {
     "name": "stdout",
     "output_type": "stream",
     "text": [
      "Chosen indices:\n",
      "[  0  15  30  45  60  75  90 105 120 135]\n",
      "\n",
      "10 samples of data:\n",
      "[[5.1 3.5 1.4 0.2]\n",
      " [5.7 4.4 1.5 0.4]\n",
      " [4.8 3.1 1.6 0.2]\n",
      " [4.8 3.  1.4 0.3]\n",
      " [5.  2.  3.5 1. ]\n",
      " [6.6 3.  4.4 1.4]\n",
      " [5.5 2.6 4.4 1.2]\n",
      " [7.6 3.  6.6 2.1]\n",
      " [6.9 3.2 5.7 2.3]\n",
      " [7.7 3.  6.1 2.3]]\n",
      "\n",
      "10 samples of target:\n",
      "[0 0 0 0 1 1 1 2 2 2]\n",
      "\n"
     ]
    }
   ],
   "execution_count": 62
  },
  {
   "metadata": {},
   "cell_type": "markdown",
   "source": "## <div style=\"text-align: center; color: lime\">Make the data Ready for the model</div>",
   "id": "c9a85bc3c199146a"
  },
  {
   "metadata": {
    "ExecuteTime": {
     "end_time": "2025-08-17T08:29:41.654051Z",
     "start_time": "2025-08-17T08:29:41.652085Z"
    }
   },
   "cell_type": "code",
   "source": [
    "data = torch.tensor(iris.data).to(torch.float)\n",
    "target = torch.tensor(iris.target).to(torch.float)"
   ],
   "id": "69b5379dcede19eb",
   "outputs": [],
   "execution_count": 46
  },
  {
   "metadata": {
    "ExecuteTime": {
     "end_time": "2025-08-17T08:31:43.442770Z",
     "start_time": "2025-08-17T08:31:43.439010Z"
    }
   },
   "cell_type": "code",
   "source": [
    "class IRISClassifier(nn.Module):\n",
    "    def __init__(self):\n",
    "        super().__init__()\n",
    "\n",
    "        self.layers = nn.Sequential(\n",
    "            nn.Linear(4, 16),\n",
    "            nn.Linear(16, 8),\n",
    "            nn.Linear(8, 3),\n",
    "        )\n",
    "\n",
    "    def forward(self, x):\n",
    "        return self.layers(x)"
   ],
   "id": "ebd83675d6a63c60",
   "outputs": [],
   "execution_count": 52
  },
  {
   "metadata": {
    "ExecuteTime": {
     "end_time": "2025-08-17T08:31:44.141909Z",
     "start_time": "2025-08-17T08:31:44.138412Z"
    }
   },
   "cell_type": "code",
   "source": [
    "iris_classifier = IRISClassifier()\n",
    "print(iris_classifier)"
   ],
   "id": "f07e1e5c3a3ac900",
   "outputs": [
    {
     "name": "stdout",
     "output_type": "stream",
     "text": [
      "IRISClassifier(\n",
      "  (layers): Sequential(\n",
      "    (0): Linear(in_features=4, out_features=16, bias=True)\n",
      "    (1): Linear(in_features=16, out_features=8, bias=True)\n",
      "    (2): Linear(in_features=8, out_features=3, bias=True)\n",
      "  )\n",
      ")\n"
     ]
    }
   ],
   "execution_count": 53
  },
  {
   "metadata": {
    "ExecuteTime": {
     "end_time": "2025-08-17T09:20:09.468210Z",
     "start_time": "2025-08-17T09:20:09.464556Z"
    }
   },
   "cell_type": "code",
   "source": [
    "logits = iris_classifier(data[chosen_indexes])\n",
    "print(logits)"
   ],
   "id": "785dd9beed5c29f2",
   "outputs": [
    {
     "name": "stdout",
     "output_type": "stream",
     "text": [
      "tensor([[ 0.7939, -0.1909,  0.1670],\n",
      "        [ 0.8980, -0.1740,  0.1619],\n",
      "        [ 0.7493, -0.1995,  0.1764],\n",
      "        [ 0.7270, -0.2024,  0.1689],\n",
      "        [ 0.7400, -0.2674,  0.1978],\n",
      "        [ 0.9774, -0.2836,  0.1797],\n",
      "        [ 0.8546, -0.2658,  0.2126],\n",
      "        [ 1.1355, -0.3332,  0.1992],\n",
      "        [ 1.0169, -0.2975,  0.2015],\n",
      "        [ 1.1078, -0.3330,  0.1814]], grad_fn=<AddmmBackward0>)\n"
     ]
    }
   ],
   "execution_count": 63
  },
  {
   "metadata": {
    "ExecuteTime": {
     "end_time": "2025-08-17T09:20:09.985228Z",
     "start_time": "2025-08-17T09:20:09.981770Z"
    }
   },
   "cell_type": "code",
   "source": [
    "predictions = logits.argmax(dim=1)\n",
    "for prediction, true_label in zip(predictions, target[chosen_indexes]):\n",
    "    print(prediction.item(), true_label.item())"
   ],
   "id": "b31015adbd80fde8",
   "outputs": [
    {
     "name": "stdout",
     "output_type": "stream",
     "text": [
      "0 0.0\n",
      "0 0.0\n",
      "0 0.0\n",
      "0 0.0\n",
      "0 1.0\n",
      "0 1.0\n",
      "0 1.0\n",
      "0 2.0\n",
      "0 2.0\n",
      "0 2.0\n"
     ]
    }
   ],
   "execution_count": 64
  },
  {
   "metadata": {},
   "cell_type": "markdown",
   "source": "## <div style=\"text-align: center; color: lime\">Dataset</div>",
   "id": "e87b8accfe57cdd"
  },
  {
   "metadata": {},
   "cell_type": "markdown",
   "source": [
    "<div style=\"text-align: center\">\n",
    "\n",
    "<div>\n",
    "    @LiterallyTheOne — PhD Candidate in Artificial Intelligence\n",
    "</div>\n",
    "\n",
    "<a style=\"margin: 1em\" href=\"https://literallytheone.github.io\">\n",
    "https://literallytheone.github.io\n",
    "</a>\n",
    "\n",
    "</div>\n"
   ],
   "id": "8cd403317132c31b"
  }
 ],
 "metadata": {
  "kernelspec": {
   "display_name": "Python 3",
   "language": "python",
   "name": "python3"
  },
  "language_info": {
   "codemirror_mode": {
    "name": "ipython",
    "version": 2
   },
   "file_extension": ".py",
   "mimetype": "text/x-python",
   "name": "python",
   "nbconvert_exporter": "python",
   "pygments_lexer": "ipython2",
   "version": "2.7.6"
  }
 },
 "nbformat": 4,
 "nbformat_minor": 5
}
