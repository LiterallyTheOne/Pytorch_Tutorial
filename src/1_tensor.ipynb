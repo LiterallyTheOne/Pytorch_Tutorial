{
 "cells": [
  {
   "metadata": {},
   "cell_type": "markdown",
   "source": "# <div style=\"text-align: center; color: cyan\">Tensor</div>",
   "id": "ab5a7b6200a517ed"
  },
  {
   "metadata": {},
   "cell_type": "markdown",
   "source": "## <div style=\"text-align: center; color: lime\">Imports</div>",
   "id": "1c492126ad507e8e"
  },
  {
   "metadata": {
    "ExecuteTime": {
     "end_time": "2025-08-14T07:28:35.710202Z",
     "start_time": "2025-08-14T07:28:35.706964Z"
    }
   },
   "cell_type": "code",
   "source": "import torch",
   "id": "d2afa60a64620442",
   "outputs": [],
   "execution_count": 2
  },
  {
   "metadata": {},
   "cell_type": "markdown",
   "source": "## <div style=\"text-align: center; color: lime\">Create a Tensor</div>",
   "id": "4d4864d66a668b8a"
  },
  {
   "metadata": {
    "ExecuteTime": {
     "end_time": "2025-08-14T07:29:18.589417Z",
     "start_time": "2025-08-14T07:29:18.581290Z"
    }
   },
   "cell_type": "code",
   "source": [
    "data = [\n",
    "    [1, 2, 3],\n",
    "    [4, 5, 6],\n",
    "    [7, 8, 9],\n",
    "]\n",
    "t1 = torch.tensor(data)\n",
    "print(t1)"
   ],
   "id": "174fe92046fbceb7",
   "outputs": [
    {
     "name": "stdout",
     "output_type": "stream",
     "text": [
      "tensor([[1, 2, 3],\n",
      "        [4, 5, 6],\n",
      "        [7, 8, 9]])\n"
     ]
    }
   ],
   "execution_count": 3
  },
  {
   "metadata": {
    "ExecuteTime": {
     "end_time": "2025-08-14T07:41:56.035731Z",
     "start_time": "2025-08-14T07:41:56.032077Z"
    }
   },
   "cell_type": "code",
   "source": [
    "s1 = torch.rand((3, 8))\n",
    "print(s1)\n",
    "print(s1.shape)"
   ],
   "id": "ddbe6339a5e14cb9",
   "outputs": [
    {
     "name": "stdout",
     "output_type": "stream",
     "text": [
      "tensor([[0.6667, 0.7057, 0.7670, 0.7719, 0.7298, 0.5729, 0.8281, 0.5963],\n",
      "        [0.1056, 0.5377, 0.3380, 0.4923, 0.0246, 0.8192, 0.3945, 0.1150],\n",
      "        [0.3885, 0.4211, 0.2655, 0.6766, 0.5082, 0.6465, 0.9499, 0.2008]])\n",
      "torch.Size([3, 8])\n"
     ]
    }
   ],
   "execution_count": 8
  },
  {
   "metadata": {
    "ExecuteTime": {
     "end_time": "2025-08-14T07:42:03.114853Z",
     "start_time": "2025-08-14T07:42:03.112076Z"
    }
   },
   "cell_type": "code",
   "source": [
    "s2 = torch.zeros((3, 8))\n",
    "print(s2)\n",
    "print(s2.shape)"
   ],
   "id": "4bc5348853b49840",
   "outputs": [
    {
     "name": "stdout",
     "output_type": "stream",
     "text": [
      "tensor([[0., 0., 0., 0., 0., 0., 0., 0.],\n",
      "        [0., 0., 0., 0., 0., 0., 0., 0.],\n",
      "        [0., 0., 0., 0., 0., 0., 0., 0.]])\n",
      "torch.Size([3, 8])\n"
     ]
    }
   ],
   "execution_count": 9
  },
  {
   "metadata": {
    "ExecuteTime": {
     "end_time": "2025-08-14T07:42:08.141308Z",
     "start_time": "2025-08-14T07:42:08.137696Z"
    }
   },
   "cell_type": "code",
   "source": [
    "s3 = torch.ones((3, 8))\n",
    "print(s3)\n",
    "print(s3.shape)"
   ],
   "id": "28e9846ccb7acf1d",
   "outputs": [
    {
     "name": "stdout",
     "output_type": "stream",
     "text": [
      "tensor([[1., 1., 1., 1., 1., 1., 1., 1.],\n",
      "        [1., 1., 1., 1., 1., 1., 1., 1.],\n",
      "        [1., 1., 1., 1., 1., 1., 1., 1.]])\n",
      "torch.Size([3, 8])\n"
     ]
    }
   ],
   "execution_count": 10
  },
  {
   "metadata": {
    "ExecuteTime": {
     "end_time": "2025-08-14T07:50:08.284342Z",
     "start_time": "2025-08-14T07:50:08.280622Z"
    }
   },
   "cell_type": "code",
   "source": [
    "l1 = torch.zeros_like(t1)\n",
    "print(l1)\n",
    "print(l1.shape)"
   ],
   "id": "be53b9efd325c410",
   "outputs": [
    {
     "name": "stdout",
     "output_type": "stream",
     "text": [
      "tensor([[0, 0, 0],\n",
      "        [0, 0, 0],\n",
      "        [0, 0, 0]])\n",
      "torch.Size([3, 3])\n"
     ]
    }
   ],
   "execution_count": 11
  },
  {
   "metadata": {},
   "cell_type": "markdown",
   "source": "## <div style=\"text-align: center; color: lime\">Tensor Attributes</div>",
   "id": "c1a0d031f3bc56f3"
  },
  {
   "metadata": {
    "ExecuteTime": {
     "end_time": "2025-08-14T08:31:03.006676Z",
     "start_time": "2025-08-14T08:31:03.002977Z"
    }
   },
   "cell_type": "code",
   "source": [
    "print(f\"shape: {t1.shape}\")\n",
    "print(f\"dtype: {t1.dtype}\")\n",
    "print(f\"device: {t1.device}\")"
   ],
   "id": "582c4f559c0c6f8a",
   "outputs": [
    {
     "name": "stdout",
     "output_type": "stream",
     "text": [
      "shape: torch.Size([3, 3])\n",
      "dtype: torch.int64\n",
      "device: cpu\n"
     ]
    }
   ],
   "execution_count": 12
  },
  {
   "metadata": {},
   "cell_type": "markdown",
   "source": "## <div style=\"text-align: center; color: lime\">Control the device</div>",
   "id": "152d0362c3a6b992"
  },
  {
   "metadata": {
    "ExecuteTime": {
     "end_time": "2025-08-14T08:38:17.361605Z",
     "start_time": "2025-08-14T08:38:17.335185Z"
    }
   },
   "cell_type": "code",
   "source": [
    "if torch.accelerator.is_available():\n",
    "    device = torch.accelerator.current_accelerator()\n",
    "else:\n",
    "    device = \"cpu\"\n",
    "\n",
    "print(device)"
   ],
   "id": "6883961e7c19d504",
   "outputs": [
    {
     "name": "stdout",
     "output_type": "stream",
     "text": [
      "mps\n"
     ]
    }
   ],
   "execution_count": 13
  },
  {
   "metadata": {
    "ExecuteTime": {
     "end_time": "2025-08-14T08:46:25.375205Z",
     "start_time": "2025-08-14T08:46:25.362076Z"
    }
   },
   "cell_type": "code",
   "source": [
    "t1 = t1.to(device)\n",
    "print(t1.device)"
   ],
   "id": "1bf5d67fb349f0e2",
   "outputs": [
    {
     "name": "stdout",
     "output_type": "stream",
     "text": [
      "mps:0\n"
     ]
    }
   ],
   "execution_count": 14
  },
  {
   "metadata": {},
   "cell_type": "markdown",
   "source": [
    "<div style=\"text-align: center\">\n",
    "\n",
    "<div>\n",
    "    @LiterallyTheOne — PhD Candidate in Artificial Intelligence\n",
    "</div>\n",
    "\n",
    "<a style=\"margin: 1em\" href=\"https://literallytheone.github.io\">\n",
    "https://literallytheone.github.io\n",
    "</a>\n",
    "\n",
    "</div>\n"
   ],
   "id": "8cd403317132c31b"
  }
 ],
 "metadata": {
  "kernelspec": {
   "display_name": "Python 3",
   "language": "python",
   "name": "python3"
  },
  "language_info": {
   "codemirror_mode": {
    "name": "ipython",
    "version": 2
   },
   "file_extension": ".py",
   "mimetype": "text/x-python",
   "name": "python",
   "nbconvert_exporter": "python",
   "pygments_lexer": "ipython2",
   "version": "2.7.6"
  }
 },
 "nbformat": 4,
 "nbformat_minor": 5
}
