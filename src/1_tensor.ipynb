{
 "cells": [
  {
   "metadata": {},
   "cell_type": "markdown",
   "source": "# <div style=\"text-align: center; color: cyan\">Tensor</div>",
   "id": "ab5a7b6200a517ed"
  },
  {
   "metadata": {},
   "cell_type": "markdown",
   "source": "## <div style=\"text-align: center; color: lime\">Imports</div>",
   "id": "1c492126ad507e8e"
  },
  {
   "metadata": {
    "ExecuteTime": {
     "end_time": "2025-08-16T08:15:55.035436Z",
     "start_time": "2025-08-16T08:15:54.277426Z"
    }
   },
   "cell_type": "code",
   "source": "import torch",
   "id": "d2afa60a64620442",
   "outputs": [],
   "execution_count": 2
  },
  {
   "metadata": {},
   "cell_type": "markdown",
   "source": "## <div style=\"text-align: center; color: lime\">Create a Tensor</div>",
   "id": "4d4864d66a668b8a"
  },
  {
   "metadata": {
    "ExecuteTime": {
     "end_time": "2025-08-16T08:15:55.594820Z",
     "start_time": "2025-08-16T08:15:55.582290Z"
    }
   },
   "cell_type": "code",
   "source": [
    "data = [\n",
    "    [1, 2, 3],\n",
    "    [4, 5, 6],\n",
    "    [7, 8, 9],\n",
    "]\n",
    "t1 = torch.tensor(data)\n",
    "print(t1)"
   ],
   "id": "174fe92046fbceb7",
   "outputs": [
    {
     "name": "stdout",
     "output_type": "stream",
     "text": [
      "tensor([[1, 2, 3],\n",
      "        [4, 5, 6],\n",
      "        [7, 8, 9]])\n"
     ]
    }
   ],
   "execution_count": 3
  },
  {
   "metadata": {
    "ExecuteTime": {
     "end_time": "2025-08-16T08:15:56.149533Z",
     "start_time": "2025-08-16T08:15:56.133077Z"
    }
   },
   "cell_type": "code",
   "source": [
    "s1 = torch.rand((3, 8))\n",
    "print(s1)\n",
    "print(s1.shape)"
   ],
   "id": "ddbe6339a5e14cb9",
   "outputs": [
    {
     "name": "stdout",
     "output_type": "stream",
     "text": [
      "tensor([[0.5226, 0.6391, 0.0536, 0.5870, 0.7463, 0.8882, 0.0854, 0.9113],\n",
      "        [0.6659, 0.3923, 0.7082, 0.8238, 0.1705, 0.3672, 0.9563, 0.4498],\n",
      "        [0.7385, 0.5925, 0.6865, 0.2962, 0.0998, 0.8313, 0.2338, 0.9663]])\n",
      "torch.Size([3, 8])\n"
     ]
    }
   ],
   "execution_count": 4
  },
  {
   "metadata": {
    "ExecuteTime": {
     "end_time": "2025-08-16T08:15:56.518752Z",
     "start_time": "2025-08-16T08:15:56.513334Z"
    }
   },
   "cell_type": "code",
   "source": [
    "s2 = torch.zeros((3, 8))\n",
    "print(s2)\n",
    "print(s2.shape)"
   ],
   "id": "4bc5348853b49840",
   "outputs": [
    {
     "name": "stdout",
     "output_type": "stream",
     "text": [
      "tensor([[0., 0., 0., 0., 0., 0., 0., 0.],\n",
      "        [0., 0., 0., 0., 0., 0., 0., 0.],\n",
      "        [0., 0., 0., 0., 0., 0., 0., 0.]])\n",
      "torch.Size([3, 8])\n"
     ]
    }
   ],
   "execution_count": 5
  },
  {
   "metadata": {
    "ExecuteTime": {
     "end_time": "2025-08-16T08:15:56.888281Z",
     "start_time": "2025-08-16T08:15:56.885061Z"
    }
   },
   "cell_type": "code",
   "source": [
    "s3 = torch.ones((3, 8))\n",
    "print(s3)\n",
    "print(s3.shape)"
   ],
   "id": "28e9846ccb7acf1d",
   "outputs": [
    {
     "name": "stdout",
     "output_type": "stream",
     "text": [
      "tensor([[1., 1., 1., 1., 1., 1., 1., 1.],\n",
      "        [1., 1., 1., 1., 1., 1., 1., 1.],\n",
      "        [1., 1., 1., 1., 1., 1., 1., 1.]])\n",
      "torch.Size([3, 8])\n"
     ]
    }
   ],
   "execution_count": 6
  },
  {
   "metadata": {
    "ExecuteTime": {
     "end_time": "2025-08-16T08:15:57.268131Z",
     "start_time": "2025-08-16T08:15:57.264568Z"
    }
   },
   "cell_type": "code",
   "source": [
    "l1 = torch.zeros_like(t1)\n",
    "print(l1)\n",
    "print(l1.shape)"
   ],
   "id": "be53b9efd325c410",
   "outputs": [
    {
     "name": "stdout",
     "output_type": "stream",
     "text": [
      "tensor([[0, 0, 0],\n",
      "        [0, 0, 0],\n",
      "        [0, 0, 0]])\n",
      "torch.Size([3, 3])\n"
     ]
    }
   ],
   "execution_count": 7
  },
  {
   "metadata": {},
   "cell_type": "markdown",
   "source": "## <div style=\"text-align: center; color: lime\">Tensor Attributes</div>",
   "id": "c1a0d031f3bc56f3"
  },
  {
   "metadata": {
    "ExecuteTime": {
     "end_time": "2025-08-16T08:15:58.042245Z",
     "start_time": "2025-08-16T08:15:58.039945Z"
    }
   },
   "cell_type": "code",
   "source": [
    "print(f\"shape: {t1.shape}\")\n",
    "print(f\"dtype: {t1.dtype}\")\n",
    "print(f\"device: {t1.device}\")"
   ],
   "id": "582c4f559c0c6f8a",
   "outputs": [
    {
     "name": "stdout",
     "output_type": "stream",
     "text": [
      "shape: torch.Size([3, 3])\n",
      "dtype: torch.int64\n",
      "device: cpu\n"
     ]
    }
   ],
   "execution_count": 8
  },
  {
   "metadata": {},
   "cell_type": "markdown",
   "source": "## <div style=\"text-align: center; color: lime\">Control the device</div>",
   "id": "152d0362c3a6b992"
  },
  {
   "metadata": {
    "ExecuteTime": {
     "end_time": "2025-08-16T08:15:59.714332Z",
     "start_time": "2025-08-16T08:15:59.693081Z"
    }
   },
   "cell_type": "code",
   "source": [
    "if torch.accelerator.is_available():\n",
    "    device = torch.accelerator.current_accelerator()\n",
    "else:\n",
    "    device = \"cpu\"\n",
    "\n",
    "print(device)"
   ],
   "id": "6883961e7c19d504",
   "outputs": [
    {
     "name": "stdout",
     "output_type": "stream",
     "text": [
      "mps\n"
     ]
    }
   ],
   "execution_count": 9
  },
  {
   "metadata": {
    "ExecuteTime": {
     "end_time": "2025-08-16T08:16:00.220969Z",
     "start_time": "2025-08-16T08:16:00.208433Z"
    }
   },
   "cell_type": "code",
   "source": [
    "t1 = t1.to(device)\n",
    "print(t1.device)"
   ],
   "id": "1066078625ee93f6",
   "outputs": [
    {
     "name": "stdout",
     "output_type": "stream",
     "text": [
      "mps:0\n"
     ]
    }
   ],
   "execution_count": 10
  },
  {
   "metadata": {},
   "cell_type": "markdown",
   "source": "## <div style=\"text-align: center; color: lime\">Operations on Tensor</div>",
   "id": "9dc1cd4f882ce4a1"
  },
  {
   "metadata": {
    "ExecuteTime": {
     "end_time": "2025-08-16T08:21:37.701635Z",
     "start_time": "2025-08-16T08:21:37.693470Z"
    }
   },
   "cell_type": "code",
   "source": "print(t1)",
   "id": "1b45fd67971ae260",
   "outputs": [
    {
     "name": "stdout",
     "output_type": "stream",
     "text": [
      "tensor([[1, 2, 3],\n",
      "        [4, 5, 6],\n",
      "        [7, 8, 9]], device='mps:0')\n"
     ]
    }
   ],
   "execution_count": 14
  },
  {
   "metadata": {
    "ExecuteTime": {
     "end_time": "2025-08-16T08:16:03.532610Z",
     "start_time": "2025-08-16T08:16:03.524942Z"
    }
   },
   "cell_type": "code",
   "source": [
    "t1_first_row = t1[0]\n",
    "print(t1_first_row)"
   ],
   "id": "f0ef7b7787ebb635",
   "outputs": [
    {
     "name": "stdout",
     "output_type": "stream",
     "text": [
      "tensor([1, 2, 3], device='mps:0')\n"
     ]
    }
   ],
   "execution_count": 11
  },
  {
   "metadata": {
    "ExecuteTime": {
     "end_time": "2025-08-16T08:16:22.576876Z",
     "start_time": "2025-08-16T08:16:22.505257Z"
    }
   },
   "cell_type": "code",
   "source": [
    "t1_first_column = t1[:, 0]\n",
    "print(t1_first_column)"
   ],
   "id": "34713f24c781f76d",
   "outputs": [
    {
     "name": "stdout",
     "output_type": "stream",
     "text": [
      "tensor([1, 4, 7], device='mps:0')\n"
     ]
    }
   ],
   "execution_count": 12
  },
  {
   "metadata": {
    "ExecuteTime": {
     "end_time": "2025-08-16T08:20:07.188585Z",
     "start_time": "2025-08-16T08:20:07.180308Z"
    }
   },
   "cell_type": "code",
   "source": [
    "t1_slice = t1[1:, 1:]\n",
    "print(t1_slice)"
   ],
   "id": "a5dfaee059016f1f",
   "outputs": [
    {
     "name": "stdout",
     "output_type": "stream",
     "text": [
      "tensor([[5, 6],\n",
      "        [8, 9]], device='mps:0')\n"
     ]
    }
   ],
   "execution_count": 13
  },
  {
   "metadata": {
    "ExecuteTime": {
     "end_time": "2025-08-16T08:26:07.772026Z",
     "start_time": "2025-08-16T08:26:07.768049Z"
    }
   },
   "cell_type": "code",
   "source": [
    "c1 = torch.zeros((5, 4))\n",
    "c2 = torch.ones((5, 2))\n",
    "\n",
    "c3 = torch.concat((c1, c2), dim=1)\n",
    "print(c3)"
   ],
   "id": "a73dc39528389e47",
   "outputs": [
    {
     "name": "stdout",
     "output_type": "stream",
     "text": [
      "tensor([[0., 0., 0., 0., 1., 1.],\n",
      "        [0., 0., 0., 0., 1., 1.],\n",
      "        [0., 0., 0., 0., 1., 1.],\n",
      "        [0., 0., 0., 0., 1., 1.],\n",
      "        [0., 0., 0., 0., 1., 1.]])\n"
     ]
    }
   ],
   "execution_count": 16
  },
  {
   "metadata": {
    "ExecuteTime": {
     "end_time": "2025-08-16T08:46:49.021976Z",
     "start_time": "2025-08-16T08:46:49.015843Z"
    }
   },
   "cell_type": "code",
   "source": [
    "a1 = torch.tensor([\n",
    "    [1, 2, 3],\n",
    "    [4, 5, 6],\n",
    "])\n",
    "a1t = a1.T\n",
    "\n",
    "print(a1)\n",
    "print(a1t)"
   ],
   "id": "8c54e4c1ca89fa34",
   "outputs": [
    {
     "name": "stdout",
     "output_type": "stream",
     "text": [
      "tensor([[1, 2, 3],\n",
      "        [4, 5, 6]])\n",
      "tensor([[1, 4],\n",
      "        [2, 5],\n",
      "        [3, 6]])\n"
     ]
    }
   ],
   "execution_count": 17
  },
  {
   "metadata": {
    "ExecuteTime": {
     "end_time": "2025-08-16T08:51:39.830063Z",
     "start_time": "2025-08-16T08:51:39.824568Z"
    }
   },
   "cell_type": "code",
   "source": [
    "matrix_1 = torch.Tensor([\n",
    "    [1.0, 2.0, 3.0],\n",
    "    [4.0, 5.0, 6.0],\n",
    "])\n",
    "\n",
    "matrix_2 = torch.tensor([\n",
    "    [1.0],\n",
    "    [2.0],\n",
    "    [3.0],\n",
    "])\n",
    "\n",
    "result = matrix_1 @ matrix_2\n",
    "print(result)"
   ],
   "id": "35df3c2ee5eb746e",
   "outputs": [
    {
     "name": "stdout",
     "output_type": "stream",
     "text": [
      "tensor([[14.],\n",
      "        [32.]])\n"
     ]
    }
   ],
   "execution_count": 20
  },
  {
   "metadata": {
    "ExecuteTime": {
     "end_time": "2025-08-16T08:56:05.886730Z",
     "start_time": "2025-08-16T08:56:05.882259Z"
    }
   },
   "cell_type": "code",
   "source": [
    "sum_matrix_1 = matrix_1.sum()\n",
    "print(sum_matrix_1)"
   ],
   "id": "d03e2a03e592d3fe",
   "outputs": [
    {
     "name": "stdout",
     "output_type": "stream",
     "text": [
      "tensor(21.)\n"
     ]
    }
   ],
   "execution_count": 21
  },
  {
   "metadata": {
    "ExecuteTime": {
     "end_time": "2025-08-16T09:00:52.824125Z",
     "start_time": "2025-08-16T09:00:52.818469Z"
    }
   },
   "cell_type": "code",
   "source": [
    "b1 = torch.tensor([\n",
    "    [3, 1, 7, 2],\n",
    "    [2, 4, 1, 3],\n",
    "    [9, 1, 2, 5],\n",
    "])\n",
    "\n",
    "max_of_each_row = b1.max(dim=1)\n",
    "\n",
    "print(max_of_each_row)"
   ],
   "id": "44f8d747088a199f",
   "outputs": [
    {
     "name": "stdout",
     "output_type": "stream",
     "text": [
      "torch.return_types.max(\n",
      "values=tensor([7, 4, 9]),\n",
      "indices=tensor([2, 1, 0]))\n"
     ]
    }
   ],
   "execution_count": 25
  },
  {
   "metadata": {
    "ExecuteTime": {
     "end_time": "2025-08-16T09:13:29.428915Z",
     "start_time": "2025-08-16T09:13:29.423901Z"
    }
   },
   "cell_type": "code",
   "source": [
    "argmax_of_each_row = b1.argmax(dim=1)\n",
    "\n",
    "print(argmax_of_each_row)"
   ],
   "id": "e7041157b9132eac",
   "outputs": [
    {
     "name": "stdout",
     "output_type": "stream",
     "text": [
      "tensor([2, 1, 0])\n"
     ]
    }
   ],
   "execution_count": 26
  },
  {
   "metadata": {},
   "cell_type": "markdown",
   "source": [
    "<div style=\"text-align: center\">\n",
    "\n",
    "<div>\n",
    "    @LiterallyTheOne — PhD Candidate in Artificial Intelligence\n",
    "</div>\n",
    "\n",
    "<a style=\"margin: 1em\" href=\"https://literallytheone.github.io\">\n",
    "https://literallytheone.github.io\n",
    "</a>\n",
    "\n",
    "</div>\n"
   ],
   "id": "8cd403317132c31b"
  }
 ],
 "metadata": {
  "kernelspec": {
   "display_name": "Python 3",
   "language": "python",
   "name": "python3"
  },
  "language_info": {
   "codemirror_mode": {
    "name": "ipython",
    "version": 2
   },
   "file_extension": ".py",
   "mimetype": "text/x-python",
   "name": "python",
   "nbconvert_exporter": "python",
   "pygments_lexer": "ipython2",
   "version": "2.7.6"
  }
 },
 "nbformat": 4,
 "nbformat_minor": 5
}
