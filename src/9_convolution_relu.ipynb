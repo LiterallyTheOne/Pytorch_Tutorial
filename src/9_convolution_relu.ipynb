{
 "cells": [
  {
   "metadata": {},
   "cell_type": "markdown",
   "source": "# <div style=\"text-align: center; color: cyan\">Convolution and relu</div>",
   "id": "e69c52e7fb77f7e9"
  },
  {
   "metadata": {},
   "cell_type": "markdown",
   "source": "## <div style=\"text-align: center; color: lime\">Imports</div>",
   "id": "525a2d9c3ca61999"
  },
  {
   "metadata": {
    "ExecuteTime": {
     "end_time": "2025-08-31T07:30:58.928736Z",
     "start_time": "2025-08-31T07:30:57.365807Z"
    }
   },
   "cell_type": "code",
   "source": [
    "import torch\n",
    "from torch import nn\n",
    "from torch.utils.data import Dataset, DataLoader, random_split\n",
    "\n",
    "from torchvision.datasets import MNIST, ImageFolder\n",
    "from torchvision import transforms\n",
    "\n",
    "import numpy as np\n",
    "\n",
    "from matplotlib import pyplot as plt\n"
   ],
   "id": "c912ad132034ee57",
   "outputs": [],
   "execution_count": 2
  },
  {
   "metadata": {},
   "cell_type": "markdown",
   "source": "## <div style=\"text-align: center; color: lime\">Convolution</div>",
   "id": "33ea65b5a1a483a4"
  },
  {
   "metadata": {
    "ExecuteTime": {
     "end_time": "2025-08-31T07:30:59.141463Z",
     "start_time": "2025-08-31T07:30:59.137790Z"
    }
   },
   "cell_type": "code",
   "source": [
    "image_size = (6, 6)\n",
    "kernel_size = (3, 3)\n",
    "\n",
    "image = np.arange(image_size[0] * image_size[1]).reshape(image_size)\n",
    "kernel = np.ones(kernel_size) / (kernel_size[0] * kernel_size[1])\n",
    "\n",
    "print(\"image:\")\n",
    "print(image)\n",
    "print(\"kernel:\")\n",
    "print(kernel)"
   ],
   "id": "4fba47ef5c2d0ec1",
   "outputs": [
    {
     "name": "stdout",
     "output_type": "stream",
     "text": [
      "image:\n",
      "[[ 0  1  2  3  4  5]\n",
      " [ 6  7  8  9 10 11]\n",
      " [12 13 14 15 16 17]\n",
      " [18 19 20 21 22 23]\n",
      " [24 25 26 27 28 29]\n",
      " [30 31 32 33 34 35]]\n",
      "kernel:\n",
      "[[0.11111111 0.11111111 0.11111111]\n",
      " [0.11111111 0.11111111 0.11111111]\n",
      " [0.11111111 0.11111111 0.11111111]]\n"
     ]
    }
   ],
   "execution_count": 3
  },
  {
   "metadata": {},
   "cell_type": "markdown",
   "source": "## <div style=\"text-align: center; color: lime\">Load MNIST</div>",
   "id": "ac5a6a44145411ae"
  },
  {
   "metadata": {
    "ExecuteTime": {
     "end_time": "2025-08-31T07:31:00.310214Z",
     "start_time": "2025-08-31T07:31:00.229164Z"
    }
   },
   "cell_type": "code",
   "source": [
    "train_data = MNIST(\"data/\", train=True, download=True, transform=transforms.ToTensor())\n",
    "test_data = MNIST(\"data/\", train=False, download=True, transform=transforms.ToTensor())\n",
    "\n",
    "for image, label in train_data:\n",
    "    plt.imshow(transforms.ToPILImage()(image), cmap=\"gray\")\n",
    "    print(f\"label : {label}\")\n",
    "    print(f\"image shape : {image.shape}\")\n",
    "    break"
   ],
   "id": "957b88422edc549f",
   "outputs": [
    {
     "name": "stdout",
     "output_type": "stream",
     "text": [
      "label : 5\n",
      "image shape : torch.Size([1, 28, 28])\n"
     ]
    },
    {
     "data": {
      "text/plain": [
       "<Figure size 640x480 with 1 Axes>"
      ],
      "image/png": "[encoded data removed]"
     },
     "metadata": {},
     "output_type": "display_data"
    }
   ],
   "execution_count": 4
  },
  {
   "metadata": {
    "ExecuteTime": {
     "end_time": "2025-08-31T07:31:01.030106Z",
     "start_time": "2025-08-31T07:31:01.013547Z"
    }
   },
   "cell_type": "code",
   "source": [
    "g1 = torch.Generator().manual_seed(20)\n",
    "val_data, test_data = random_split(test_data, [0.7, 0.3], g1)\n",
    "\n",
    "train_loader = DataLoader(train_data, batch_size=64, shuffle=True)\n",
    "val_loader = DataLoader(val_data, batch_size=64, shuffle=False)\n",
    "test_loader = DataLoader(test_data, batch_size=64, shuffle=False)\n",
    "\n",
    "images, labels = next(iter(train_loader))\n",
    "\n",
    "print(f\"images shape : {images.shape}\")\n",
    "print(f\"labels shape : {labels.shape}\")"
   ],
   "id": "1e6251fa9623319b",
   "outputs": [
    {
     "name": "stdout",
     "output_type": "stream",
     "text": [
      "images shape : torch.Size([64, 1, 28, 28])\n",
      "labels shape : torch.Size([64])\n"
     ]
    }
   ],
   "execution_count": 5
  },
  {
   "metadata": {},
   "cell_type": "markdown",
   "source": "## <div style=\"text-align: center; color: lime\">Convolution</div>",
   "id": "ea46de716347f3d5"
  },
  {
   "metadata": {},
   "cell_type": "code",
   "source": [
    "conv_1 = nn.Conv2d(\n",
    "    in_channels=1,\n",
    "    out_channels=3,\n",
    "    kernel_size=3,\n",
    "    stride=1,\n",
    "    padding=1,\n",
    "    dilation=1,\n",
    ")"
   ],
   "id": "5948d899ae549a04",
   "execution_count": null,
   "outputs": []
  },
  {
   "metadata": {},
   "cell_type": "code",
   "outputs": [
    {
     "name": "stdout",
     "output_type": "stream",
     "text": [
      "input shape : torch.Size([64, 1, 28, 28])\n",
      "output shape : torch.Size([64, 3, 28, 28])\n"
     ]
    }
   ],
   "execution_count": 7,
   "source": [
    "result = conv_1(images)\n",
    "print(f\"input shape : {images.shape}\")\n",
    "print(f\"output shape : {result.shape}\")"
   ],
   "id": "e3d410f29b605172"
  },
  {
   "metadata": {},
   "cell_type": "markdown",
   "source": "## <div style=\"text-align: center; color: lime\">ReLU</div>",
   "id": "2c7aac4da6ebff8b"
  },
  {
   "metadata": {
    "ExecuteTime": {
     "end_time": "2025-08-31T07:42:20.136393Z",
     "start_time": "2025-08-31T07:42:20.133124Z"
    }
   },
   "cell_type": "code",
   "source": "relu = nn.ReLU()",
   "id": "a1bd28fdec25a822",
   "outputs": [],
   "execution_count": 8
  },
  {
   "metadata": {
    "ExecuteTime": {
     "end_time": "2025-08-31T07:44:38.121474Z",
     "start_time": "2025-08-31T07:44:38.117138Z"
    }
   },
   "cell_type": "code",
   "source": [
    "a1 = torch.arange(-5, 6)\n",
    "result = relu(a1)\n",
    "\n",
    "print(f\"input: {a1}\")\n",
    "print(f\"output: {result}\")"
   ],
   "id": "2661146660263821",
   "outputs": [
    {
     "name": "stdout",
     "output_type": "stream",
     "text": [
      "input: tensor([-5, -4, -3, -2, -1,  0,  1,  2,  3,  4,  5])\n",
      "output: tensor([0, 0, 0, 0, 0, 0, 1, 2, 3, 4, 5])\n"
     ]
    }
   ],
   "execution_count": 11
  },
  {
   "metadata": {},
   "cell_type": "markdown",
   "source": "## <div style=\"text-align: center; color: lime\">Flatten</div>",
   "id": "8a72bb377f928458"
  },
  {
   "metadata": {
    "ExecuteTime": {
     "end_time": "2025-08-31T07:49:11.189757Z",
     "start_time": "2025-08-31T07:49:11.185271Z"
    }
   },
   "cell_type": "code",
   "source": "flatten = nn.Flatten()",
   "id": "b17131511355b259",
   "outputs": [],
   "execution_count": 12
  },
  {
   "metadata": {
    "ExecuteTime": {
     "end_time": "2025-08-31T08:07:59.244677Z",
     "start_time": "2025-08-31T08:07:59.241616Z"
    }
   },
   "cell_type": "code",
   "source": [
    "a2 = torch.arange(0, 16).reshape((2, 2, 4)).unsqueeze(0)\n",
    "result = flatten(a2)\n",
    "\n",
    "print(f\"input: {a2}\")\n",
    "print(f\"input shape: {a2.shape}\")\n",
    "print(f\"output: {result}\")\n",
    "print(f\"output shape: {result.shape}\")"
   ],
   "id": "b5ac5cdbd08c5a58",
   "outputs": [
    {
     "name": "stdout",
     "output_type": "stream",
     "text": [
      "input: tensor([[[[ 0,  1,  2,  3],\n",
      "          [ 4,  5,  6,  7]],\n",
      "\n",
      "         [[ 8,  9, 10, 11],\n",
      "          [12, 13, 14, 15]]]])\n",
      "input shape: torch.Size([1, 2, 2, 4])\n",
      "output: tensor([[ 0,  1,  2,  3,  4,  5,  6,  7,  8,  9, 10, 11, 12, 13, 14, 15]])\n",
      "output shape: torch.Size([1, 16])\n"
     ]
    }
   ],
   "execution_count": 18
  },
  {
   "metadata": {},
   "cell_type": "markdown",
   "source": "## <div style=\"text-align: center; color: lime\">Make a convolutional model</div>",
   "id": "f22d4b0caef0d3de"
  },
  {
   "metadata": {
    "ExecuteTime": {
     "end_time": "2025-08-31T08:35:24.640287Z",
     "start_time": "2025-08-31T08:35:24.635510Z"
    }
   },
   "cell_type": "code",
   "source": [
    "# -------------------[ Define Model ]-------------------\n",
    "class IRISClassifier(nn.Module):\n",
    "    def __init__(self):\n",
    "        super().__init__()\n",
    "\n",
    "        self.conv_layers = nn.Sequential(\n",
    "            nn.Conv2d(in_channels=1, out_channels=32, kernel_size=3, padding=1, stride=2),  # 32x14x14\n",
    "            nn.ReLU(),\n",
    "            nn.Conv2d(in_channels=32, out_channels=64, kernel_size=3, padding=1, stride=2),  # 64x7x7\n",
    "            nn.ReLU(),\n",
    "            nn.Conv2d(in_channels=64, out_channels=128, kernel_size=3, padding=1, stride=3),  # 128x3x3\n",
    "            nn.ReLU(),\n",
    "        )\n",
    "\n",
    "        self.classification_layers = nn.Sequential(\n",
    "            nn.Flatten(),\n",
    "            nn.Linear(128 * 3 * 3, 128),\n",
    "            nn.ReLU(),\n",
    "            nn.Linear(128, 10),\n",
    "        )\n",
    "\n",
    "    def forward(self, x):\n",
    "        x = self.conv_layers(x)\n",
    "        x = self.classification_layers(x)\n",
    "        return x\n",
    "\n"
   ],
   "id": "62e7058d61612c4c",
   "outputs": [],
   "execution_count": 22
  },
  {
   "metadata": {
    "ExecuteTime": {
     "end_time": "2025-08-31T08:35:26.154681Z",
     "start_time": "2025-08-31T08:35:26.124930Z"
    }
   },
   "cell_type": "code",
   "source": [
    "model = IRISClassifier()\n",
    "model(images)"
   ],
   "id": "17054d032a34cd5a",
   "outputs": [
    {
     "data": {
      "text/plain": [
       "tensor([[ 0.0803, -0.0838,  0.0393, -0.0506, -0.0848, -0.0326,  0.0094,  0.0639,\n",
       "          0.0651,  0.0281],\n",
       "        [ 0.0720, -0.0804,  0.0473, -0.0593, -0.0864, -0.0294,  0.0073,  0.0677,\n",
       "          0.0605,  0.0272],\n",
       "        [ 0.0742, -0.0802,  0.0438, -0.0514, -0.0843, -0.0258,  0.0069,  0.0689,\n",
       "          0.0589,  0.0331],\n",
       "        [ 0.0801, -0.0803,  0.0460, -0.0557, -0.0886, -0.0338,  0.0080,  0.0645,\n",
       "          0.0633,  0.0251],\n",
       "        [ 0.0759, -0.0828,  0.0427, -0.0603, -0.0873, -0.0283,  0.0114,  0.0621,\n",
       "          0.0609,  0.0315],\n",
       "        [ 0.0791, -0.0784,  0.0455, -0.0528, -0.0855, -0.0358,  0.0059,  0.0727,\n",
       "          0.0628,  0.0273],\n",
       "        [ 0.0791, -0.0756,  0.0401, -0.0558, -0.0871, -0.0329,  0.0061,  0.0704,\n",
       "          0.0612,  0.0322],\n",
       "        [ 0.0798, -0.0781,  0.0408, -0.0558, -0.0871, -0.0300,  0.0087,  0.0682,\n",
       "          0.0614,  0.0255],\n",
       "        [ 0.0807, -0.0746,  0.0386, -0.0546, -0.0849, -0.0276,  0.0107,  0.0645,\n",
       "          0.0588,  0.0327],\n",
       "        [ 0.0743, -0.0748,  0.0423, -0.0611, -0.0868, -0.0270,  0.0098,  0.0634,\n",
       "          0.0550,  0.0344],\n",
       "        [ 0.0788, -0.0806,  0.0427, -0.0575, -0.0856, -0.0319,  0.0111,  0.0661,\n",
       "          0.0624,  0.0285],\n",
       "        [ 0.0779, -0.0754,  0.0443, -0.0570, -0.0848, -0.0302,  0.0097,  0.0697,\n",
       "          0.0575,  0.0287],\n",
       "        [ 0.0787, -0.0815,  0.0477, -0.0564, -0.0840, -0.0338,  0.0098,  0.0672,\n",
       "          0.0626,  0.0259],\n",
       "        [ 0.0743, -0.0816,  0.0446, -0.0594, -0.0874, -0.0311,  0.0071,  0.0675,\n",
       "          0.0587,  0.0284],\n",
       "        [ 0.0781, -0.0750,  0.0424, -0.0560, -0.0866, -0.0314,  0.0073,  0.0675,\n",
       "          0.0585,  0.0279],\n",
       "        [ 0.0724, -0.0798,  0.0440, -0.0624, -0.0889, -0.0260,  0.0077,  0.0663,\n",
       "          0.0601,  0.0260],\n",
       "        [ 0.0734, -0.0758,  0.0453, -0.0587, -0.0872, -0.0291,  0.0099,  0.0650,\n",
       "          0.0593,  0.0281],\n",
       "        [ 0.0774, -0.0796,  0.0443, -0.0541, -0.0854, -0.0313,  0.0087,  0.0663,\n",
       "          0.0630,  0.0314],\n",
       "        [ 0.0809, -0.0754,  0.0424, -0.0511, -0.0862, -0.0307,  0.0091,  0.0655,\n",
       "          0.0608,  0.0273],\n",
       "        [ 0.0813, -0.0804,  0.0434, -0.0508, -0.0866, -0.0302,  0.0075,  0.0660,\n",
       "          0.0621,  0.0263],\n",
       "        [ 0.0770, -0.0722,  0.0418, -0.0572, -0.0833, -0.0351,  0.0061,  0.0676,\n",
       "          0.0577,  0.0334],\n",
       "        [ 0.0771, -0.0741,  0.0466, -0.0561, -0.0845, -0.0311,  0.0064,  0.0676,\n",
       "          0.0607,  0.0295],\n",
       "        [ 0.0745, -0.0791,  0.0411, -0.0558, -0.0844, -0.0254,  0.0123,  0.0720,\n",
       "          0.0593,  0.0307],\n",
       "        [ 0.0751, -0.0748,  0.0466, -0.0527, -0.0844, -0.0276,  0.0059,  0.0689,\n",
       "          0.0573,  0.0261],\n",
       "        [ 0.0797, -0.0816,  0.0451, -0.0566, -0.0860, -0.0312,  0.0085,  0.0669,\n",
       "          0.0613,  0.0280],\n",
       "        [ 0.0799, -0.0786,  0.0448, -0.0588, -0.0889, -0.0305,  0.0070,  0.0653,\n",
       "          0.0625,  0.0281],\n",
       "        [ 0.0801, -0.0751,  0.0451, -0.0541, -0.0832, -0.0310,  0.0066,  0.0680,\n",
       "          0.0606,  0.0299],\n",
       "        [ 0.0715, -0.0784,  0.0441, -0.0582, -0.0853, -0.0322,  0.0074,  0.0675,\n",
       "          0.0603,  0.0283],\n",
       "        [ 0.0760, -0.0795,  0.0464, -0.0562, -0.0853, -0.0318,  0.0133,  0.0677,\n",
       "          0.0605,  0.0271],\n",
       "        [ 0.0793, -0.0790,  0.0433, -0.0577, -0.0857, -0.0334,  0.0058,  0.0641,\n",
       "          0.0593,  0.0297],\n",
       "        [ 0.0797, -0.0788,  0.0411, -0.0542, -0.0864, -0.0298,  0.0121,  0.0658,\n",
       "          0.0633,  0.0317],\n",
       "        [ 0.0765, -0.0747,  0.0425, -0.0561, -0.0868, -0.0339,  0.0073,  0.0663,\n",
       "          0.0594,  0.0298],\n",
       "        [ 0.0732, -0.0778,  0.0460, -0.0571, -0.0850, -0.0341,  0.0102,  0.0693,\n",
       "          0.0585,  0.0303],\n",
       "        [ 0.0790, -0.0794,  0.0443, -0.0547, -0.0813, -0.0329,  0.0075,  0.0679,\n",
       "          0.0629,  0.0260],\n",
       "        [ 0.0758, -0.0766,  0.0462, -0.0540, -0.0866, -0.0305,  0.0080,  0.0659,\n",
       "          0.0561,  0.0305],\n",
       "        [ 0.0773, -0.0803,  0.0435, -0.0583, -0.0864, -0.0322,  0.0108,  0.0645,\n",
       "          0.0631,  0.0297],\n",
       "        [ 0.0757, -0.0768,  0.0408, -0.0565, -0.0826, -0.0335,  0.0076,  0.0665,\n",
       "          0.0608,  0.0307],\n",
       "        [ 0.0776, -0.0780,  0.0459, -0.0551, -0.0854, -0.0319,  0.0062,  0.0684,\n",
       "          0.0628,  0.0271],\n",
       "        [ 0.0778, -0.0814,  0.0404, -0.0550, -0.0873, -0.0274,  0.0038,  0.0664,\n",
       "          0.0637,  0.0287],\n",
       "        [ 0.0755, -0.0826,  0.0456, -0.0562, -0.0835, -0.0311,  0.0067,  0.0678,\n",
       "          0.0595,  0.0299],\n",
       "        [ 0.0767, -0.0796,  0.0423, -0.0557, -0.0842, -0.0309,  0.0076,  0.0721,\n",
       "          0.0580,  0.0288],\n",
       "        [ 0.0733, -0.0764,  0.0391, -0.0583, -0.0870, -0.0262,  0.0067,  0.0657,\n",
       "          0.0620,  0.0383],\n",
       "        [ 0.0813, -0.0787,  0.0426, -0.0559, -0.0883, -0.0329,  0.0066,  0.0634,\n",
       "          0.0648,  0.0278],\n",
       "        [ 0.0783, -0.0774,  0.0470, -0.0563, -0.0838, -0.0296,  0.0073,  0.0673,\n",
       "          0.0620,  0.0253],\n",
       "        [ 0.0766, -0.0778,  0.0413, -0.0521, -0.0854, -0.0296,  0.0102,  0.0680,\n",
       "          0.0604,  0.0289],\n",
       "        [ 0.0780, -0.0782,  0.0403, -0.0581, -0.0839, -0.0320,  0.0072,  0.0647,\n",
       "          0.0586,  0.0332],\n",
       "        [ 0.0736, -0.0792,  0.0423, -0.0557, -0.0856, -0.0303,  0.0073,  0.0676,\n",
       "          0.0591,  0.0295],\n",
       "        [ 0.0759, -0.0806,  0.0437, -0.0544, -0.0886, -0.0322,  0.0056,  0.0646,\n",
       "          0.0606,  0.0285],\n",
       "        [ 0.0765, -0.0822,  0.0460, -0.0552, -0.0892, -0.0306,  0.0065,  0.0647,\n",
       "          0.0634,  0.0277],\n",
       "        [ 0.0755, -0.0770,  0.0422, -0.0549, -0.0857, -0.0296,  0.0068,  0.0711,\n",
       "          0.0606,  0.0324],\n",
       "        [ 0.0738, -0.0827,  0.0438, -0.0564, -0.0850, -0.0307,  0.0069,  0.0680,\n",
       "          0.0598,  0.0331],\n",
       "        [ 0.0778, -0.0791,  0.0455, -0.0533, -0.0852, -0.0333,  0.0055,  0.0740,\n",
       "          0.0626,  0.0266],\n",
       "        [ 0.0789, -0.0750,  0.0463, -0.0542, -0.0838, -0.0322,  0.0084,  0.0691,\n",
       "          0.0601,  0.0264],\n",
       "        [ 0.0816, -0.0749,  0.0428, -0.0570, -0.0881, -0.0276,  0.0083,  0.0681,\n",
       "          0.0565,  0.0277],\n",
       "        [ 0.0697, -0.0797,  0.0457, -0.0561, -0.0835, -0.0281,  0.0022,  0.0662,\n",
       "          0.0594,  0.0291],\n",
       "        [ 0.0801, -0.0788,  0.0414, -0.0577, -0.0874, -0.0306,  0.0089,  0.0600,\n",
       "          0.0607,  0.0296],\n",
       "        [ 0.0794, -0.0772,  0.0467, -0.0562, -0.0885, -0.0336,  0.0098,  0.0638,\n",
       "          0.0629,  0.0272],\n",
       "        [ 0.0777, -0.0768,  0.0486, -0.0544, -0.0825, -0.0351,  0.0108,  0.0683,\n",
       "          0.0583,  0.0286],\n",
       "        [ 0.0776, -0.0799,  0.0426, -0.0534, -0.0858, -0.0342,  0.0036,  0.0676,\n",
       "          0.0602,  0.0326],\n",
       "        [ 0.0677, -0.0836,  0.0394, -0.0607, -0.0852, -0.0285,  0.0065,  0.0698,\n",
       "          0.0537,  0.0378],\n",
       "        [ 0.0788, -0.0800,  0.0419, -0.0585, -0.0862, -0.0295,  0.0067,  0.0646,\n",
       "          0.0625,  0.0314],\n",
       "        [ 0.0783, -0.0760,  0.0439, -0.0558, -0.0864, -0.0320,  0.0070,  0.0670,\n",
       "          0.0586,  0.0275],\n",
       "        [ 0.0769, -0.0787,  0.0455, -0.0583, -0.0875, -0.0269,  0.0103,  0.0653,\n",
       "          0.0588,  0.0307],\n",
       "        [ 0.0758, -0.0766,  0.0432, -0.0568, -0.0845, -0.0346,  0.0082,  0.0668,\n",
       "          0.0602,  0.0332]], grad_fn=<AddmmBackward0>)"
      ]
     },
     "execution_count": 23,
     "metadata": {},
     "output_type": "execute_result"
    }
   ],
   "execution_count": 23
  },
  {
   "metadata": {},
   "cell_type": "markdown",
   "source": [
    "<div style=\"text-align: center\">\n",
    "\n",
    "<div>\n",
    "    @LiterallyTheOne — PhD Candidate in Artificial Intelligence\n",
    "</div>\n",
    "\n",
    "<a style=\"margin: 1em\" href=\"https://literallytheone.github.io\">\n",
    "https://literallytheone.github.io\n",
    "</a>\n",
    "\n",
    "</div>\n"
   ],
   "id": "7e5329a75d4f51e3"
  }
 ],
 "metadata": {
  "kernelspec": {
   "display_name": "Python 3",
   "language": "python",
   "name": "python3"
  },
  "language_info": {
   "codemirror_mode": {
    "name": "ipython",
    "version": 2
   },
   "file_extension": ".py",
   "mimetype": "text/x-python",
   "name": "python",
   "nbconvert_exporter": "python",
   "pygments_lexer": "ipython2",
   "version": "2.7.6"
  }
 },
 "nbformat": 4,
 "nbformat_minor": 5
}
