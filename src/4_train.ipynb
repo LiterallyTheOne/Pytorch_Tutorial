{
 "cells": [
  {
   "metadata": {
    "collapsed": true
   },
   "cell_type": "markdown",
   "source": "# <div style=\"text-align: center; color: cyan\">Train</div>",
   "id": "41f3c8f5071ef78c"
  },
  {
   "metadata": {},
   "cell_type": "markdown",
   "source": "## <div style=\"text-align: center; color: lime\">Imports</div>",
   "id": "1c492126ad507e8e"
  },
  {
   "metadata": {
    "ExecuteTime": {
     "end_time": "2025-08-18T08:56:32.869736Z",
     "start_time": "2025-08-18T08:56:31.576762Z"
    }
   },
   "cell_type": "code",
   "source": [
    "import torch\n",
    "from torch import nn\n",
    "from torch.utils.data import Dataset, DataLoader, random_split\n",
    "\n",
    "from sklearn.datasets import load_iris"
   ],
   "id": "d2afa60a64620442",
   "outputs": [],
   "execution_count": 2
  },
  {
   "metadata": {},
   "cell_type": "markdown",
   "source": "## <div style=\"text-align: center; color: lime\">Load the data and make the model </div>",
   "id": "9e672158e7d1596"
  },
  {
   "metadata": {
    "ExecuteTime": {
     "end_time": "2025-08-18T08:56:32.886899Z",
     "start_time": "2025-08-18T08:56:32.877038Z"
    }
   },
   "cell_type": "code",
   "source": [
    "iris = load_iris()\n",
    "\n",
    "data = torch.tensor(iris.data).to(torch.float)\n",
    "target = torch.tensor(iris.target).to(torch.float)"
   ],
   "id": "241c79ec25e46484",
   "outputs": [],
   "execution_count": 3
  },
  {
   "metadata": {
    "ExecuteTime": {
     "end_time": "2025-08-18T08:56:33.005598Z",
     "start_time": "2025-08-18T08:56:33.003403Z"
    }
   },
   "cell_type": "code",
   "source": [
    "class IRISDataset(Dataset):\n",
    "    def __init__(self, data, target):\n",
    "        super().__init__()\n",
    "        self.data = data\n",
    "        self.target = target\n",
    "\n",
    "    def __len__(self):\n",
    "        return len(self.data)\n",
    "\n",
    "    def __getitem__(self, idx):\n",
    "        return self.data[idx], self.target[idx]\n",
    "\n",
    "\n",
    "iris_dataset = IRISDataset(data, target)"
   ],
   "id": "b97656666726376d",
   "outputs": [],
   "execution_count": 4
  },
  {
   "metadata": {
    "ExecuteTime": {
     "end_time": "2025-08-18T08:57:09.476739Z",
     "start_time": "2025-08-18T08:57:09.469162Z"
    }
   },
   "cell_type": "code",
   "source": [
    "g1 = torch.Generator().manual_seed(20)\n",
    "train_data, val_data, test_data = random_split(iris_dataset, [0.7, 0.2, 0.1], g1)\n",
    "\n",
    "train_loader = DataLoader(train_data, batch_size=10, shuffle=True)\n",
    "val_loader = DataLoader(val_data, batch_size=10, shuffle=False)\n",
    "test_loader = DataLoader(test_data, batch_size=10, shuffle=False)"
   ],
   "id": "931f73d058a98fd6",
   "outputs": [],
   "execution_count": 5
  },
  {
   "metadata": {
    "ExecuteTime": {
     "end_time": "2025-08-18T08:57:29.533990Z",
     "start_time": "2025-08-18T08:57:29.525526Z"
    }
   },
   "cell_type": "code",
   "source": [
    "class IRISClassifier(nn.Module):\n",
    "    def __init__(self):\n",
    "        super().__init__()\n",
    "\n",
    "        self.layers = nn.Sequential(\n",
    "            nn.Linear(4, 16),\n",
    "            nn.Linear(16, 8),\n",
    "            nn.Linear(8, 3),\n",
    "        )\n",
    "\n",
    "    def forward(self, x):\n",
    "        return self.layers(x)\n",
    "\n",
    "iris_classifier = IRISClassifier()"
   ],
   "id": "3a521047b159a230",
   "outputs": [],
   "execution_count": 6
  },
  {
   "metadata": {},
   "cell_type": "markdown",
   "source": [
    "<div style=\"text-align: center\">\n",
    "\n",
    "<div>\n",
    "    @LiterallyTheOne — PhD Candidate in Artificial Intelligence\n",
    "</div>\n",
    "\n",
    "<a style=\"margin: 1em\" href=\"https://literallytheone.github.io\">\n",
    "https://literallytheone.github.io\n",
    "</a>\n",
    "\n",
    "</div>\n"
   ],
   "id": "8cd403317132c31b"
  }
 ],
 "metadata": {
  "kernelspec": {
   "display_name": "Python 3",
   "language": "python",
   "name": "python3"
  },
  "language_info": {
   "codemirror_mode": {
    "name": "ipython",
    "version": 2
   },
   "file_extension": ".py",
   "mimetype": "text/x-python",
   "name": "python",
   "nbconvert_exporter": "python",
   "pygments_lexer": "ipython2",
   "version": "2.7.6"
  }
 },
 "nbformat": 4,
 "nbformat_minor": 5
}
