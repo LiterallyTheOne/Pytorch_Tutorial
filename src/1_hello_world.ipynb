{
 "cells": [
  {
   "metadata": {
    "collapsed": true
   },
   "cell_type": "markdown",
   "source": "# <div style=\"text-align: center; color: cyan\">Hello world</div>",
   "id": "41f3c8f5071ef78c"
  },
  {
   "metadata": {},
   "cell_type": "markdown",
   "source": "## <div style=\"text-align: center; color: lime\">Imports</div>",
   "id": "1c492126ad507e8e"
  },
  {
   "metadata": {
    "ExecuteTime": {
     "end_time": "2025-08-13T05:13:41.453259Z",
     "start_time": "2025-08-13T05:13:40.819220Z"
    }
   },
   "cell_type": "code",
   "source": [
    "import torch\n",
    "from torch import nn"
   ],
   "id": "d2afa60a64620442",
   "outputs": [],
   "execution_count": 2
  },
  {
   "metadata": {},
   "cell_type": "markdown",
   "source": "## <div style=\"text-align: center; color: lime\">Data</div>",
   "id": "4d4864d66a668b8a"
  },
  {
   "metadata": {
    "ExecuteTime": {
     "end_time": "2025-08-13T05:13:41.469185Z",
     "start_time": "2025-08-13T05:13:41.465124Z"
    }
   },
   "cell_type": "code",
   "source": "a = torch.rand((1, 10)) # (batch_size, features)",
   "id": "b66f5017479289ec",
   "outputs": [],
   "execution_count": 3
  },
  {
   "metadata": {},
   "cell_type": "markdown",
   "source": "## <div style=\"text-align: center; color: lime\">Model</div>",
   "id": "d06151bff6374e14"
  },
  {
   "metadata": {
    "ExecuteTime": {
     "end_time": "2025-08-13T05:13:42.146374Z",
     "start_time": "2025-08-13T05:13:42.140402Z"
    }
   },
   "cell_type": "code",
   "source": "model = nn.Linear(10, 5) # (features, number_of_classes)",
   "id": "3199bd7788e3dec9",
   "outputs": [],
   "execution_count": 4
  },
  {
   "metadata": {},
   "cell_type": "markdown",
   "source": "## <div style=\"text-align: center; color: lime\">Feed the data to the model</div>",
   "id": "ce3fd141b9039a9e"
  },
  {
   "metadata": {
    "ExecuteTime": {
     "end_time": "2025-08-13T05:14:17.593444Z",
     "start_time": "2025-08-13T05:14:17.589027Z"
    }
   },
   "cell_type": "code",
   "source": "logits = model(a)",
   "id": "b0684402623d10ae",
   "outputs": [],
   "execution_count": 6
  },
  {
   "metadata": {
    "ExecuteTime": {
     "end_time": "2025-08-13T05:15:00.475105Z",
     "start_time": "2025-08-13T05:15:00.471879Z"
    }
   },
   "cell_type": "code",
   "source": [
    "result = logits.argmax(1)\n",
    "print(result)"
   ],
   "id": "da92a703c00674f9",
   "outputs": [
    {
     "name": "stdout",
     "output_type": "stream",
     "text": [
      "tensor([1])\n"
     ]
    }
   ],
   "execution_count": 11
  }
 ],
 "metadata": {
  "kernelspec": {
   "display_name": "Python 3",
   "language": "python",
   "name": "python3"
  },
  "language_info": {
   "codemirror_mode": {
    "name": "ipython",
    "version": 2
   },
   "file_extension": ".py",
   "mimetype": "text/x-python",
   "name": "python",
   "nbconvert_exporter": "python",
   "pygments_lexer": "ipython2",
   "version": "2.7.6"
  }
 },
 "nbformat": 4,
 "nbformat_minor": 5
}
