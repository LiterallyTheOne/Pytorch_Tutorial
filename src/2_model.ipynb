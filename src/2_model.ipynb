{
 "cells": [
  {
   "metadata": {},
   "cell_type": "markdown",
   "source": [
    "<div style=\"text-align: center\">\n",
    "    <a\n",
    "     href=\"https://colab.research.google.com/github/LiterallyTheOne/Pytorch_Tutorial/blob/main/src/2_model.ipynb\"\n",
    "     target=\"_parent\">\n",
    "        <img src=\"https://colab.research.google.com/assets/colab-badge.svg\" alt=\"Open In Colab\"/>\n",
    "    </a>\n",
    "</div>\n"
   ],
   "id": "2ea9c3583ec11cd5"
  },
  {
   "metadata": {
    "collapsed": true
   },
   "cell_type": "markdown",
   "source": "# <div style=\"text-align: center; color: cyan\">Model</div>",
   "id": "41f3c8f5071ef78c"
  },
  {
   "metadata": {},
   "cell_type": "markdown",
   "source": "## <div style=\"text-align: center; color: lime\">Imports</div>",
   "id": "1c492126ad507e8e"
  },
  {
   "metadata": {
    "ExecuteTime": {
     "end_time": "2025-08-17T06:48:50.288455Z",
     "start_time": "2025-08-17T06:48:49.515503Z"
    }
   },
   "cell_type": "code",
   "source": [
    "import torch\n",
    "from torch import nn"
   ],
   "id": "d2afa60a64620442",
   "outputs": [],
   "execution_count": 2
  },
  {
   "metadata": {},
   "cell_type": "markdown",
   "source": "## <div style=\"text-align: center; color: lime\">Sequential</div>",
   "id": "9e672158e7d1596"
  },
  {
   "metadata": {
    "ExecuteTime": {
     "end_time": "2025-08-17T06:48:50.298619Z",
     "start_time": "2025-08-17T06:48:50.292629Z"
    }
   },
   "cell_type": "code",
   "source": [
    "model_2 = nn.Sequential(\n",
    "    nn.Linear(8, 16),\n",
    "    nn.Linear(16, 4),\n",
    ")"
   ],
   "id": "967c2890fcf51005",
   "outputs": [],
   "execution_count": 3
  },
  {
   "metadata": {
    "ExecuteTime": {
     "end_time": "2025-08-17T06:48:50.327996Z",
     "start_time": "2025-08-17T06:48:50.307357Z"
    }
   },
   "cell_type": "code",
   "source": [
    "data = torch.rand((3, 8))\n",
    "result = model_2(data)\n",
    "\n",
    "print(result)"
   ],
   "id": "fddb52855d1b3c57",
   "outputs": [
    {
     "name": "stdout",
     "output_type": "stream",
     "text": [
      "tensor([[ 0.4628,  0.2211,  0.0679, -0.1155],\n",
      "        [ 0.5002,  0.1515, -0.0235, -0.2743],\n",
      "        [ 0.3082,  0.1182, -0.0379, -0.2231]], grad_fn=<AddmmBackward0>)\n"
     ]
    }
   ],
   "execution_count": 4
  },
  {
   "metadata": {
    "ExecuteTime": {
     "end_time": "2025-08-17T06:48:50.348536Z",
     "start_time": "2025-08-17T06:48:50.346162Z"
    }
   },
   "cell_type": "code",
   "source": [
    "model_3 = nn.Sequential(\n",
    "    nn.Linear(8, 16),\n",
    "    nn.Linear(16, 32),\n",
    "    nn.Linear(32, 4),\n",
    ")"
   ],
   "id": "8d6f612cc33ecac4",
   "outputs": [],
   "execution_count": 5
  },
  {
   "metadata": {
    "ExecuteTime": {
     "end_time": "2025-08-17T06:48:50.418202Z",
     "start_time": "2025-08-17T06:48:50.414661Z"
    }
   },
   "cell_type": "code",
   "source": [
    "data = torch.rand((3, 8))\n",
    "result = model_3(data)\n",
    "\n",
    "print(result)"
   ],
   "id": "57bb1939c95af26d",
   "outputs": [
    {
     "name": "stdout",
     "output_type": "stream",
     "text": [
      "tensor([[ 0.1217,  0.0501,  0.0438, -0.0664],\n",
      "        [ 0.0818,  0.1063,  0.0646, -0.0404],\n",
      "        [ 0.1090,  0.1851,  0.1897, -0.0982]], grad_fn=<AddmmBackward0>)\n"
     ]
    }
   ],
   "execution_count": 6
  },
  {
   "metadata": {},
   "cell_type": "markdown",
   "source": "## <div style=\"text-align: center; color: lime\">Standard way of defining a model</div>",
   "id": "641e2339657933bb"
  },
  {
   "metadata": {
    "ExecuteTime": {
     "end_time": "2025-08-17T06:48:50.783205Z",
     "start_time": "2025-08-17T06:48:50.780241Z"
    }
   },
   "cell_type": "code",
   "source": [
    "class MyModel(nn.Module):\n",
    "    def __init__(self):\n",
    "        super().__init__()\n",
    "\n",
    "        self.layers = nn.Sequential(\n",
    "            nn.Linear(8, 16),\n",
    "            nn.Linear(16, 32),\n",
    "            nn.Linear(32, 4),\n",
    "        )\n",
    "\n",
    "    def forward(self, x):\n",
    "        x = self.layers(x)\n",
    "        return x\n"
   ],
   "id": "8ac51e4d0f86053c",
   "outputs": [],
   "execution_count": 7
  },
  {
   "metadata": {
    "ExecuteTime": {
     "end_time": "2025-08-17T06:48:50.975853Z",
     "start_time": "2025-08-17T06:48:50.973569Z"
    }
   },
   "cell_type": "code",
   "source": [
    "my_model = MyModel()\n",
    "\n",
    "print(my_model)"
   ],
   "id": "18e716653ecbc694",
   "outputs": [
    {
     "name": "stdout",
     "output_type": "stream",
     "text": [
      "MyModel(\n",
      "  (layers): Sequential(\n",
      "    (0): Linear(in_features=8, out_features=16, bias=True)\n",
      "    (1): Linear(in_features=16, out_features=32, bias=True)\n",
      "    (2): Linear(in_features=32, out_features=4, bias=True)\n",
      "  )\n",
      ")\n"
     ]
    }
   ],
   "execution_count": 8
  },
  {
   "metadata": {
    "ExecuteTime": {
     "end_time": "2025-08-17T06:48:51.181797Z",
     "start_time": "2025-08-17T06:48:51.178880Z"
    }
   },
   "cell_type": "code",
   "source": [
    "data = torch.rand((3, 8))\n",
    "\n",
    "result = my_model(data)\n",
    "print(result)"
   ],
   "id": "ace7b00ab0418b49",
   "outputs": [
    {
     "name": "stdout",
     "output_type": "stream",
     "text": [
      "tensor([[ 0.0029, -0.1755, -0.0807, -0.0575],\n",
      "        [ 0.0041, -0.1062, -0.1004,  0.0481],\n",
      "        [ 0.0467, -0.1093, -0.1092,  0.0350]], grad_fn=<AddmmBackward0>)\n"
     ]
    }
   ],
   "execution_count": 9
  },
  {
   "metadata": {
    "ExecuteTime": {
     "end_time": "2025-08-17T06:48:51.506634Z",
     "start_time": "2025-08-17T06:48:51.502844Z"
    }
   },
   "cell_type": "code",
   "source": [
    "class MyModel2(nn.Module):\n",
    "    def __init__(self):\n",
    "        super().__init__()\n",
    "\n",
    "        self.layers_1 = nn.Sequential(\n",
    "            nn.Linear(8, 16),\n",
    "            nn.Linear(16, 32),\n",
    "        )\n",
    "\n",
    "        self.layers_2 = nn.Sequential(\n",
    "            nn.Linear(32, 16),\n",
    "            nn.Linear(16, 4),\n",
    "        )\n",
    "\n",
    "    def forward(self, x):\n",
    "        x = self.layers_1(x)\n",
    "        x = self.layers_2(x)\n",
    "        return x\n"
   ],
   "id": "7a9644ea55cc71fc",
   "outputs": [],
   "execution_count": 10
  },
  {
   "metadata": {
    "ExecuteTime": {
     "end_time": "2025-08-17T06:48:51.839993Z",
     "start_time": "2025-08-17T06:48:51.836743Z"
    }
   },
   "cell_type": "code",
   "source": [
    "my_model_2 = MyModel2()\n",
    "\n",
    "print(my_model_2)"
   ],
   "id": "d54383ea69ad816e",
   "outputs": [
    {
     "name": "stdout",
     "output_type": "stream",
     "text": [
      "MyModel2(\n",
      "  (layers_1): Sequential(\n",
      "    (0): Linear(in_features=8, out_features=16, bias=True)\n",
      "    (1): Linear(in_features=16, out_features=32, bias=True)\n",
      "  )\n",
      "  (layers_2): Sequential(\n",
      "    (0): Linear(in_features=32, out_features=16, bias=True)\n",
      "    (1): Linear(in_features=16, out_features=4, bias=True)\n",
      "  )\n",
      ")\n"
     ]
    }
   ],
   "execution_count": 11
  },
  {
   "metadata": {
    "ExecuteTime": {
     "end_time": "2025-08-17T06:48:52.321907Z",
     "start_time": "2025-08-17T06:48:52.317570Z"
    }
   },
   "cell_type": "code",
   "source": [
    "data = torch.rand((3, 8))\n",
    "\n",
    "result = my_model_2(data)\n",
    "print(result)\n"
   ],
   "id": "98727285410f4e5e",
   "outputs": [
    {
     "name": "stdout",
     "output_type": "stream",
     "text": [
      "tensor([[ 0.0159,  0.0748, -0.0380,  0.0950],\n",
      "        [ 0.0352,  0.0939, -0.1671,  0.0441],\n",
      "        [ 0.0777,  0.0626, -0.0552,  0.0902]], grad_fn=<AddmmBackward0>)\n"
     ]
    }
   ],
   "execution_count": 12
  },
  {
   "metadata": {},
   "cell_type": "markdown",
   "source": "## <div style=\"text-align: center; color: lime\">Run on accelerator</div>",
   "id": "2f8bbf745223bc21"
  },
  {
   "metadata": {
    "ExecuteTime": {
     "end_time": "2025-08-17T06:48:53.557598Z",
     "start_time": "2025-08-17T06:48:53.539220Z"
    }
   },
   "cell_type": "code",
   "source": [
    "if torch.accelerator.is_available():\n",
    "    device = torch.accelerator.current_accelerator()\n",
    "else:\n",
    "    device = \"cpu\"\n",
    "\n",
    "print(device)\n"
   ],
   "id": "e825338cfd5da47a",
   "outputs": [
    {
     "name": "stdout",
     "output_type": "stream",
     "text": [
      "mps\n"
     ]
    }
   ],
   "execution_count": 13
  },
  {
   "metadata": {
    "ExecuteTime": {
     "end_time": "2025-08-17T06:50:11.676430Z",
     "start_time": "2025-08-17T06:50:11.447232Z"
    }
   },
   "cell_type": "code",
   "source": [
    "data = torch.rand((3, 8))\n",
    "my_model_2 = MyModel2()\n",
    "\n",
    "data = data.to(device)\n",
    "my_model_2 = my_model_2.to(device)\n",
    "\n",
    "result = my_model_2(data)\n",
    "\n",
    "print(result)"
   ],
   "id": "bbef1336fd90fbb6",
   "outputs": [
    {
     "name": "stdout",
     "output_type": "stream",
     "text": [
      "tensor([[ 0.1318,  0.0968, -0.0257, -0.3693],\n",
      "        [ 0.0812,  0.0943, -0.0765, -0.4375],\n",
      "        [ 0.1081,  0.0463, -0.0657, -0.4549]], device='mps:0',\n",
      "       grad_fn=<LinearBackward0>)\n"
     ]
    }
   ],
   "execution_count": 14
  },
  {
   "metadata": {},
   "cell_type": "markdown",
   "source": [
    "<div style=\"text-align: center\">\n",
    "\n",
    "<div>\n",
    "    @LiterallyTheOne — PhD Candidate in Artificial Intelligence\n",
    "</div>\n",
    "\n",
    "<a style=\"margin: 1em\" href=\"https://literallytheone.github.io\">\n",
    "https://literallytheone.github.io\n",
    "</a>\n",
    "\n",
    "</div>\n"
   ],
   "id": "8cd403317132c31b"
  }
 ],
 "metadata": {
  "kernelspec": {
   "display_name": "Python 3",
   "language": "python",
   "name": "python3"
  },
  "language_info": {
   "codemirror_mode": {
    "name": "ipython",
    "version": 2
   },
   "file_extension": ".py",
   "mimetype": "text/x-python",
   "name": "python",
   "nbconvert_exporter": "python",
   "pygments_lexer": "ipython2",
   "version": "2.7.6"
  }
 },
 "nbformat": 4,
 "nbformat_minor": 5
}
