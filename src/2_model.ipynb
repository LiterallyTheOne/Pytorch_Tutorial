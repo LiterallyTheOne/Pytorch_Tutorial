{
 "cells": [
  {
   "metadata": {
    "collapsed": true
   },
   "cell_type": "markdown",
   "source": "# <div style=\"text-align: center; color: cyan\">Model</div>",
   "id": "41f3c8f5071ef78c"
  },
  {
   "metadata": {},
   "cell_type": "markdown",
   "source": "## <div style=\"text-align: center; color: lime\">Imports</div>",
   "id": "1c492126ad507e8e"
  },
  {
   "metadata": {
    "ExecuteTime": {
     "end_time": "2025-08-17T05:20:42.752673Z",
     "start_time": "2025-08-17T05:20:41.983802Z"
    }
   },
   "cell_type": "code",
   "source": [
    "import torch\n",
    "from torch import nn"
   ],
   "id": "d2afa60a64620442",
   "outputs": [],
   "execution_count": 1
  },
  {
   "metadata": {},
   "cell_type": "markdown",
   "source": "## <div style=\"text-align: center; color: lime\">Sequential</div>",
   "id": "9e672158e7d1596"
  },
  {
   "metadata": {
    "ExecuteTime": {
     "end_time": "2025-08-17T05:22:33.280953Z",
     "start_time": "2025-08-17T05:22:33.268884Z"
    }
   },
   "cell_type": "code",
   "source": [
    "model_2 = nn.Sequential(\n",
    "    nn.Linear(8, 16),\n",
    "    nn.Linear(16, 4),\n",
    ")"
   ],
   "id": "967c2890fcf51005",
   "outputs": [],
   "execution_count": 2
  },
  {
   "metadata": {
    "ExecuteTime": {
     "end_time": "2025-08-17T05:23:11.667283Z",
     "start_time": "2025-08-17T05:23:11.639666Z"
    }
   },
   "cell_type": "code",
   "source": [
    "data = torch.rand((3, 8))\n",
    "result = model_2(data)\n",
    "\n",
    "print(result)"
   ],
   "id": "fddb52855d1b3c57",
   "outputs": [
    {
     "name": "stdout",
     "output_type": "stream",
     "text": [
      "tensor([[ 0.3901, -0.0124, -0.1982,  0.4792],\n",
      "        [ 0.6230,  0.0920, -0.0491,  0.5871],\n",
      "        [ 0.4019,  0.0620, -0.2312,  0.4669]], grad_fn=<AddmmBackward0>)\n"
     ]
    }
   ],
   "execution_count": 3
  },
  {
   "metadata": {
    "ExecuteTime": {
     "end_time": "2025-08-17T06:03:05.692435Z",
     "start_time": "2025-08-17T06:03:05.688220Z"
    }
   },
   "cell_type": "code",
   "source": [
    "model_3 = nn.Sequential(\n",
    "    nn.Linear(8, 16),\n",
    "    nn.Linear(16, 32),\n",
    "    nn.Linear(32, 4),\n",
    ")"
   ],
   "id": "8d6f612cc33ecac4",
   "outputs": [],
   "execution_count": 6
  },
  {
   "metadata": {
    "ExecuteTime": {
     "end_time": "2025-08-17T06:03:16.732511Z",
     "start_time": "2025-08-17T06:03:16.725599Z"
    }
   },
   "cell_type": "code",
   "source": [
    "data = torch.rand((3, 8))\n",
    "result = model_3(data)\n",
    "\n",
    "print(result)"
   ],
   "id": "57bb1939c95af26d",
   "outputs": [
    {
     "name": "stdout",
     "output_type": "stream",
     "text": [
      "tensor([[-0.2115, -0.2278, -0.0586, -0.0266],\n",
      "        [-0.1489, -0.0981,  0.0675, -0.0184],\n",
      "        [-0.1330, -0.1383,  0.1055, -0.0529]], grad_fn=<AddmmBackward0>)\n"
     ]
    }
   ],
   "execution_count": 7
  },
  {
   "metadata": {},
   "cell_type": "markdown",
   "source": "## <div style=\"text-align: center; color: lime\">Standard way of defining a model</div>",
   "id": "641e2339657933bb"
  },
  {
   "metadata": {
    "ExecuteTime": {
     "end_time": "2025-08-17T06:20:51.477856Z",
     "start_time": "2025-08-17T06:20:51.473640Z"
    }
   },
   "cell_type": "code",
   "source": [
    "class MyModel(nn.Module):\n",
    "    def __init__(self):\n",
    "        super().__init__()\n",
    "\n",
    "        self.layers = nn.Sequential(\n",
    "            nn.Linear(8, 16),\n",
    "            nn.Linear(16, 32),\n",
    "            nn.Linear(32, 4),\n",
    "        )\n",
    "\n",
    "    def forward(self, x):\n",
    "        x = self.layers(x)\n",
    "        return x\n"
   ],
   "id": "8ac51e4d0f86053c",
   "outputs": [],
   "execution_count": 9
  },
  {
   "metadata": {
    "ExecuteTime": {
     "end_time": "2025-08-17T06:21:22.274512Z",
     "start_time": "2025-08-17T06:21:22.271004Z"
    }
   },
   "cell_type": "code",
   "source": [
    "my_model = MyModel()\n",
    "\n",
    "print(my_model)"
   ],
   "id": "18e716653ecbc694",
   "outputs": [
    {
     "name": "stdout",
     "output_type": "stream",
     "text": [
      "MyModel(\n",
      "  (layers): Sequential(\n",
      "    (0): Linear(in_features=8, out_features=16, bias=True)\n",
      "    (1): Linear(in_features=16, out_features=32, bias=True)\n",
      "    (2): Linear(in_features=32, out_features=4, bias=True)\n",
      "  )\n",
      ")\n"
     ]
    }
   ],
   "execution_count": 12
  },
  {
   "metadata": {
    "ExecuteTime": {
     "end_time": "2025-08-17T06:21:50.636854Z",
     "start_time": "2025-08-17T06:21:50.631910Z"
    }
   },
   "cell_type": "code",
   "source": [
    "data = torch.rand((3, 8))\n",
    "\n",
    "result = my_model(data)\n",
    "print(result)"
   ],
   "id": "ace7b00ab0418b49",
   "outputs": [
    {
     "name": "stdout",
     "output_type": "stream",
     "text": [
      "tensor([[ 0.1615, -0.0514,  0.0914, -0.1007],\n",
      "        [ 0.1709, -0.0739,  0.1314, -0.2231],\n",
      "        [ 0.0905, -0.0171,  0.1184, -0.1016]], grad_fn=<AddmmBackward0>)\n"
     ]
    }
   ],
   "execution_count": 13
  },
  {
   "metadata": {
    "ExecuteTime": {
     "end_time": "2025-08-17T06:31:19.781852Z",
     "start_time": "2025-08-17T06:31:19.778526Z"
    }
   },
   "cell_type": "code",
   "source": [
    "class MyModel2(nn.Module):\n",
    "    def __init__(self):\n",
    "        super().__init__()\n",
    "\n",
    "        self.layers_1 = nn.Sequential(\n",
    "            nn.Linear(8, 16),\n",
    "            nn.Linear(16, 32),\n",
    "        )\n",
    "\n",
    "        self.layers_2 = nn.Sequential(\n",
    "            nn.Linear(32, 16),\n",
    "            nn.Linear(16, 4),\n",
    "        )\n",
    "\n",
    "    def forward(self, x):\n",
    "        x = self.layers_1(x)\n",
    "        x = self.layers_2(x)\n",
    "        return x\n"
   ],
   "id": "7a9644ea55cc71fc",
   "outputs": [],
   "execution_count": 14
  },
  {
   "metadata": {
    "ExecuteTime": {
     "end_time": "2025-08-17T06:31:52.127315Z",
     "start_time": "2025-08-17T06:31:52.122902Z"
    }
   },
   "cell_type": "code",
   "source": [
    "my_model_2 = MyModel2()\n",
    "\n",
    "print(my_model_2)"
   ],
   "id": "d54383ea69ad816e",
   "outputs": [
    {
     "name": "stdout",
     "output_type": "stream",
     "text": [
      "MyModel2(\n",
      "  (layers_1): Sequential(\n",
      "    (0): Linear(in_features=8, out_features=16, bias=True)\n",
      "    (1): Linear(in_features=16, out_features=32, bias=True)\n",
      "  )\n",
      "  (layers_2): Sequential(\n",
      "    (0): Linear(in_features=32, out_features=16, bias=True)\n",
      "    (1): Linear(in_features=16, out_features=4, bias=True)\n",
      "  )\n",
      ")\n"
     ]
    }
   ],
   "execution_count": 15
  },
  {
   "metadata": {
    "ExecuteTime": {
     "end_time": "2025-08-17T06:31:58.794681Z",
     "start_time": "2025-08-17T06:31:58.789774Z"
    }
   },
   "cell_type": "code",
   "source": [
    "data = torch.rand((3, 8))\n",
    "\n",
    "result = my_model_2(data)\n",
    "print(result)\n"
   ],
   "id": "98727285410f4e5e",
   "outputs": [
    {
     "name": "stdout",
     "output_type": "stream",
     "text": [
      "tensor([[-0.2815,  0.2154,  0.0795, -0.0977],\n",
      "        [-0.2823,  0.2451,  0.0843, -0.0942],\n",
      "        [-0.2267,  0.2214,  0.0792, -0.0364]], grad_fn=<AddmmBackward0>)\n"
     ]
    }
   ],
   "execution_count": 16
  },
  {
   "metadata": {},
   "cell_type": "markdown",
   "source": [
    "<div style=\"text-align: center\">\n",
    "\n",
    "<div>\n",
    "    @LiterallyTheOne — PhD Candidate in Artificial Intelligence\n",
    "</div>\n",
    "\n",
    "<a style=\"margin: 1em\" href=\"https://literallytheone.github.io\">\n",
    "https://literallytheone.github.io\n",
    "</a>\n",
    "\n",
    "</div>\n"
   ],
   "id": "8cd403317132c31b"
  }
 ],
 "metadata": {
  "kernelspec": {
   "display_name": "Python 3",
   "language": "python",
   "name": "python3"
  },
  "language_info": {
   "codemirror_mode": {
    "name": "ipython",
    "version": 2
   },
   "file_extension": ".py",
   "mimetype": "text/x-python",
   "name": "python",
   "nbconvert_exporter": "python",
   "pygments_lexer": "ipython2",
   "version": "2.7.6"
  }
 },
 "nbformat": 4,
 "nbformat_minor": 5
}
