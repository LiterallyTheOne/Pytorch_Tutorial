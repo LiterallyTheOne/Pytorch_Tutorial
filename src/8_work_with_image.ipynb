{
 "cells": [
  {
   "metadata": {},
   "cell_type": "markdown",
   "source": "# <div style=\"text-align: center; color: cyan\">Work with image</div>",
   "id": "e69c52e7fb77f7e9"
  },
  {
   "metadata": {},
   "cell_type": "markdown",
   "source": "## <div style=\"text-align: center; color: lime\">Imports</div>",
   "id": "525a2d9c3ca61999"
  },
  {
   "metadata": {
    "ExecuteTime": {
     "end_time": "2025-08-28T06:24:02.748958Z",
     "start_time": "2025-08-28T06:24:02.745109Z"
    }
   },
   "cell_type": "code",
   "source": [
    "import torch\n",
    "from torch.utils.data import Dataset, DataLoader, random_split\n",
    "\n",
    "from torchvision.datasets import MNIST, ImageFolder\n",
    "from torchvision import transforms\n",
    "\n",
    "from matplotlib import pyplot as plt\n",
    "import numpy as np\n",
    "\n",
    "import kagglehub\n",
    "from pathlib import Path"
   ],
   "id": "c912ad132034ee57",
   "outputs": [],
   "execution_count": 37
  },
  {
   "metadata": {},
   "cell_type": "markdown",
   "source": "## <div style=\"text-align: center; color: lime\">Load a dataset</div>",
   "id": "c0d5d48e6c7268a3"
  },
  {
   "metadata": {
    "ExecuteTime": {
     "end_time": "2025-08-28T06:12:26.864962Z",
     "start_time": "2025-08-28T06:12:26.840259Z"
    }
   },
   "cell_type": "code",
   "source": [
    "train_data = MNIST(\"data/\", train=True, download=True)\n",
    "test_data = MNIST(\"data/\", train=False, download=True)"
   ],
   "id": "bb037b1f9098db30",
   "outputs": [],
   "execution_count": 2
  },
  {
   "metadata": {
    "ExecuteTime": {
     "end_time": "2025-08-28T06:12:27.543004Z",
     "start_time": "2025-08-28T06:12:27.537173Z"
    }
   },
   "cell_type": "code",
   "source": "isinstance(train_data, Dataset)",
   "id": "99aeeaa0b77efffc",
   "outputs": [
    {
     "data": {
      "text/plain": [
       "True"
      ]
     },
     "execution_count": 3,
     "metadata": {},
     "output_type": "execute_result"
    }
   ],
   "execution_count": 3
  },
  {
   "metadata": {
    "ExecuteTime": {
     "end_time": "2025-08-28T06:12:28.203627Z",
     "start_time": "2025-08-28T06:12:28.199945Z"
    }
   },
   "cell_type": "code",
   "source": [
    "print(f\"train_data's size: {len(train_data)}\")\n",
    "print(f\"test_data's size: {len(test_data)}\")"
   ],
   "id": "8f9b8231390fc700",
   "outputs": [
    {
     "name": "stdout",
     "output_type": "stream",
     "text": [
      "train_data's size: 60000\n",
      "test_data's size: 10000\n"
     ]
    }
   ],
   "execution_count": 4
  },
  {
   "metadata": {
    "ExecuteTime": {
     "end_time": "2025-08-28T06:12:28.793586Z",
     "start_time": "2025-08-28T06:12:28.729670Z"
    }
   },
   "cell_type": "code",
   "source": [
    "for image, label in train_data:\n",
    "    plt.imshow(image, cmap=\"gray\")\n",
    "    print(label)\n",
    "    break"
   ],
   "id": "fdc52969eab45dbe",
   "outputs": [
    {
     "name": "stdout",
     "output_type": "stream",
     "text": [
      "5\n"
     ]
    },
    {
     "data": {
      "text/plain": [
       "<Figure size 640x480 with 1 Axes>"
      ],
      "image/png": "[encoded data removed]"
     },
     "metadata": {},
     "output_type": "display_data"
    }
   ],
   "execution_count": 5
  },
  {
   "metadata": {},
   "cell_type": "markdown",
   "source": "## <div style=\"text-align: center; color: lime\">Transforms</div>",
   "id": "4c46b77d2b7d21e3"
  },
  {
   "metadata": {
    "ExecuteTime": {
     "end_time": "2025-08-28T06:12:29.744147Z",
     "start_time": "2025-08-28T06:12:29.741398Z"
    }
   },
   "cell_type": "code",
   "source": [
    "# -------------------[ Define Dataset ]-------------------\n",
    "class IRISDataset(Dataset):\n",
    "    def __init__(self, data, target):\n",
    "        super().__init__()\n",
    "        self.data = data\n",
    "        self.target = target\n",
    "\n",
    "    def __len__(self):\n",
    "        return len(self.data)\n",
    "\n",
    "    def __getitem__(self, idx):\n",
    "        data = torch.tensor(self.data[idx]).to(torch.float)\n",
    "        target = torch.tensor(self.target[idx])\n",
    "        return data, target\n"
   ],
   "id": "3ef990f84c10169c",
   "outputs": [],
   "execution_count": 6
  },
  {
   "metadata": {
    "ExecuteTime": {
     "end_time": "2025-08-28T06:12:30.266158Z",
     "start_time": "2025-08-28T06:12:30.245723Z"
    }
   },
   "cell_type": "code",
   "source": [
    "train_data = MNIST(\"data/\", train=True, download=True, transform=transforms.ToTensor())\n",
    "test_data = MNIST(\"data/\", train=False, download=True, transform=transforms.ToTensor())"
   ],
   "id": "df46e81cd1624e26",
   "outputs": [],
   "execution_count": 7
  },
  {
   "metadata": {
    "ExecuteTime": {
     "end_time": "2025-08-28T06:12:30.787025Z",
     "start_time": "2025-08-28T06:12:30.780691Z"
    }
   },
   "cell_type": "code",
   "source": [
    "for image, label in train_data:\n",
    "    print(type(image))\n",
    "    print(label)\n",
    "    break"
   ],
   "id": "a6e904dd2caf1673",
   "outputs": [
    {
     "name": "stdout",
     "output_type": "stream",
     "text": [
      "<class 'torch.Tensor'>\n",
      "5\n"
     ]
    }
   ],
   "execution_count": 8
  },
  {
   "metadata": {},
   "cell_type": "markdown",
   "source": "## <div style=\"text-align: center; color: lime\">Train, validation, and test</div>",
   "id": "68e24a51c0a75173"
  },
  {
   "metadata": {
    "ExecuteTime": {
     "end_time": "2025-08-28T06:12:31.862024Z",
     "start_time": "2025-08-28T06:12:31.859400Z"
    }
   },
   "cell_type": "code",
   "source": [
    "g1 = torch.Generator().manual_seed(20)\n",
    "val_data, test_data = random_split(test_data, [0.7, 0.3], g1)"
   ],
   "id": "c7c4eebe286b98b6",
   "outputs": [],
   "execution_count": 9
  },
  {
   "metadata": {
    "ExecuteTime": {
     "end_time": "2025-08-28T06:12:32.261429Z",
     "start_time": "2025-08-28T06:12:32.257795Z"
    }
   },
   "cell_type": "code",
   "source": [
    "print(f\"val_data's size: {len(val_data)}\")\n",
    "print(f\"test_data's size: {len(test_data)}\")"
   ],
   "id": "81aaf40fc5e54d84",
   "outputs": [
    {
     "name": "stdout",
     "output_type": "stream",
     "text": [
      "val_data's size: 7000\n",
      "test_data's size: 3000\n"
     ]
    }
   ],
   "execution_count": 10
  },
  {
   "metadata": {
    "ExecuteTime": {
     "end_time": "2025-08-28T06:12:32.622551Z",
     "start_time": "2025-08-28T06:12:32.620012Z"
    }
   },
   "cell_type": "code",
   "source": [
    "train_loader = DataLoader(train_data, batch_size=64, shuffle=True)\n",
    "val_loader = DataLoader(val_data, batch_size=64, shuffle=False)\n",
    "test_loader = DataLoader(test_data, batch_size=64, shuffle=False)"
   ],
   "id": "846abeca8fc218d0",
   "outputs": [],
   "execution_count": 11
  },
  {
   "metadata": {},
   "cell_type": "markdown",
   "source": "## <div style=\"text-align: center; color: lime\">Image Folder</div>",
   "id": "445e0ed09ab19814"
  },
  {
   "metadata": {
    "ExecuteTime": {
     "end_time": "2025-08-28T06:15:17.232875Z",
     "start_time": "2025-08-28T06:15:15.791684Z"
    }
   },
   "cell_type": "code",
   "source": [
    "path = kagglehub.dataset_download(\"balabaskar/tom-and-jerry-image-classification\")\n",
    "path = Path(path) / \"tom_and_jerry/tom_and_jerry\""
   ],
   "id": "bbe1dd1c9309c586",
   "outputs": [],
   "execution_count": 19
  },
  {
   "metadata": {
    "ExecuteTime": {
     "end_time": "2025-08-28T06:15:34.214456Z",
     "start_time": "2025-08-28T06:15:34.212325Z"
    }
   },
   "cell_type": "code",
   "source": [
    "for x in path.iterdir():\n",
    "    print(x.name)"
   ],
   "id": "34a6b485cbce83d7",
   "outputs": [
    {
     "name": "stdout",
     "output_type": "stream",
     "text": [
      "tom\n",
      "jerry\n",
      "tom_jerry_1\n",
      "tom_jerry_0\n"
     ]
    }
   ],
   "execution_count": 21
  },
  {
   "metadata": {
    "ExecuteTime": {
     "end_time": "2025-08-28T06:28:21.501880Z",
     "start_time": "2025-08-28T06:28:21.483918Z"
    }
   },
   "cell_type": "code",
   "source": [
    "tom_and_jerry_transforms = transforms.Compose([transforms.Resize([90, 160]), transforms.ToTensor()])\n",
    "\n",
    "all_data = ImageFolder(path, transform=tom_and_jerry_transforms)"
   ],
   "id": "3ec5cac97f829fba",
   "outputs": [],
   "execution_count": 42
  },
  {
   "metadata": {
    "ExecuteTime": {
     "end_time": "2025-08-28T06:29:37.733315Z",
     "start_time": "2025-08-28T06:29:37.674167Z"
    }
   },
   "cell_type": "code",
   "source": [
    "for image, label in all_data:\n",
    "    plt.figure()\n",
    "    plt.imshow(transforms.ToPILImage()(image))\n",
    "    print(label)\n",
    "    break"
   ],
   "id": "8882662a5a10d1d5",
   "outputs": [
    {
     "name": "stdout",
     "output_type": "stream",
     "text": [
      "0\n"
     ]
    },
    {
     "data": {
      "text/plain": [
       "<Figure size 640x480 with 1 Axes>"
      ],
      "image/png": "[encoded data removed]"
     },
     "metadata": {},
     "output_type": "display_data"
    }
   ],
   "execution_count": 46
  },
  {
   "metadata": {},
   "cell_type": "code",
   "outputs": [],
   "execution_count": null,
   "source": [
    "g1 = torch.Generator().manual_seed(20)\n",
    "train_data, val_data, test_data = random_split(all_data, [0.7, 0.2, 0.1], g1)"
   ],
   "id": "6dd8bf823c33c7e0"
  },
  {
   "metadata": {
    "ExecuteTime": {
     "end_time": "2025-08-28T06:31:37.018175Z",
     "start_time": "2025-08-28T06:31:37.015972Z"
    }
   },
   "cell_type": "code",
   "source": [
    "train_loader = DataLoader(train_data, batch_size=16, shuffle=True)\n",
    "val_loader = DataLoader(val_data, batch_size=16, shuffle=False)\n",
    "test_loader = DataLoader(test_data, batch_size=16, shuffle=False)"
   ],
   "id": "8516d341875b1c58",
   "outputs": [],
   "execution_count": 47
  },
  {
   "metadata": {},
   "cell_type": "markdown",
   "source": [
    "<div style=\"text-align: center\">\n",
    "\n",
    "<div>\n",
    "    @LiterallyTheOne — PhD Candidate in Artificial Intelligence\n",
    "</div>\n",
    "\n",
    "<a style=\"margin: 1em\" href=\"https://literallytheone.github.io\">\n",
    "https://literallytheone.github.io\n",
    "</a>\n",
    "\n",
    "</div>\n"
   ],
   "id": "7e5329a75d4f51e3"
  }
 ],
 "metadata": {
  "kernelspec": {
   "display_name": "Python 3",
   "language": "python",
   "name": "python3"
  },
  "language_info": {
   "codemirror_mode": {
    "name": "ipython",
    "version": 2
   },
   "file_extension": ".py",
   "mimetype": "text/x-python",
   "name": "python",
   "nbconvert_exporter": "python",
   "pygments_lexer": "ipython2",
   "version": "2.7.6"
  }
 },
 "nbformat": 4,
 "nbformat_minor": 5
}
