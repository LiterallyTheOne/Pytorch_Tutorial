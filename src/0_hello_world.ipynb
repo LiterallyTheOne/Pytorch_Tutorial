{
 "cells": [
  {
   "metadata": {
    "collapsed": true
   },
   "cell_type": "markdown",
   "source": "# <div style=\"text-align: center; color: cyan\">Hello world</div>",
   "id": "41f3c8f5071ef78c"
  },
  {
   "metadata": {},
   "cell_type": "markdown",
   "source": "## <div style=\"text-align: center; color: lime\">Imports</div>",
   "id": "1c492126ad507e8e"
  },
  {
   "metadata": {
    "ExecuteTime": {
     "end_time": "2025-08-13T06:27:49.034277Z",
     "start_time": "2025-08-13T06:27:49.031278Z"
    }
   },
   "cell_type": "code",
   "source": [
    "import torch\n",
    "from torch import nn"
   ],
   "id": "d2afa60a64620442",
   "outputs": [],
   "execution_count": 23
  },
  {
   "metadata": {},
   "cell_type": "markdown",
   "source": "## <div style=\"text-align: center; color: lime\">Data</div>",
   "id": "4d4864d66a668b8a"
  },
  {
   "metadata": {
    "ExecuteTime": {
     "end_time": "2025-08-13T06:27:49.714407Z",
     "start_time": "2025-08-13T06:27:49.710225Z"
    }
   },
   "cell_type": "code",
   "source": "data = torch.rand((3, 8)) # (number_of_samples, features)",
   "id": "b66f5017479289ec",
   "outputs": [],
   "execution_count": 24
  },
  {
   "metadata": {},
   "cell_type": "markdown",
   "source": "## <div style=\"text-align: center; color: lime\">Model</div>",
   "id": "d06151bff6374e14"
  },
  {
   "metadata": {
    "ExecuteTime": {
     "end_time": "2025-08-13T06:27:50.476995Z",
     "start_time": "2025-08-13T06:27:50.473828Z"
    }
   },
   "cell_type": "code",
   "source": "model = nn.Linear(8, 4) # (features, number_of_classes)",
   "id": "3199bd7788e3dec9",
   "outputs": [],
   "execution_count": 25
  },
  {
   "metadata": {},
   "cell_type": "markdown",
   "source": "## <div style=\"text-align: center; color: lime\">Feed the data to the model</div>",
   "id": "ce3fd141b9039a9e"
  },
  {
   "metadata": {
    "ExecuteTime": {
     "end_time": "2025-08-13T06:27:51.437119Z",
     "start_time": "2025-08-13T06:27:51.433632Z"
    }
   },
   "cell_type": "code",
   "source": [
    "logits = model(data)\n",
    "print(logits)"
   ],
   "id": "b0684402623d10ae",
   "outputs": [
    {
     "name": "stdout",
     "output_type": "stream",
     "text": [
      "tensor([[ 5.3127e-01,  6.7324e-01, -1.7548e-01, -2.0279e-02],\n",
      "        [ 5.3984e-01,  1.0462e+00, -1.0124e-01,  8.4969e-03],\n",
      "        [ 4.6493e-01,  1.0864e+00, -3.6424e-01,  8.6406e-04]],\n",
      "       grad_fn=<AddmmBackward0>)\n"
     ]
    }
   ],
   "execution_count": 26
  },
  {
   "metadata": {
    "ExecuteTime": {
     "end_time": "2025-08-13T06:27:55.077751Z",
     "start_time": "2025-08-13T06:27:55.074328Z"
    }
   },
   "cell_type": "code",
   "source": [
    "result = logits.argmax(1)\n",
    "print(result)"
   ],
   "id": "da92a703c00674f9",
   "outputs": [
    {
     "name": "stdout",
     "output_type": "stream",
     "text": [
      "tensor([1, 1, 1])\n"
     ]
    }
   ],
   "execution_count": 27
  },
  {
   "metadata": {},
   "cell_type": "markdown",
   "source": [
    "<div style=\"text-align: center\">\n",
    "\n",
    "<div>\n",
    "    @LiterallyTheOne — PhD Candidate in Artificial Intelligence\n",
    "</div>\n",
    "\n",
    "<a style=\"margin: 1em\" href=\"https://literallytheone.github.io\">\n",
    "https://literallytheone.github.io\n",
    "</a>\n",
    "\n",
    "</div>\n"
   ],
   "id": "8cd403317132c31b"
  }
 ],
 "metadata": {
  "kernelspec": {
   "display_name": "Python 3",
   "language": "python",
   "name": "python3"
  },
  "language_info": {
   "codemirror_mode": {
    "name": "ipython",
    "version": 2
   },
   "file_extension": ".py",
   "mimetype": "text/x-python",
   "name": "python",
   "nbconvert_exporter": "python",
   "pygments_lexer": "ipython2",
   "version": "2.7.6"
  }
 },
 "nbformat": 4,
 "nbformat_minor": 5
}
