{
  "cells": [
    {
      "cell_type": "markdown",
      "metadata": {
        "id": "view-in-github",
        "colab_type": "text"
      },
      "source": [
        "<a href=\"https://colab.research.google.com/github/LiterallyTheOne/Pytorch_Tutorial/blob/main/src/0_hello_world.ipynb\" target=\"_parent\"><img src=\"https://colab.research.google.com/assets/colab-badge.svg\" alt=\"Open In Colab\"/></a>"
      ]
    },
    {
      "metadata": {
        "collapsed": true,
        "id": "41f3c8f5071ef78c"
      },
      "cell_type": "markdown",
      "source": [
        "# <div style=\"text-align: center; color: cyan\">Hello world</div>"
      ],
      "id": "41f3c8f5071ef78c"
    },
    {
      "metadata": {
        "id": "1c492126ad507e8e"
      },
      "cell_type": "markdown",
      "source": [
        "## <div style=\"text-align: center; color: lime\">Imports</div>"
      ],
      "id": "1c492126ad507e8e"
    },
    {
      "metadata": {
        "ExecuteTime": {
          "end_time": "2025-08-13T06:27:49.034277Z",
          "start_time": "2025-08-13T06:27:49.031278Z"
        },
        "id": "d2afa60a64620442"
      },
      "cell_type": "code",
      "source": [
        "import torch\n",
        "from torch import nn"
      ],
      "id": "d2afa60a64620442",
      "outputs": [],
      "execution_count": 1
    },
    {
      "metadata": {
        "id": "4d4864d66a668b8a"
      },
      "cell_type": "markdown",
      "source": [
        "## <div style=\"text-align: center; color: lime\">Data</div>"
      ],
      "id": "4d4864d66a668b8a"
    },
    {
      "metadata": {
        "ExecuteTime": {
          "end_time": "2025-08-13T06:27:49.714407Z",
          "start_time": "2025-08-13T06:27:49.710225Z"
        },
        "id": "b66f5017479289ec"
      },
      "cell_type": "code",
      "source": [
        "data = torch.rand((3, 8)) # (number_of_samples, features)"
      ],
      "id": "b66f5017479289ec",
      "outputs": [],
      "execution_count": 2
    },
    {
      "metadata": {
        "id": "d06151bff6374e14"
      },
      "cell_type": "markdown",
      "source": [
        "## <div style=\"text-align: center; color: lime\">Model</div>"
      ],
      "id": "d06151bff6374e14"
    },
    {
      "metadata": {
        "ExecuteTime": {
          "end_time": "2025-08-13T06:27:50.476995Z",
          "start_time": "2025-08-13T06:27:50.473828Z"
        },
        "id": "3199bd7788e3dec9"
      },
      "cell_type": "code",
      "source": [
        "model = nn.Linear(8, 4) # (features, number_of_classes)"
      ],
      "id": "3199bd7788e3dec9",
      "outputs": [],
      "execution_count": 3
    },
    {
      "metadata": {
        "id": "ce3fd141b9039a9e"
      },
      "cell_type": "markdown",
      "source": [
        "## <div style=\"text-align: center; color: lime\">Feed the data to the model</div>"
      ],
      "id": "ce3fd141b9039a9e"
    },
    {
      "metadata": {
        "ExecuteTime": {
          "end_time": "2025-08-13T06:27:51.437119Z",
          "start_time": "2025-08-13T06:27:51.433632Z"
        },
        "id": "b0684402623d10ae",
        "outputId": "1db69f09-951a-4215-fe16-3c09f9770d17",
        "colab": {
          "base_uri": "https://localhost:8080/"
        }
      },
      "cell_type": "code",
      "source": [
        "logits = model(data)\n",
        "print(logits)"
      ],
      "id": "b0684402623d10ae",
      "outputs": [
        {
          "output_type": "stream",
          "name": "stdout",
          "text": [
            "tensor([[ 0.2322,  0.0629, -0.0245, -0.3579],\n",
            "        [-0.0298, -0.3250,  0.1641, -0.2894],\n",
            "        [ 0.6852,  0.4590,  0.1339, -0.3299]], grad_fn=<AddmmBackward0>)\n"
          ]
        }
      ],
      "execution_count": 4
    },
    {
      "metadata": {
        "ExecuteTime": {
          "end_time": "2025-08-13T06:27:55.077751Z",
          "start_time": "2025-08-13T06:27:55.074328Z"
        },
        "id": "da92a703c00674f9",
        "outputId": "ae3f9d84-423b-47ca-a712-c18c290bdfa2",
        "colab": {
          "base_uri": "https://localhost:8080/"
        }
      },
      "cell_type": "code",
      "source": [
        "result = logits.argmax(1)\n",
        "print(result)"
      ],
      "id": "da92a703c00674f9",
      "outputs": [
        {
          "output_type": "stream",
          "name": "stdout",
          "text": [
            "tensor([0, 2, 0])\n"
          ]
        }
      ],
      "execution_count": 5
    },
    {
      "metadata": {
        "id": "8cd403317132c31b"
      },
      "cell_type": "markdown",
      "source": [
        "<div style=\"text-align: center\">\n",
        "\n",
        "<div>\n",
        "    @LiterallyTheOne — PhD Candidate in Artificial Intelligence\n",
        "</div>\n",
        "\n",
        "<a style=\"margin: 1em\" href=\"https://literallytheone.github.io\">\n",
        "https://literallytheone.github.io\n",
        "</a>\n",
        "\n",
        "</div>\n"
      ],
      "id": "8cd403317132c31b"
    }
  ],
  "metadata": {
    "kernelspec": {
      "display_name": "Python 3",
      "language": "python",
      "name": "python3"
    },
    "language_info": {
      "codemirror_mode": {
        "name": "ipython",
        "version": 2
      },
      "file_extension": ".py",
      "mimetype": "text/x-python",
      "name": "python",
      "nbconvert_exporter": "python",
      "pygments_lexer": "ipython2",
      "version": "2.7.6"
    },
    "colab": {
      "provenance": [],
      "include_colab_link": true
    }
  },
  "nbformat": 4,
  "nbformat_minor": 5
}