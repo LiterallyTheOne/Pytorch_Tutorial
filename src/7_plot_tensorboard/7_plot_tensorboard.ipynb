{
 "cells": [
  {
   "metadata": {},
   "cell_type": "markdown",
   "source": "# <div style=\"text-align: center; color: cyan\">Plot and TensorBoard</div>",
   "id": "e69c52e7fb77f7e9"
  },
  {
   "metadata": {},
   "cell_type": "markdown",
   "source": "## <div style=\"text-align: center; color: lime\">Setup</div>",
   "id": "9706c36d685260fd"
  },
  {
   "metadata": {
    "ExecuteTime": {
     "end_time": "2025-08-27T08:57:19.839217Z",
     "start_time": "2025-08-27T08:57:19.835227Z"
    }
   },
   "cell_type": "code",
   "source": [
    "import os\n",
    "\n",
    "if os.getenv(\"COLAB_RELEASE_TAG\"):\n",
    "    !git clone https://github.com/LiterallyTheOne/Pytorch_Tutorial.git\n",
    "\n",
    "    %cd src/7_plot_tensorboard"
   ],
   "id": "9bb574c78e7058d7",
   "outputs": [],
   "execution_count": 5
  },
  {
   "metadata": {},
   "cell_type": "markdown",
   "source": "## <div style=\"text-align: center; color: lime\">Imports</div>",
   "id": "48b90b344c828bcf"
  },
  {
   "metadata": {},
   "cell_type": "code",
   "outputs": [],
   "execution_count": null,
   "source": [
    "import torch\n",
    "from torch.utils.data import Dataset, random_split\n",
    "\n",
    "from sklearn.datasets import load_iris\n",
    "from sklearn.model_selection import train_test_split\n",
    "from sklearn.preprocessing import StandardScaler\n",
    "\n",
    "import numpy as np"
   ],
   "id": "ff5d789c3b6074ac"
  },
  {
   "metadata": {},
   "cell_type": "markdown",
   "source": "## <div style=\"text-align: center; color: lime\">Modular train step and validation step</div>",
   "id": "8a18cc6cced2b2ec"
  },
  {
   "metadata": {
    "ExecuteTime": {
     "end_time": "2025-08-27T08:47:28.750145Z",
     "start_time": "2025-08-27T08:47:28.015995Z"
    }
   },
   "cell_type": "code",
   "source": "%run train_plot.py",
   "id": "82742d940367cdc7",
   "outputs": [
    {
     "name": "stdout",
     "output_type": "stream",
     "text": [
      "mps\n",
      "--------------------\n",
      "epoch: 0\n",
      "train: \n",
      "\tloss: 0.9023\n",
      "\taccuracy: 0.5333\n",
      "validation: \n",
      "\tloss: 0.9102\n",
      "\taccuracy: 0.4667\n",
      "--------------------\n",
      "epoch: 1\n",
      "train: \n",
      "\tloss: 0.8094\n",
      "\taccuracy: 0.5524\n",
      "validation: \n",
      "\tloss: 0.8297\n",
      "\taccuracy: 0.6000\n",
      "--------------------\n",
      "epoch: 2\n",
      "train: \n",
      "\tloss: 0.7279\n",
      "\taccuracy: 0.7524\n",
      "validation: \n",
      "\tloss: 0.7593\n",
      "\taccuracy: 0.8000\n",
      "--------------------\n",
      "epoch: 3\n",
      "train: \n",
      "\tloss: 0.6563\n",
      "\taccuracy: 0.8667\n",
      "validation: \n",
      "\tloss: 0.6944\n",
      "\taccuracy: 0.8000\n",
      "--------------------\n",
      "epoch: 4\n",
      "train: \n",
      "\tloss: 0.6065\n",
      "\taccuracy: 0.8667\n",
      "validation: \n",
      "\tloss: 0.6382\n",
      "\taccuracy: 0.8000\n",
      "--------------------\n",
      "epoch: 5\n",
      "train: \n",
      "\tloss: 0.5317\n",
      "\taccuracy: 0.8857\n",
      "validation: \n",
      "\tloss: 0.5950\n",
      "\taccuracy: 0.8000\n",
      "--------------------\n",
      "epoch: 6\n",
      "train: \n",
      "\tloss: 0.4839\n",
      "\taccuracy: 0.8762\n",
      "validation: \n",
      "\tloss: 0.5588\n",
      "\taccuracy: 0.7667\n",
      "--------------------\n",
      "epoch: 7\n",
      "train: \n",
      "\tloss: 0.4696\n",
      "\taccuracy: 0.8762\n",
      "validation: \n",
      "\tloss: 0.5284\n",
      "\taccuracy: 0.7667\n",
      "--------------------\n",
      "epoch: 8\n",
      "train: \n",
      "\tloss: 0.4249\n",
      "\taccuracy: 0.8857\n",
      "validation: \n",
      "\tloss: 0.5032\n",
      "\taccuracy: 0.8000\n",
      "--------------------\n",
      "epoch: 9\n",
      "train: \n",
      "\tloss: 0.3985\n",
      "\taccuracy: 0.8857\n",
      "validation: \n",
      "\tloss: 0.4816\n",
      "\taccuracy: 0.8000\n",
      "--------------------\n",
      "epoch: 10\n",
      "train: \n",
      "\tloss: 0.3651\n",
      "\taccuracy: 0.8952\n",
      "validation: \n",
      "\tloss: 0.4633\n",
      "\taccuracy: 0.8000\n",
      "--------------------\n",
      "epoch: 11\n",
      "train: \n",
      "\tloss: 0.3563\n",
      "\taccuracy: 0.8952\n",
      "validation: \n",
      "\tloss: 0.4472\n",
      "\taccuracy: 0.8000\n",
      "--------------------\n",
      "epoch: 12\n",
      "train: \n",
      "\tloss: 0.3450\n",
      "\taccuracy: 0.8952\n",
      "validation: \n",
      "\tloss: 0.4328\n",
      "\taccuracy: 0.8333\n",
      "--------------------\n",
      "epoch: 13\n",
      "train: \n",
      "\tloss: 0.3271\n",
      "\taccuracy: 0.8952\n",
      "validation: \n",
      "\tloss: 0.4188\n",
      "\taccuracy: 0.8333\n",
      "--------------------\n",
      "epoch: 14\n",
      "train: \n",
      "\tloss: 0.3098\n",
      "\taccuracy: 0.9143\n",
      "validation: \n",
      "\tloss: 0.4060\n",
      "\taccuracy: 0.8333\n",
      "--------------------\n",
      "epoch: 15\n",
      "train: \n",
      "\tloss: 0.2875\n",
      "\taccuracy: 0.9143\n",
      "validation: \n",
      "\tloss: 0.3938\n",
      "\taccuracy: 0.8667\n",
      "--------------------\n",
      "epoch: 16\n",
      "train: \n",
      "\tloss: 0.2694\n",
      "\taccuracy: 0.9238\n",
      "validation: \n",
      "\tloss: 0.3835\n",
      "\taccuracy: 0.8667\n",
      "--------------------\n",
      "epoch: 17\n",
      "train: \n",
      "\tloss: 0.2515\n",
      "\taccuracy: 0.9333\n",
      "validation: \n",
      "\tloss: 0.3737\n",
      "\taccuracy: 0.8667\n",
      "--------------------\n",
      "epoch: 18\n",
      "train: \n",
      "\tloss: 0.2473\n",
      "\taccuracy: 0.9333\n",
      "validation: \n",
      "\tloss: 0.3651\n",
      "\taccuracy: 0.8667\n",
      "--------------------\n",
      "epoch: 19\n",
      "train: \n",
      "\tloss: 0.2452\n",
      "\taccuracy: 0.9429\n",
      "validation: \n",
      "\tloss: 0.3570\n",
      "\taccuracy: 0.8667\n",
      "--------------------\n",
      "test: \n",
      "\tloss: 0.2699\n",
      "\taccuracy: 0.9333\n"
     ]
    },
    {
     "data": {
      "text/plain": [
       "<Figure size 640x480 with 1 Axes>"
      ],
      "image/png": "[encoded data removed]"
     },
     "metadata": {},
     "output_type": "display_data"
    },
    {
     "data": {
      "text/plain": [
       "<Figure size 640x480 with 1 Axes>"
      ],
      "image/png": "[encoded data removed]"
     },
     "metadata": {},
     "output_type": "display_data"
    }
   ],
   "execution_count": 4
  },
  {
   "metadata": {},
   "cell_type": "markdown",
   "source": "## <div style=\"text-align: center; color: lime\">TensorBoard</div>",
   "id": "92f28d7c68590907"
  },
  {
   "metadata": {},
   "cell_type": "code",
   "outputs": [],
   "execution_count": null,
   "source": "",
   "id": "4298035945e25218"
  },
  {
   "metadata": {},
   "cell_type": "markdown",
   "source": [
    "<div style=\"text-align: center\">\n",
    "\n",
    "<div>\n",
    "    @LiterallyTheOne — PhD Candidate in Artificial Intelligence\n",
    "</div>\n",
    "\n",
    "<a style=\"margin: 1em\" href=\"https://literallytheone.github.io\">\n",
    "https://literallytheone.github.io\n",
    "</a>\n",
    "\n",
    "</div>\n"
   ],
   "id": "7e5329a75d4f51e3"
  }
 ],
 "metadata": {
  "kernelspec": {
   "display_name": "Python 3",
   "language": "python",
   "name": "python3"
  },
  "language_info": {
   "codemirror_mode": {
    "name": "ipython",
    "version": 2
   },
   "file_extension": ".py",
   "mimetype": "text/x-python",
   "name": "python",
   "nbconvert_exporter": "python",
   "pygments_lexer": "ipython2",
   "version": "2.7.6"
  }
 },
 "nbformat": 4,
 "nbformat_minor": 5
}
